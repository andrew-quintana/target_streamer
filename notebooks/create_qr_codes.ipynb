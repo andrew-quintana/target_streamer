{
 "cells": [
  {
   "cell_type": "code",
   "execution_count": 4,
   "metadata": {},
   "outputs": [],
   "source": [
    "import qrcode\n",
    "import PIL"
   ]
  },
  {
   "cell_type": "code",
   "execution_count": 10,
   "metadata": {},
   "outputs": [
    {
     "name": "stdout",
     "output_type": "stream",
     "text": [
      "tl https://github.com/andrew-quintana/\n",
      "tr https://www.linkedin.com/in/andrewmquintana/\n",
      "br https://andrewquintana.myportfolio.com/\n",
      "bl https://aqoutthere.com/\n"
     ]
    }
   ],
   "source": [
    "# generate QR codes for borders\n",
    "qr_encodings = {\n",
    "    \"tl\":\"https://github.com/andrew-quintana/\",\n",
    "    \"tr\":\"https://www.linkedin.com/in/andrewmquintana/\",\n",
    "    \"br\":\"https://andrewquintana.myportfolio.com/\",\n",
    "    \"bl\":\"https://aqoutthere.com/\"\n",
    "}\n",
    "\n",
    "for pos, encoding in qr_encodings.items():\n",
    "    print(pos,encoding)\n",
    "    qr = qrcode.QRCode(version=1, box_size=10, border=4)\n",
    "    qr.add_data(encoding)\n",
    "    qr.make(fit=True)\n",
    "\n",
    "    # Save the QR code image\n",
    "    img = qr.make_image(fill='black', back_color='white')\n",
    "    img.save(f\"../data/qr_codes/qr_{pos}.png\")"
   ]
  },
  {
   "cell_type": "code",
   "execution_count": null,
   "metadata": {},
   "outputs": [],
   "source": []
  }
 ],
 "metadata": {
  "kernelspec": {
   "display_name": ".venv",
   "language": "python",
   "name": "python3"
  },
  "language_info": {
   "codemirror_mode": {
    "name": "ipython",
    "version": 3
   },
   "file_extension": ".py",
   "mimetype": "text/x-python",
   "name": "python",
   "nbconvert_exporter": "python",
   "pygments_lexer": "ipython3",
   "version": "3.11.11"
  }
 },
 "nbformat": 4,
 "nbformat_minor": 2
}
