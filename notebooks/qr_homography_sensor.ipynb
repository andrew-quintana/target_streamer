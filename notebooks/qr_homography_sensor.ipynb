{
 "cells": [
  {
   "cell_type": "code",
   "execution_count": 1,
   "metadata": {},
   "outputs": [],
   "source": [
    "import cv2\n",
    "from matplotlib import pyplot as plt\n",
    "import os\n",
    "import torch\n",
    "import numpy as np\n",
    "from queue import PriorityQueue\n",
    "import time\n",
    "import psutil\n",
    "import sys"
   ]
  },
  {
   "cell_type": "code",
   "execution_count": 2,
   "metadata": {},
   "outputs": [],
   "source": [
    "def measure_processing_power(func, *args, **kwargs):\n",
    "    \"\"\"\n",
    "    Measure CPU and memory usage during the execution of a function.\n",
    "\n",
    "    Args:\n",
    "        func (callable): The function to measure.\n",
    "        *args: Positional arguments for the function.\n",
    "        **kwargs: Keyword arguments for the function.\n",
    "\n",
    "    Returns:\n",
    "        result: The result of the function execution.\n",
    "        stats: A dictionary containing CPU and memory usage stats.\n",
    "    \"\"\"\n",
    "    # Record initial stats\n",
    "    process = psutil.Process()\n",
    "    start_cpu = process.cpu_percent(interval=None)\n",
    "    start_mem = process.memory_info().rss\n",
    "    start_time = time.perf_counter()\n",
    "\n",
    "    # Run the function\n",
    "    result = func(*args, **kwargs)\n",
    "\n",
    "    # Record final stats\n",
    "    end_cpu = process.cpu_percent(interval=None)\n",
    "    end_mem = process.memory_info().rss\n",
    "    end_time = time.perf_counter()\n",
    "\n",
    "    # Calculate deltas\n",
    "    cpu_usage = end_cpu - start_cpu\n",
    "    mem_usage = end_mem - start_mem\n",
    "    duration = end_time - start_time\n",
    "\n",
    "    stats = {\n",
    "        \"CPU_Usage (%)\": cpu_usage,\n",
    "        \"Memory_Usage (bytes)\": mem_usage,\n",
    "        \"Duration (seconds)\": duration\n",
    "    }\n",
    "\n",
    "    return result, stats"
   ]
  },
  {
   "cell_type": "code",
   "execution_count": 3,
   "metadata": {},
   "outputs": [],
   "source": [
    "def draw_detections(image, detections, label_map=None, color=(0, 255, 0), thickness=5):\n",
    "    \"\"\"\n",
    "    Draw bounding boxes and labels on an image to visualize detections.\n",
    "\n",
    "    Args:\n",
    "        image (ndarray): The image on which to draw detections.\n",
    "        detections (list): List of detections. Each detection is a dictionary containing:\n",
    "            - 'x_min': Minimum x-coordinate of the bounding box.\n",
    "            - 'y_min': Minimum y-coordinate of the bounding box.\n",
    "            - 'x_max': Maximum x-coordinate of the bounding box.\n",
    "            - 'y_max': Maximum y-coordinate of the bounding box.\n",
    "            - 'label' (optional): Label or class ID of the detection.\n",
    "        label_map (dict, optional): A mapping from class IDs to human-readable labels.\n",
    "        color (tuple): Color of the bounding box (default: green).\n",
    "        thickness (int): Thickness of the bounding box lines (default: 2).\n",
    "\n",
    "    Returns:\n",
    "        annotated_image (ndarray): The image with drawn detections.\n",
    "    \"\"\"\n",
    "    annotated_image = image.copy()\n",
    "\n",
    "    for detection in detections:\n",
    "        x_min = int(detection['x_min'])\n",
    "        y_min = int(detection['y_min'])\n",
    "        x_max = int(detection['x_max'])\n",
    "        y_max = int(detection['y_max'])\n",
    "        label = detection.get('label', None)\n",
    "\n",
    "        # Draw the bounding box\n",
    "        cv2.rectangle(annotated_image, (x_min, y_min), (x_max, y_max), color, thickness)\n",
    "\n",
    "        # Draw the label if available\n",
    "        if label is not None:\n",
    "            label_text = str(label_map[label]) if label_map and label in label_map else str(label)\n",
    "            cv2.putText(\n",
    "                annotated_image,\n",
    "                label_text,\n",
    "                (x_min, y_min - 10),\n",
    "                cv2.FONT_HERSHEY_SIMPLEX,\n",
    "                2,\n",
    "                color,\n",
    "                5\n",
    "            )\n",
    "\n",
    "    return annotated_image\n",
    "\n",
    "def save_yolo_labels( labels, output_dir, image_name ):\n",
    "    os.makedirs(f\"{output_dir}/labels\", exist_ok=True)\n",
    "\n",
    "    label_path = f\"{output_dir}/labels/{image_name}.txt\"\n",
    "    with open(label_path, \"w\") as f:\n",
    "        for label in labels:\n",
    "            f.write(\" \".join(map(str, label)) + \"\\n\")\n",
    "    print(f\"Saved YOLO label file: {label_path}\")\n",
    "\n",
    "def save_annotated_image( image, detections, output_dir, image_name, suffix=\"\" ):\n",
    "    os.makedirs(f\"{output_dir}/images\", exist_ok=True)\n",
    "    annotated_image = draw_detections(image, detections)\n",
    "    annotated_image_path = f\"{output_dir}/images/{image_name}_result{suffix}.jpg\"\n",
    "    cv2.imwrite(annotated_image_path, annotated_image)\n",
    "    print(f\"Saved annotated image: {annotated_image_path}\")"
   ]
  },
  {
   "cell_type": "code",
   "execution_count": 4,
   "metadata": {},
   "outputs": [],
   "source": [
    "def qr_code_detector(image,):\n",
    "    \"\"\"\n",
    "    Detect QR codes using OpenCV and save results in YOLO format.\n",
    "\n",
    "    Args:\n",
    "        image_path (str): Path to the input image.\n",
    "        output_dir (str): Directory to save results (images and labels).\n",
    "        save_annotated (bool): If True, save the annotated image with QR code detections.\n",
    "    \"\"\"\n",
    "    \n",
    "    # Load the image\n",
    "    h, w = image.shape[:2]\n",
    "    \n",
    "    # Initialize QR Code detector\n",
    "    qr_detector = cv2.QRCodeDetector()\n",
    "\n",
    "    # Detect and decode QR codes\n",
    "    data, _, vertices, _ = qr_detector.detectAndDecodeMulti(image)\n",
    "\n",
    "    detections = []  # Store detection information for drawing\n",
    "    labels = []      # Store YOLO-format labels\n",
    "\n",
    "    if vertices is not None:\n",
    "        for i, points in enumerate(vertices):\n",
    "            # Calculate bounding box coordinates\n",
    "            x_min = points[:, 0].min()\n",
    "            y_min = points[:, 1].min()\n",
    "            x_max = points[:, 0].max()\n",
    "            y_max = points[:, 1].max()\n",
    "\n",
    "            # Append to detections for visualization\n",
    "            detections.append({\n",
    "                'x_min': x_min,\n",
    "                'y_min': y_min,\n",
    "                'x_max': x_max,\n",
    "                'y_max': y_max,\n",
    "                'label': f\"QR {i}\"  # Optional label for visualization\n",
    "            })\n",
    "\n",
    "            # Calculate YOLO-format labels\n",
    "            x_center = (x_min + x_max) / 2 / w  # Normalize by image width\n",
    "            y_center = (y_min + y_max) / 2 / h  # Normalize by image height\n",
    "            width = (x_max - x_min) / w         # Normalize width\n",
    "            height = (y_max - y_min) / h        # Normalize height\n",
    "\n",
    "            labels.append([0, x_center, y_center, width, height])  # Assuming class_id = 0 for QR codes\n",
    "    else:\n",
    "        print(f\"No QR codes detected in the image\")\n",
    "\n",
    "    return detections, labels"
   ]
  },
  {
   "cell_type": "code",
   "execution_count": null,
   "metadata": {},
   "outputs": [
    {
     "name": "stdout",
     "output_type": "stream",
     "text": [
      "Processing: ../data/test/samples/test_light_130.JPG\n",
      "[{'x_min': 1908.8589, 'y_min': 3035.5122, 'x_max': 1994.0, 'y_max': 3157.0, 'label': 'QR 0'}, {'x_min': 1903.0, 'y_min': 2585.0, 'x_max': 1992.0, 'y_max': 2708.0, 'label': 'QR 1'}, {'x_min': 2316.0, 'y_min': 1667.0, 'x_max': 3016.0, 'y_max': 2594.0, 'label': 'QR 2'}]\n",
      "Saved YOLO label file: ../data/test/results/cv2_detector//labels/test_light_130.txt\n",
      "Saved annotated image: ../data/test/results/cv2_detector//images/test_light_130_result.jpg\n",
      "Processing: ../data/test/samples/test_light_120.JPG\n",
      "[{'x_min': 1776.0, 'y_min': 2511.7073, 'x_max': 1873.1279, 'y_max': 2644.0, 'label': 'QR 0'}, {'x_min': 2317.0, 'y_min': 3028.6, 'x_max': 2440.049, 'y_max': 3183.338, 'label': 'QR 1'}]\n",
      "Saved YOLO label file: ../data/test/results/cv2_detector//labels/test_light_120.txt\n",
      "Saved annotated image: ../data/test/results/cv2_detector//images/test_light_120_result.jpg\n",
      "Processing: ../data/test/samples/test_110.JPG\n",
      "[{'x_min': 1717.1102, 'y_min': 3058.7502, 'x_max': 1861.0, 'y_max': 3263.0, 'label': 'QR 0'}, {'x_min': 2557.0, 'y_min': 2240.0, 'x_max': 2761.0, 'y_max': 2484.0, 'label': 'QR 1'}, {'x_min': 1717.0493, 'y_min': 2304.5298, 'x_max': 1866.1903, 'y_max': 2514.4285, 'label': 'QR 2'}, {'x_min': 2557.0, 'y_min': 3096.0, 'x_max': 2746.3745, 'y_max': 3333.7847, 'label': 'QR 3'}]\n",
      "Saved YOLO label file: ../data/test/results/cv2_detector//labels/test_110.txt\n",
      "Saved annotated image: ../data/test/results/cv2_detector//images/test_110_result.jpg\n",
      "Processing: ../data/test/samples/test_60.JPG\n",
      "[{'x_min': 2404.0, 'y_min': 990.0, 'x_max': 2807.0, 'y_max': 1503.0, 'label': 'QR 0'}, {'x_min': 962.63916, 'y_min': 2605.0, 'x_max': 1189.0, 'y_max': 2950.5154, 'label': 'QR 1'}, {'x_min': 2389.839, 'y_min': 2655.601, 'x_max': 2745.0, 'y_max': 3098.7688, 'label': 'QR 2'}]\n",
      "Saved YOLO label file: ../data/test/results/cv2_detector//labels/test_60.txt\n",
      "Saved annotated image: ../data/test/results/cv2_detector//images/test_60_result.jpg\n",
      "Processing: ../data/test/samples/test_light_60.JPG\n",
      "[{'x_min': 1414.6531, 'y_min': 3227.298, 'x_max': 1578.7433, 'y_max': 3486.474, 'label': 'QR 0'}, {'x_min': 1422.0, 'y_min': 2313.3013, 'x_max': 1592.0825, 'y_max': 2570.0, 'label': 'QR 1'}, {'x_min': 2436.0, 'y_min': 3341.0, 'x_max': 2693.9868, 'y_max': 3678.6663, 'label': 'QR 2'}, {'x_min': 2442.648, 'y_min': 2199.8103, 'x_max': 2726.1829, 'y_max': 2533.1138, 'label': 'QR 3'}]\n",
      "Saved YOLO label file: ../data/test/results/cv2_detector//labels/test_light_60.txt\n",
      "Saved annotated image: ../data/test/results/cv2_detector//images/test_light_60_result.jpg\n",
      "Processing: ../data/test/samples/test_light_140.JPG\n",
      "[{'x_min': 2434.0, 'y_min': 2914.0, 'x_max': 2543.0, 'y_max': 3045.0, 'label': 'QR 0'}, {'x_min': 2435.0, 'y_min': 2451.0, 'x_max': 2546.0, 'y_max': 2580.0, 'label': 'QR 1'}]\n",
      "Saved YOLO label file: ../data/test/results/cv2_detector//labels/test_light_140.txt\n",
      "Saved annotated image: ../data/test/results/cv2_detector//images/test_light_140_result.jpg\n",
      "Processing: ../data/test/samples/test_marks.JPG\n",
      "[{'x_min': 3360.4148, 'y_min': 1623.0, 'x_max': 3615.5322, 'y_max': 1899.5979, 'label': 'QR 0'}, {'x_min': 2364.7778, 'y_min': 1623.0138, 'x_max': 2547.1968, 'y_max': 1855.8821, 'label': 'QR 1'}, {'x_min': 1993.0, 'y_min': 21.0, 'x_max': 5709.0, 'y_max': 1544.0, 'label': 'QR 2'}, {'x_min': 2328.4646, 'y_min': 2476.3237, 'x_max': 2507.452, 'y_max': 2722.0, 'label': 'QR 3'}, {'x_min': 3317.0, 'y_min': 2600.667, 'x_max': 3557.0, 'y_max': 2894.2947, 'label': 'QR 4'}]\n",
      "Saved YOLO label file: ../data/test/results/cv2_detector//labels/test_marks.txt\n",
      "Saved annotated image: ../data/test/results/cv2_detector//images/test_marks_result.jpg\n",
      "Processing: ../data/test/samples/test_light_70.JPG\n"
     ]
    }
   ],
   "source": [
    "# Example Usage\n",
    "test_dir = \"../data/test/samples/\"\n",
    "cv2_results_dir = \"../data/test/results/cv2_detector/\"\n",
    "\n",
    "# Run QR code detection and save results for each image in the test directory\n",
    "for filename in os.listdir(test_dir):\n",
    "    if filename.endswith((\".jpg\", \".png\", \".jpeg\", \".JPG\")) and \"out\" not in filename and filename[0] != \".\":\n",
    "        filepath = os.path.join(test_dir, filename)\n",
    "        image_name = os.path.splitext(os.path.basename(filepath))[0]\n",
    "        print(f\"Processing: {filepath}\")\n",
    "        image = cv2.imread(filepath)\n",
    "        if image is None:\n",
    "            raise ValueError(f\"Error: Could not load image at {filepath}\")\n",
    "        cv2_detections, cv2_labels = qr_code_detector(image)\n",
    "        print(cv2_detections)\n",
    "        save_yolo_labels(cv2_labels, cv2_results_dir, image_name)\n",
    "        save_annotated_image( image, cv2_detections, cv2_results_dir, image_name)"
   ]
  },
  {
   "cell_type": "code",
   "execution_count": 6,
   "metadata": {},
   "outputs": [],
   "source": [
    "def yolo_preprocessing(image, input_size=(640, 640)):\n",
    "    \"\"\"\n",
    "    Preprocesses an image for YOLO inference.\n",
    "    \n",
    "    Args:\n",
    "        image (np.array): Image array.\n",
    "        input_size (tuple): Desired input size (width, height).\n",
    "        \n",
    "    Returns:\n",
    "        torch.Tensor: Preprocessed image tensor ready for YOLO inference.\n",
    "    \"\"\"\n",
    "    \n",
    "    # Get original dimensions\n",
    "    original_height, original_width = image.shape[:2]\n",
    "    \n",
    "    # Resize while keeping aspect ratio (letterboxing)\n",
    "    scale = min(input_size[0] / original_width, input_size[1] / original_height)\n",
    "    new_width = int(original_width * scale)\n",
    "    new_height = int(original_height * scale)\n",
    "    resized_image = cv2.resize(image, (new_width, new_height), interpolation=cv2.INTER_LINEAR)\n",
    "    \n",
    "    # Create a new blank image with the desired input size and center the resized image\n",
    "    padded_image = np.full((input_size[1], input_size[0], 3), 114, dtype=np.uint8)\n",
    "    x_offset = (input_size[0] - new_width) // 2\n",
    "    y_offset = (input_size[1] - new_height) // 2\n",
    "    padded_image[y_offset:y_offset + new_height, x_offset:x_offset + new_width] = resized_image\n",
    "    \n",
    "    # Convert BGR to RGB\n",
    "    padded_image = padded_image[:, :, ::-1]\n",
    "    \n",
    "    # Normalize to [0, 1]\n",
    "    normalized_image = padded_image / 255.0\n",
    "    \n",
    "    # Convert to channels-first format\n",
    "    transposed_image = normalized_image.transpose(2, 0, 1)  # HWC to CHW\n",
    "    \n",
    "    # Convert to torch tensor and add batch dimension\n",
    "    input_tensor = torch.from_numpy(transposed_image).unsqueeze(0).float()\n",
    "    \n",
    "    return input_tensor\n",
    "\n",
    "def yolov5n_detector(image, model, input_size=(640, 640), conf_threshold=0.25):\n",
    "    \"\"\"\n",
    "    Perform inference with YOLOv5, including preprocessing and result postprocessing.\n",
    "    \n",
    "    Args:\n",
    "        image (np.array): Input image.\n",
    "        model: Loaded YOLOv5 model.\n",
    "        input_size (tuple): YOLO model input size.\n",
    "        conf_threshold (float): Confidence threshold for filtering detections.\n",
    "        \n",
    "    Returns:\n",
    "        list: Detections with coordinates in the original image space.\n",
    "        list: YOLO labels in normalized format.\n",
    "    \"\"\"\n",
    "    # Get original dimensions\n",
    "    original_height, original_width = image.shape[:2]\n",
    "    \n",
    "    # Preprocess image for YOLO\n",
    "    input_tensor = yolo_preprocessing(image, input_size)\n",
    "\n",
    "    # Perform inference\n",
    "    results = model(input_tensor)\n",
    "    \n",
    "    # Extract detections (results.xyxy[0] contains the predictions)\n",
    "    detections = []\n",
    "    labels = []\n",
    "    \n",
    "    for row in results[0]:  # Loop through detections in the first image (batch size 1)\n",
    "        # row = [x_min, y_min, x_max, y_max, confidence, class]\n",
    "        x_min, y_min, x_max, y_max, conf, class_id = row.tolist()\n",
    "        \n",
    "        if conf < conf_threshold:\n",
    "            continue  # Skip detections below confidence threshold\n",
    "\n",
    "        # Remove padding and scale back to the original image dimensions\n",
    "        scale = min(input_size[0] / original_width, input_size[1] / original_height)\n",
    "        x_offset = (input_size[0] - scale * original_width) / 2\n",
    "        y_offset = (input_size[1] - scale * original_height) / 2\n",
    "\n",
    "        x_min = (x_min - x_offset) / scale\n",
    "        x_max = (x_max - x_offset) / scale\n",
    "        y_min = (y_min - y_offset) / scale\n",
    "        y_max = (y_max - y_offset) / scale\n",
    "\n",
    "        detections.append({\n",
    "            'x_min': x_min,\n",
    "            'y_min': y_min,\n",
    "            'x_max': x_max,\n",
    "            'y_max': y_max,\n",
    "            'label': int(class_id),\n",
    "            'confidence': conf\n",
    "        })\n",
    "\n",
    "        # Normalize for YOLO format\n",
    "        x_center = (x_min + x_max) / 2 / original_width\n",
    "        y_center = (y_min + y_max) / 2 / original_height\n",
    "        width = (x_max - x_min) / original_width\n",
    "        height = (y_max - y_min) / original_height\n",
    "\n",
    "        labels.append([int(class_id), x_center, y_center, width, height])\n",
    "\n",
    "    return detections, labels"
   ]
  },
  {
   "cell_type": "code",
   "execution_count": 7,
   "metadata": {},
   "outputs": [
    {
     "name": "stderr",
     "output_type": "stream",
     "text": [
      "Using cache found in /Users/aq_home/.cache/torch/hub/ultralytics_yolov5_master\n",
      "YOLOv5 🚀 2024-12-12 Python-3.11.11 torch-2.5.1 CPU\n",
      "\n",
      "Fusing layers... \n",
      "Model summary: 157 layers, 1760518 parameters, 0 gradients, 4.1 GFLOPs\n",
      "Adding AutoShape... \n",
      "/Users/aq_home/.cache/torch/hub/ultralytics_yolov5_master/models/common.py:865: FutureWarning: `torch.cuda.amp.autocast(args...)` is deprecated. Please use `torch.amp.autocast('cuda', args...)` instead.\n",
      "  with amp.autocast(autocast):\n"
     ]
    },
    {
     "name": "stdout",
     "output_type": "stream",
     "text": [
      "Model loaded successfully!\n",
      "Processing: ../data/test/samples/test_light_130.JPG\n",
      "[{'x_min': 1936.5787376403807, 'y_min': 2639.3124504089355, 'x_max': -632.6686206579208, 'y_max': 92.81432790756226, 'label': 0, 'confidence': 0.43776223063468933}, {'x_min': 2475.103399658203, 'y_min': 2627.3020500183106, 'x_max': -601.2082544088363, 'y_max': 119.36729578971863, 'label': 0, 'confidence': 0.7376148700714111}, {'x_min': 2476.57147064209, 'y_min': 2626.1096168518065, 'x_max': -606.0760911226272, 'y_max': 119.82423799037933, 'label': 0, 'confidence': 0.6636061072349548}, {'x_min': 1939.0295173645018, 'y_min': 2640.0829833984376, 'x_max': -631.6699697971344, 'y_max': 88.58497610092162, 'label': 0, 'confidence': 0.45955604314804077}, {'x_min': 2476.265599822998, 'y_min': 2627.4099082946777, 'x_max': -600.3354041576385, 'y_max': 123.14218225479125, 'label': 0, 'confidence': 0.739990234375}, {'x_min': 2473.6816314697267, 'y_min': 3150.0608825683594, 'x_max': -620.8141006708145, 'y_max': 94.98386921882629, 'label': 0, 'confidence': 0.31350603699684143}, {'x_min': 2478.2291107177734, 'y_min': 3150.8333221435546, 'x_max': -619.000758934021, 'y_max': 100.02539248466492, 'label': 0, 'confidence': 0.4356835186481476}, {'x_min': 1936.922467803955, 'y_min': 2639.1705459594727, 'x_max': -631.1702570915222, 'y_max': 94.05128495693207, 'label': 0, 'confidence': 0.42424628138542175}, {'x_min': 2475.1469787597657, 'y_min': 2628.200596618652, 'x_max': -601.9327995300292, 'y_max': 119.18671488761902, 'label': 0, 'confidence': 0.7771521210670471}, {'x_min': 2476.6477340698243, 'y_min': 2626.295100402832, 'x_max': -606.2596425533294, 'y_max': 118.23102178573608, 'label': 0, 'confidence': 0.6806234121322632}, {'x_min': 1939.1226676940917, 'y_min': 2639.9990936279296, 'x_max': -630.7413944721221, 'y_max': 91.20347578525543, 'label': 0, 'confidence': 0.42157983779907227}, {'x_min': 2475.8431549072266, 'y_min': 2627.5937576293945, 'x_max': -600.9990576982498, 'y_max': 122.67802226543427, 'label': 0, 'confidence': 0.7840042114257812}, {'x_min': 2473.3700408935547, 'y_min': 3149.592679595947, 'x_max': -619.1034081459045, 'y_max': 97.99046123027802, 'label': 0, 'confidence': 0.40995630621910095}, {'x_min': 2477.7470169067383, 'y_min': 3150.8828933715818, 'x_max': -620.0514068126678, 'y_max': 100.82429444789886, 'label': 0, 'confidence': 0.47888514399528503}, {'x_min': 2475.7129623413084, 'y_min': 2627.693172454834, 'x_max': -600.7892226219177, 'y_max': 119.4828314781189, 'label': 0, 'confidence': 0.7328270673751831}, {'x_min': 2476.874617767334, 'y_min': 2626.5478591918945, 'x_max': -605.0980296850204, 'y_max': 118.84993014335632, 'label': 0, 'confidence': 0.5544661283493042}, {'x_min': 2476.5347007751466, 'y_min': 2627.4300636291505, 'x_max': -602.2706311941147, 'y_max': 123.34229714870452, 'label': 0, 'confidence': 0.7278116941452026}, {'x_min': 2474.6812271118165, 'y_min': 3149.6248191833497, 'x_max': -616.5520815610886, 'y_max': 98.58942704200744, 'label': 0, 'confidence': 0.3034169673919678}, {'x_min': 2477.961099243164, 'y_min': 3150.714569091797, 'x_max': -620.2987267255783, 'y_max': 101.35409545898438, 'label': 0, 'confidence': 0.3441898822784424}]\n",
      "Saved YOLO label file: ../data/test/results/yolov5n//labels/test_light_130.txt\n",
      "Saved annotated image: ../data/test/results/cv2_detector//images/test_light_130_result.jpg\n",
      "Processing: ../data/test/samples/test_light_120.JPG\n"
     ]
    },
    {
     "name": "stderr",
     "output_type": "stream",
     "text": [
      "/Users/aq_home/.cache/torch/hub/ultralytics_yolov5_master/models/common.py:865: FutureWarning: `torch.cuda.amp.autocast(args...)` is deprecated. Please use `torch.amp.autocast('cuda', args...)` instead.\n",
      "  with amp.autocast(autocast):\n"
     ]
    },
    {
     "name": "stdout",
     "output_type": "stream",
     "text": [
      "[{'x_min': 1820.7416725158691, 'y_min': 2562.726537322998, 'x_max': -628.510076379776, 'y_max': 95.11347448825836, 'label': 0, 'confidence': 0.6498938798904419}, {'x_min': 1820.3562698364258, 'y_min': 2565.519140625, 'x_max': -628.6687145233154, 'y_max': 99.12922911643982, 'label': 0, 'confidence': 0.6676197052001953}, {'x_min': 1816.4589363098144, 'y_min': 3085.80676574707, 'x_max': -644.6813106536865, 'y_max': 78.48900904655456, 'label': 0, 'confidence': 0.48762115836143494}, {'x_min': 1815.1390342712402, 'y_min': 3082.4095024108888, 'x_max': -643.9117352128029, 'y_max': 82.9975224494934, 'label': 0, 'confidence': 0.5825177431106567}, {'x_min': 2383.1566703796384, 'y_min': 3113.6031509399413, 'x_max': -607.0439301967621, 'y_max': 130.8005028963089, 'label': 0, 'confidence': 0.6522613167762756}, {'x_min': 2385.0638008117676, 'y_min': 3114.6678428649902, 'x_max': -598.4239583730697, 'y_max': 128.983824634552, 'label': 0, 'confidence': 0.6414011120796204}, {'x_min': 2383.6330444335936, 'y_min': 3113.431558227539, 'x_max': -593.9763876199722, 'y_max': 130.93991346359252, 'label': 0, 'confidence': 0.4667491614818573}, {'x_min': 1820.6392616271971, 'y_min': 2562.668795013428, 'x_max': -627.1712531805039, 'y_max': 96.43072092533112, 'label': 0, 'confidence': 0.6567767858505249}, {'x_min': 1820.1718757629394, 'y_min': 2565.1822196960447, 'x_max': -626.3605627298355, 'y_max': 101.62073657512664, 'label': 0, 'confidence': 0.6059638857841492}, {'x_min': 2382.7325912475585, 'y_min': 3113.868438720703, 'x_max': -607.7423278570175, 'y_max': 128.58457367420195, 'label': 0, 'confidence': 0.7429348826408386}, {'x_min': 2385.8043731689454, 'y_min': 3114.3126731872558, 'x_max': -602.7252156972885, 'y_max': 127.54022433757781, 'label': 0, 'confidence': 0.7486149668693542}, {'x_min': 2383.983583831787, 'y_min': 3113.700114440918, 'x_max': -599.1390897274017, 'y_max': 126.75297467708587, 'label': 0, 'confidence': 0.5498287677764893}, {'x_min': 1821.1668411254882, 'y_min': 2562.4972023010255, 'x_max': -625.5319639921188, 'y_max': 97.18646085262299, 'label': 0, 'confidence': 0.4419539272785187}, {'x_min': 1820.9505798339842, 'y_min': 2565.107590484619, 'x_max': -624.1933620929718, 'y_max': 102.61012687683105, 'label': 0, 'confidence': 0.36046627163887024}, {'x_min': 2382.772357177734, 'y_min': 3113.6263023376464, 'x_max': -608.9585763216019, 'y_max': 129.52137966156005, 'label': 0, 'confidence': 0.6469415426254272}, {'x_min': 2386.1900482177734, 'y_min': 3114.3524391174315, 'x_max': -603.0216727495193, 'y_max': 128.21795597076417, 'label': 0, 'confidence': 0.6988046765327454}, {'x_min': 2383.7749488830564, 'y_min': 3113.5565757751465, 'x_max': -603.0526207208633, 'y_max': 128.68829534053802, 'label': 0, 'confidence': 0.47197607159614563}]\n",
      "Saved YOLO label file: ../data/test/results/yolov5n//labels/test_light_120.txt\n",
      "Saved annotated image: ../data/test/results/cv2_detector//images/test_light_120_result.jpg\n",
      "Processing: ../data/test/samples/test_110.JPG\n"
     ]
    },
    {
     "name": "stderr",
     "output_type": "stream",
     "text": [
      "/Users/aq_home/.cache/torch/hub/ultralytics_yolov5_master/models/common.py:865: FutureWarning: `torch.cuda.amp.autocast(args...)` is deprecated. Please use `torch.amp.autocast('cuda', args...)` instead.\n",
      "  with amp.autocast(autocast):\n"
     ]
    },
    {
     "name": "stdout",
     "output_type": "stream",
     "text": [
      "[{'x_min': 2667.9117805480955, 'y_min': 2353.2687606811523, 'x_max': -505.30060186386106, 'y_max': 223.4742796897888, 'label': 0, 'confidence': 0.3586737811565399}, {'x_min': 2670.3358680725096, 'y_min': 2356.8722076416016, 'x_max': -502.04154896736145, 'y_max': 237.0557577610016, 'label': 0, 'confidence': 0.8465182185173035}, {'x_min': 1790.5775802612304, 'y_min': 2403.006951141357, 'x_max': -553.8917256832123, 'y_max': 198.94935722351073, 'label': 0, 'confidence': 0.8803704380989075}, {'x_min': 1791.7277961730956, 'y_min': 2400.9625465393065, 'x_max': -553.2783328056336, 'y_max': 197.6091636657715, 'label': 0, 'confidence': 0.8695663809776306}, {'x_min': 2670.0348999023436, 'y_min': 2357.246987915039, 'x_max': -505.3371163845062, 'y_max': 225.0603717327118, 'label': 0, 'confidence': 0.4556174576282501}, {'x_min': 2668.409944152832, 'y_min': 2356.2027236938475, 'x_max': -505.34940705299374, 'y_max': 230.65584325790405, 'label': 0, 'confidence': 0.907034695148468}, {'x_min': 1790.2820594787597, 'y_min': 2407.1638526916504, 'x_max': -553.2968539237976, 'y_max': 190.25033869743348, 'label': 0, 'confidence': 0.6793955564498901}, {'x_min': 1787.8348205566406, 'y_min': 3166.031806182861, 'x_max': -570.8286754131317, 'y_max': 192.3940900325775, 'label': 0, 'confidence': 0.5803421139717102}, {'x_min': 1786.5647621154785, 'y_min': 3168.0497909545898, 'x_max': -572.4757271289825, 'y_max': 189.25086221694946, 'label': 0, 'confidence': 0.40569379925727844}, {'x_min': 2661.9923767089845, 'y_min': 3212.512186431885, 'x_max': -522.172438287735, 'y_max': 190.19171118736267, 'label': 0, 'confidence': 0.3777533173561096}, {'x_min': 2657.5173477172852, 'y_min': 3219.226636505127, 'x_max': -517.9028268814087, 'y_max': 199.07721762657164, 'label': 0, 'confidence': 0.794776976108551}, {'x_min': 2667.7213943481443, 'y_min': 2353.673501586914, 'x_max': -507.4984014987945, 'y_max': 223.43192625045776, 'label': 0, 'confidence': 0.2850068509578705}, {'x_min': 2669.5645179748535, 'y_min': 2357.515271759033, 'x_max': -506.6612741947174, 'y_max': 238.4551065444946, 'label': 0, 'confidence': 0.8554863929748535}, {'x_min': 1790.691703033447, 'y_min': 2403.431575012207, 'x_max': -555.493189573288, 'y_max': 197.1973922252655, 'label': 0, 'confidence': 0.879875659942627}, {'x_min': 1791.6896644592284, 'y_min': 2401.918290710449, 'x_max': -557.6784261703491, 'y_max': 194.75393242835997, 'label': 0, 'confidence': 0.8808289766311646}, {'x_min': 2669.6944381713865, 'y_min': 2357.3022789001466, 'x_max': -508.33978457450866, 'y_max': 223.35387539863586, 'label': 0, 'confidence': 0.43848925828933716}, {'x_min': 2668.029988861084, 'y_min': 2356.3596084594724, 'x_max': -510.2988694667816, 'y_max': 231.1937557697296, 'label': 0, 'confidence': 0.9071233868598938}, {'x_min': 1790.204978942871, 'y_min': 2407.6481254577634, 'x_max': -557.88843998909, 'y_max': 189.93607549667357, 'label': 0, 'confidence': 0.7016160488128662}, {'x_min': 1787.5134246826171, 'y_min': 3166.7903549194334, 'x_max': -575.5688304662705, 'y_max': 191.57190899848936, 'label': 0, 'confidence': 0.6578367352485657}, {'x_min': 1786.1635620117186, 'y_min': 3168.632933807373, 'x_max': -577.4506816148757, 'y_max': 189.70668940544127, 'label': 0, 'confidence': 0.5487316846847534}, {'x_min': 2661.3144493103027, 'y_min': 3213.34808807373, 'x_max': -527.9429582118988, 'y_max': 189.7908685684204, 'label': 0, 'confidence': 0.46290770173072815}, {'x_min': 2657.089455413818, 'y_min': 3220.235220336914, 'x_max': -523.8067737579346, 'y_max': 197.71761775016785, 'label': 0, 'confidence': 0.8265260457992554}, {'x_min': 2667.7840393066404, 'y_min': 2353.5416748046873, 'x_max': -508.5865512371063, 'y_max': 223.0332966327667, 'label': 0, 'confidence': 0.26182693243026733}, {'x_min': 2670.6292098999024, 'y_min': 2356.9604553222657, 'x_max': -506.89990382194514, 'y_max': 237.22883148193358, 'label': 0, 'confidence': 0.8369609117507935}, {'x_min': 1790.4833404541014, 'y_min': 2403.2253913879395, 'x_max': -557.1634778022766, 'y_max': 197.23795824050902, 'label': 0, 'confidence': 0.8348202109336853}, {'x_min': 1792.4999633789062, 'y_min': 2401.1562011718747, 'x_max': -559.5111486911774, 'y_max': 195.33241095542908, 'label': 0, 'confidence': 0.8534737825393677}, {'x_min': 2669.4645584106443, 'y_min': 2357.526983642578, 'x_max': -510.51385402679443, 'y_max': 224.82364869117737, 'label': 0, 'confidence': 0.3839007616043091}, {'x_min': 2668.5556617736815, 'y_min': 2355.9995361328124, 'x_max': -511.5312898635864, 'y_max': 230.49831161499023, 'label': 0, 'confidence': 0.9037394523620605}, {'x_min': 1790.005059814453, 'y_min': 2407.2948623657226, 'x_max': -560.4064949512482, 'y_max': 190.93219842910767, 'label': 0, 'confidence': 0.679858922958374}, {'x_min': 1787.333388519287, 'y_min': 3166.4812156677244, 'x_max': -578.2450213909149, 'y_max': 191.9738070487976, 'label': 0, 'confidence': 0.5459145903587341}, {'x_min': 1787.3012489318846, 'y_min': 3167.9615432739256, 'x_max': -578.9680429458618, 'y_max': 190.1997631072998, 'label': 0, 'confidence': 0.48324069380760193}, {'x_min': 2663.0924766540525, 'y_min': 3212.445183563232, 'x_max': -527.3029582500458, 'y_max': 189.8575650215149, 'label': 0, 'confidence': 0.5309175252914429}, {'x_min': 2657.7608459472654, 'y_min': 3219.5384994506835, 'x_max': -525.2306017398834, 'y_max': 197.0532747745514, 'label': 0, 'confidence': 0.8604295253753662}, {'x_min': 2669.8216346740724, 'y_min': 2351.1990257263183, 'x_max': -509.66189961433406, 'y_max': 224.27490949630737, 'label': 0, 'confidence': 0.7128397226333618}, {'x_min': 1788.6034469604492, 'y_min': 2400.9630912780763, 'x_max': -560.5205155849457, 'y_max': 193.3032420158386, 'label': 0, 'confidence': 0.9153253436088562}, {'x_min': 1789.1942161560057, 'y_min': 2397.2637702941893, 'x_max': -557.4378729343414, 'y_max': 183.07202653884886, 'label': 0, 'confidence': 0.6175879240036011}, {'x_min': 2669.5577087402344, 'y_min': 2353.0130058288573, 'x_max': -509.157777929306, 'y_max': 224.8572522640228, 'label': 0, 'confidence': 0.9320845603942871}, {'x_min': 2667.9093292236325, 'y_min': 2353.0862731933594, 'x_max': -508.44074850082393, 'y_max': 224.2634699821472, 'label': 0, 'confidence': 0.9407970309257507}, {'x_min': 1788.610528564453, 'y_min': 2402.692092132568, 'x_max': -561.3272226333618, 'y_max': 193.1937325000763, 'label': 0, 'confidence': 0.916654109954834}, {'x_min': 2670.054510498047, 'y_min': 2359.636212158203, 'x_max': -514.0164732456207, 'y_max': 223.91274333000183, 'label': 0, 'confidence': 0.27269309759140015}, {'x_min': 1791.6324668884276, 'y_min': 3170.9556999206543, 'x_max': -582.4058042049408, 'y_max': 189.06103777885437, 'label': 0, 'confidence': 0.5664097666740417}, {'x_min': 1787.593501281738, 'y_min': 3167.109027099609, 'x_max': -580.2834423780441, 'y_max': 186.47293281555176, 'label': 0, 'confidence': 0.5164867639541626}, {'x_min': 2659.855911254883, 'y_min': 3217.476390838623, 'x_max': -525.4922636032104, 'y_max': 189.81848001480103, 'label': 0, 'confidence': 0.8058047294616699}, {'x_min': 2658.723399353027, 'y_min': 3215.056116485596, 'x_max': -522.5722595214844, 'y_max': 186.34062938690184, 'label': 0, 'confidence': 0.8223462700843811}, {'x_min': 2658.0364837646484, 'y_min': 3219.8465492248533, 'x_max': -528.7713186264037, 'y_max': 191.64233350753784, 'label': 0, 'confidence': 0.45382121205329895}, {'x_min': 2669.7233093261716, 'y_min': 2350.942726135254, 'x_max': -508.7503303527832, 'y_max': 225.11539034843443, 'label': 0, 'confidence': 0.6777428984642029}, {'x_min': 1789.138108062744, 'y_min': 2400.6670257568358, 'x_max': -560.2269013881684, 'y_max': 193.2057678222656, 'label': 0, 'confidence': 0.870087742805481}, {'x_min': 1789.1495475769043, 'y_min': 2397.875239562988, 'x_max': -557.6391028404236, 'y_max': 183.57774839401245, 'label': 0, 'confidence': 0.5299353003501892}, {'x_min': 2669.943656158447, 'y_min': 2353.148645782471, 'x_max': -509.67253904342647, 'y_max': 225.0375778198242, 'label': 0, 'confidence': 0.9266213774681091}, {'x_min': 2667.713768005371, 'y_min': 2353.453971862793, 'x_max': -508.67357325553894, 'y_max': 225.15719904899595, 'label': 0, 'confidence': 0.9414443373680115}, {'x_min': 1789.321685028076, 'y_min': 2402.968002319336, 'x_max': -560.7486760139465, 'y_max': 193.19557099342344, 'label': 0, 'confidence': 0.8770075440406799}, {'x_min': 2670.8087013244626, 'y_min': 2359.585823822021, 'x_max': -512.8408078193664, 'y_max': 225.4302834033966, 'label': 0, 'confidence': 0.25292614102363586}, {'x_min': 1792.787313079834, 'y_min': 3170.508469390869, 'x_max': -574.3224936962127, 'y_max': 189.8574969291687, 'label': 0, 'confidence': 0.32222461700439453}, {'x_min': 1789.5286857604979, 'y_min': 3168.2009559631347, 'x_max': -573.2845790863037, 'y_max': 188.87807364463805, 'label': 0, 'confidence': 0.34513038396835327}, {'x_min': 2660.6542259216308, 'y_min': 3218.7194847106935, 'x_max': -525.4604134082794, 'y_max': 189.76591272354125, 'label': 0, 'confidence': 0.7602500319480896}, {'x_min': 2658.611183166504, 'y_min': 3215.7035385131835, 'x_max': -523.0706444263458, 'y_max': 187.29587988853453, 'label': 0, 'confidence': 0.803459882736206}, {'x_min': 2659.2193840026853, 'y_min': 3219.7416870117186, 'x_max': -527.5459117412566, 'y_max': 191.6961434841156, 'label': 0, 'confidence': 0.3744984269142151}]\n",
      "Saved YOLO label file: ../data/test/results/yolov5n//labels/test_110.txt\n",
      "Saved annotated image: ../data/test/results/cv2_detector//images/test_110_result.jpg\n",
      "Processing: ../data/test/samples/test_60.JPG\n"
     ]
    },
    {
     "name": "stderr",
     "output_type": "stream",
     "text": [
      "/Users/aq_home/.cache/torch/hub/ultralytics_yolov5_master/models/common.py:865: FutureWarning: `torch.cuda.amp.autocast(args...)` is deprecated. Please use `torch.amp.autocast('cuda', args...)` instead.\n",
      "  with amp.autocast(autocast):\n"
     ]
    },
    {
     "name": "stdout",
     "output_type": "stream",
     "text": [
      "[{'x_min': 1056.5482166290283, 'y_min': 1434.9802825927734, 'x_max': -446.4161112785339, 'y_max': 305.54676761627195, 'label': 0, 'confidence': 0.6553686261177063}, {'x_min': 1059.6138702392577, 'y_min': 1454.9604835510254, 'x_max': -441.93704781532284, 'y_max': 334.4542156219482, 'label': 0, 'confidence': 0.6856911778450012}, {'x_min': 1077.1036617279053, 'y_min': 2788.698342132568, 'x_max': -461.48023209571835, 'y_max': 304.7341876029968, 'label': 0, 'confidence': 0.27148276567459106}, {'x_min': 1068.766298675537, 'y_min': 2785.2128311157226, 'x_max': -454.96420311927795, 'y_max': 309.601598739624, 'label': 0, 'confidence': 0.5248632431030273}, {'x_min': 1074.9674686431883, 'y_min': 2798.2598693847654, 'x_max': -464.8418490886688, 'y_max': 289.36162548065187, 'label': 0, 'confidence': 0.5772271752357483}, {'x_min': 1072.178542327881, 'y_min': 2800.222563171387, 'x_max': -461.5750166416168, 'y_max': 295.61944828033444, 'label': 0, 'confidence': 0.6599174737930298}, {'x_min': 2428.672590637207, 'y_min': 3023.8124977111815, 'x_max': -641.4342760562896, 'y_max': 80.78650438785553, 'label': 0, 'confidence': 0.294493168592453}, {'x_min': 1057.2593730926512, 'y_min': 1435.393466949463, 'x_max': -451.60517363548274, 'y_max': 319.2054453849792, 'label': 0, 'confidence': 0.6009386777877808}, {'x_min': 1063.3163234710694, 'y_min': 1455.4778491973877, 'x_max': -445.48523783683777, 'y_max': 372.018958568573, 'label': 0, 'confidence': 0.7444118857383728}, {'x_min': 1078.3519306182861, 'y_min': 2788.52756652832, 'x_max': -466.67045202255247, 'y_max': 330.6537094116211, 'label': 0, 'confidence': 0.273347944021225}, {'x_min': 1069.4469497680664, 'y_min': 2784.8110862731933, 'x_max': -460.8121610641479, 'y_max': 330.4681237220764, 'label': 0, 'confidence': 0.5730769634246826}, {'x_min': 1076.1507774353026, 'y_min': 2799.618175506592, 'x_max': -473.8983864784241, 'y_max': 303.21971168518064, 'label': 0, 'confidence': 0.6279010772705078}, {'x_min': 1072.2972953796386, 'y_min': 2802.1498489379883, 'x_max': -472.83321790695186, 'y_max': 305.56413116455076, 'label': 0, 'confidence': 0.7039027214050293}, {'x_min': 1055.4873378753662, 'y_min': 1435.314207458496, 'x_max': -453.2086462497711, 'y_max': 314.9301652908325, 'label': 0, 'confidence': 0.541910707950592}, {'x_min': 1061.808622741699, 'y_min': 1454.9035583496093, 'x_max': -439.7877469539642, 'y_max': 359.6502222061157, 'label': 0, 'confidence': 0.6670572757720947}, {'x_min': 1069.2581977844238, 'y_min': 2784.2930397033692, 'x_max': -464.69202890396116, 'y_max': 324.84686222076414, 'label': 0, 'confidence': 0.5220639705657959}, {'x_min': 1074.9877601623534, 'y_min': 2798.968029785156, 'x_max': -471.05151357650755, 'y_max': 300.7546666145325, 'label': 0, 'confidence': 0.5079102516174316}, {'x_min': 1071.0486179351806, 'y_min': 2801.312313079834, 'x_max': -476.5086384773254, 'y_max': 303.1717406272888, 'label': 0, 'confidence': 0.6414512395858765}, {'x_min': 1057.1648609161377, 'y_min': 1456.471588897705, 'x_max': -449.28101162910457, 'y_max': 333.8655232429504, 'label': 0, 'confidence': 0.877364993095398}, {'x_min': 1058.3839862823486, 'y_min': 1455.51284866333, 'x_max': -444.41596670150756, 'y_max': 326.47113704681396, 'label': 0, 'confidence': 0.7905022501945496}, {'x_min': 1072.8677730560303, 'y_min': 2786.8432342529295, 'x_max': -464.90920944213866, 'y_max': 295.06006965637204, 'label': 0, 'confidence': 0.8862696886062622}, {'x_min': 1075.3964504241942, 'y_min': 2788.145704650879, 'x_max': -473.5238104820251, 'y_max': 298.80085887908933, 'label': 0, 'confidence': 0.3801417052745819}, {'x_min': 1073.224168395996, 'y_min': 2797.9196800231935, 'x_max': -472.4824572086334, 'y_max': 285.5654942035675, 'label': 0, 'confidence': 0.7656422853469849}, {'x_min': 1058.3345512390135, 'y_min': 1455.1023880004882, 'x_max': -451.8393091678619, 'y_max': 336.33530073165895, 'label': 0, 'confidence': 0.8731718063354492}, {'x_min': 1058.8641735076903, 'y_min': 1453.7210666656495, 'x_max': -444.58003520965576, 'y_max': 317.48740739822387, 'label': 0, 'confidence': 0.8669258952140808}, {'x_min': 1073.5638130187988, 'y_min': 2786.443395996094, 'x_max': -464.59128627777096, 'y_max': 295.2239338874817, 'label': 0, 'confidence': 0.9067986011505127}, {'x_min': 1075.452558517456, 'y_min': 2786.3415298461914, 'x_max': -472.6906325340271, 'y_max': 297.976124382019, 'label': 0, 'confidence': 0.44995155930519104}, {'x_min': 1073.9846237182617, 'y_min': 2797.718943786621, 'x_max': -471.74717903137207, 'y_max': 288.6038257598877, 'label': 0, 'confidence': 0.8087709546089172}, {'x_min': 1057.7198135375977, 'y_min': 1458.4352359771729, 'x_max': -456.65454454421996, 'y_max': 337.933360004425, 'label': 0, 'confidence': 0.533302366733551}, {'x_min': 1063.68729057312, 'y_min': 1461.7409832000733, 'x_max': -452.4218562126159, 'y_max': 330.95127296447754, 'label': 0, 'confidence': 0.6547413468360901}, {'x_min': 1074.7256046295165, 'y_min': 2790.400106048584, 'x_max': -465.02108516693113, 'y_max': 303.6901617050171, 'label': 0, 'confidence': 0.4112441837787628}]\n",
      "Saved YOLO label file: ../data/test/results/yolov5n//labels/test_60.txt\n",
      "Saved annotated image: ../data/test/results/cv2_detector//images/test_60_result.jpg\n",
      "Processing: ../data/test/samples/test_light_60.JPG\n"
     ]
    },
    {
     "name": "stderr",
     "output_type": "stream",
     "text": [
      "/Users/aq_home/.cache/torch/hub/ultralytics_yolov5_master/models/common.py:865: FutureWarning: `torch.cuda.amp.autocast(args...)` is deprecated. Please use `torch.amp.autocast('cuda', args...)` instead.\n",
      "  with amp.autocast(autocast):\n"
     ]
    },
    {
     "name": "stdout",
     "output_type": "stream",
     "text": [
      "[{'x_min': 2589.9234375, 'y_min': 2359.8715393066404, 'x_max': -425.06950120925904, 'y_max': 305.7677953720093, 'label': 0, 'confidence': 0.3171823024749756}, {'x_min': 2596.978621673584, 'y_min': 2360.934324645996, 'x_max': -413.1267165184021, 'y_max': 320.5082221984863, 'label': 0, 'confidence': 0.9421320557594299}, {'x_min': 1502.3786315917969, 'y_min': 2438.2932220458983, 'x_max': -537.292445898056, 'y_max': 243.47657661437987, 'label': 0, 'confidence': 0.4850410223007202}, {'x_min': 1505.7120243072509, 'y_min': 2438.237658691406, 'x_max': -536.9925161361695, 'y_max': 241.56258587837218, 'label': 0, 'confidence': 0.8312588334083557}, {'x_min': 2590.8628395080564, 'y_min': 2355.722264099121, 'x_max': -422.29194631576536, 'y_max': 311.26679706573486, 'label': 0, 'confidence': 0.3887127637863159}, {'x_min': 2601.2338485717773, 'y_min': 2356.3947441101072, 'x_max': -417.0246628761291, 'y_max': 319.6982637405395, 'label': 0, 'confidence': 0.9114453792572021}, {'x_min': 1503.2451747894286, 'y_min': 2442.233045196533, 'x_max': -537.7945077896118, 'y_max': 253.38134036064147, 'label': 0, 'confidence': 0.901671826839447}, {'x_min': 1505.546696090698, 'y_min': 2442.7611694335938, 'x_max': -537.6758228302002, 'y_max': 247.833465385437, 'label': 0, 'confidence': 0.9551908373832703}, {'x_min': 2575.4799613952637, 'y_min': 3509.594462585449, 'x_max': -435.0023700714111, 'y_max': 301.3689617156982, 'label': 0, 'confidence': 0.31455758213996887}, {'x_min': 2571.208392333984, 'y_min': 3517.032325744629, 'x_max': -436.3044319152832, 'y_max': 307.3925127983093, 'label': 0, 'confidence': 0.497096985578537}, {'x_min': 2574.5326606750486, 'y_min': 3519.0775474548336, 'x_max': -430.63140320777893, 'y_max': 311.7251606941223, 'label': 0, 'confidence': 0.8547568917274475}, {'x_min': 2569.040059661865, 'y_min': 3521.616574859619, 'x_max': -432.0914222717285, 'y_max': 311.33352756500244, 'label': 0, 'confidence': 0.8293467164039612}, {'x_min': 2590.8331512451173, 'y_min': 2358.8801147460936, 'x_max': -421.35227193832395, 'y_max': 312.78018350601195, 'label': 0, 'confidence': 0.33535662293434143}, {'x_min': 2597.7379875183105, 'y_min': 2360.8558822631835, 'x_max': -406.73447942733765, 'y_max': 325.0649279594421, 'label': 0, 'confidence': 0.9447253942489624}, {'x_min': 1502.6508647918702, 'y_min': 2438.2700706481933, 'x_max': -540.1304838180541, 'y_max': 249.91050324440002, 'label': 0, 'confidence': 0.4726947844028473}, {'x_min': 1505.6676280975341, 'y_min': 2438.0587120056152, 'x_max': -543.4372524261474, 'y_max': 244.57725534439086, 'label': 0, 'confidence': 0.8237586617469788}, {'x_min': 2591.6622436523435, 'y_min': 2357.3499435424806, 'x_max': -418.8036775588989, 'y_max': 323.0911010742187, 'label': 0, 'confidence': 0.4710228443145752}, {'x_min': 2602.372897338867, 'y_min': 2356.6101882934568, 'x_max': -416.63643436431886, 'y_max': 317.86538801193234, 'label': 0, 'confidence': 0.9322941899299622}, {'x_min': 1503.6785144805908, 'y_min': 2442.864125061035, 'x_max': -541.5488473892211, 'y_max': 256.9083196163177, 'label': 0, 'confidence': 0.9055235385894775}, {'x_min': 1505.9598804473876, 'y_min': 2443.054511260986, 'x_max': -544.4656851768493, 'y_max': 248.4518290042877, 'label': 0, 'confidence': 0.9559507369995117}, {'x_min': 2576.6062088012695, 'y_min': 3509.327268218994, 'x_max': -437.26301894187924, 'y_max': 309.8442458152771, 'label': 0, 'confidence': 0.31255295872688293}, {'x_min': 2570.787036895752, 'y_min': 3516.9315490722656, 'x_max': -438.2715346813202, 'y_max': 315.78138771057127, 'label': 0, 'confidence': 0.48920804262161255}, {'x_min': 2576.170690155029, 'y_min': 3520.8977920532225, 'x_max': -433.2628829956055, 'y_max': 322.2290860176086, 'label': 0, 'confidence': 0.8755301833152771}, {'x_min': 2569.358731842041, 'y_min': 3523.3739021301267, 'x_max': -438.4129624843597, 'y_max': 318.1066051483154, 'label': 0, 'confidence': 0.8437564373016357}, {'x_min': 2578.8804931640625, 'y_min': 3552.4934577941895, 'x_max': -456.65685968399043, 'y_max': 271.3236054897308, 'label': 0, 'confidence': 0.2594749629497528}, {'x_min': 2591.209020996094, 'y_min': 2360.1223915100095, 'x_max': -414.81373844146725, 'y_max': 306.6040374755859, 'label': 0, 'confidence': 0.3525233566761017}, {'x_min': 2596.659132385254, 'y_min': 2360.8082176208495, 'x_max': -412.15626440048214, 'y_max': 325.74547691345214, 'label': 0, 'confidence': 0.9216405153274536}, {'x_min': 1502.1115734100342, 'y_min': 2438.042642211914, 'x_max': -540.8173653602599, 'y_max': 246.5991554260254, 'label': 0, 'confidence': 0.38768747448921204}, {'x_min': 1506.44524269104, 'y_min': 2437.4584098815917, 'x_max': -545.688249206543, 'y_max': 243.03252940177916, 'label': 0, 'confidence': 0.7660987377166748}, {'x_min': 2591.6853950500486, 'y_min': 2356.8117416381833, 'x_max': -415.8341022491455, 'y_max': 317.7352635383606, 'label': 0, 'confidence': 0.46222835779190063}, {'x_min': 2600.9358764648437, 'y_min': 2356.071169281006, 'x_max': -422.82401990890503, 'y_max': 322.14325561523435, 'label': 0, 'confidence': 0.8993942737579346}, {'x_min': 1503.0392635345459, 'y_min': 2442.6021057128905, 'x_max': -543.4873513698577, 'y_max': 255.0406997680664, 'label': 0, 'confidence': 0.8351401090621948}, {'x_min': 1506.0426807403564, 'y_min': 2442.401914215088, 'x_max': -546.3699387073517, 'y_max': 248.0126163482666, 'label': 0, 'confidence': 0.9271249771118164}, {'x_min': 2576.3722434997558, 'y_min': 3509.2270362854, 'x_max': -438.56628942489624, 'y_max': 306.8319085121155, 'label': 0, 'confidence': 0.2675963044166565}, {'x_min': 2570.7513565063477, 'y_min': 3516.562216186523, 'x_max': -443.9636973381042, 'y_max': 310.9139084815979, 'label': 0, 'confidence': 0.47167226672172546}, {'x_min': 2574.905534362793, 'y_min': 3520.2920425415036, 'x_max': -431.9279155254364, 'y_max': 320.04052991867064, 'label': 0, 'confidence': 0.8373083472251892}, {'x_min': 2568.2120567321776, 'y_min': 3522.9299400329587, 'x_max': -443.1858784675598, 'y_max': 316.1108865737915, 'label': 0, 'confidence': 0.8278680443763733}, {'x_min': 2577.3315284729, 'y_min': 3552.3324874877926, 'x_max': -460.58606042861936, 'y_max': 271.36435875892636, 'label': 0, 'confidence': 0.28721317648887634}, {'x_min': 2595.160011291504, 'y_min': 2350.3958084106443, 'x_max': -413.5565834999084, 'y_max': 307.3571388244629, 'label': 0, 'confidence': 0.4030635356903076}, {'x_min': 1502.4303817749023, 'y_min': 2439.1645317077637, 'x_max': -547.5761435508728, 'y_max': 253.2576506137848, 'label': 0, 'confidence': 0.9111087918281555}, {'x_min': 2600.513703918457, 'y_min': 2362.8338287353513, 'x_max': -410.4936535835266, 'y_max': 319.3796256065369, 'label': 0, 'confidence': 0.9219596982002258}, {'x_min': 2596.708975982666, 'y_min': 2358.241680908203, 'x_max': -408.0833207130432, 'y_max': 315.0664861679077, 'label': 0, 'confidence': 0.9189270734786987}, {'x_min': 1502.7441513061524, 'y_min': 2436.8229721069333, 'x_max': -547.2487215042114, 'y_max': 248.40857334136962, 'label': 0, 'confidence': 0.8883534669876099}, {'x_min': 1503.54301071167, 'y_min': 2438.9923942565915, 'x_max': -547.1799652576447, 'y_max': 245.8858540534973, 'label': 0, 'confidence': 0.4237861931324005}, {'x_min': 2595.2733169555663, 'y_min': 2363.7263832092285, 'x_max': -406.841690826416, 'y_max': 307.8764110565185, 'label': 0, 'confidence': 0.5554192662239075}, {'x_min': 2577.2351097106935, 'y_min': 3520.7692337036133, 'x_max': -440.39889278411863, 'y_max': 313.90540952682494, 'label': 0, 'confidence': 0.9231045246124268}, {'x_min': 2572.8875495910643, 'y_min': 3520.349784851074, 'x_max': -433.0510136604309, 'y_max': 306.75040197372437, 'label': 0, 'confidence': 0.9206300377845764}, {'x_min': 2576.788423919678, 'y_min': 3519.805046081543, 'x_max': -448.36498231887816, 'y_max': 301.8341686248779, 'label': 0, 'confidence': 0.3418278098106384}, {'x_min': 2575.3824531555174, 'y_min': 3523.5163513183593, 'x_max': -441.8745220184326, 'y_max': 300.832768535614, 'label': 0, 'confidence': 0.5291280150413513}, {'x_min': 2595.8738914489745, 'y_min': 2350.1539443969727, 'x_max': -410.8646206855774, 'y_max': 307.7311019897461, 'label': 0, 'confidence': 0.4581180512905121}, {'x_min': 1503.659312438965, 'y_min': 2437.761012268066, 'x_max': -546.7089024066925, 'y_max': 254.3146140575409, 'label': 0, 'confidence': 0.8631064891815186}, {'x_min': 2600.646075439453, 'y_min': 2361.9224807739256, 'x_max': -410.69432172775265, 'y_max': 315.6497652053833, 'label': 0, 'confidence': 0.9348357915878296}, {'x_min': 2596.89609375, 'y_min': 2357.9042152404786, 'x_max': -408.1093660354614, 'y_max': 312.9906229019165, 'label': 0, 'confidence': 0.9541910886764526}, {'x_min': 1504.000182723999, 'y_min': 2436.953709411621, 'x_max': -546.9974947929383, 'y_max': 249.26689438819884, 'label': 0, 'confidence': 0.8692476749420166}, {'x_min': 1503.610966873169, 'y_min': 2439.0215377807617, 'x_max': -544.0703580379486, 'y_max': 248.271214056015, 'label': 0, 'confidence': 0.40449440479278564}, {'x_min': 2594.889276123047, 'y_min': 2363.7252937316894, 'x_max': -410.81266622543336, 'y_max': 309.0104550361633, 'label': 0, 'confidence': 0.726944625377655}, {'x_min': 2577.3081047058104, 'y_min': 3518.566854858398, 'x_max': -441.0634059906006, 'y_max': 310.20833559036254, 'label': 0, 'confidence': 0.9323889017105103}, {'x_min': 2572.642961883545, 'y_min': 3519.481471252441, 'x_max': -434.4583122253418, 'y_max': 307.13931140899655, 'label': 0, 'confidence': 0.9435091614723206}, {'x_min': 2575.9179313659665, 'y_min': 3519.3670761108397, 'x_max': -448.2698402881622, 'y_max': 303.4711767196655, 'label': 0, 'confidence': 0.43026983737945557}, {'x_min': 2576.834726715088, 'y_min': 3523.783818054199, 'x_max': -440.995432806015, 'y_max': 301.98907871246337, 'label': 0, 'confidence': 0.6827439069747925}, {'x_min': 2600.844632720947, 'y_min': 2366.0412506103517, 'x_max': -410.6477125167847, 'y_max': 318.27186527252195, 'label': 0, 'confidence': 0.682170569896698}, {'x_min': 2594.3328254699704, 'y_min': 2360.1060493469236, 'x_max': -403.83864812850953, 'y_max': 326.01321601867676, 'label': 0, 'confidence': 0.8378764390945435}, {'x_min': 2578.0671981811524, 'y_min': 3523.4613327026364, 'x_max': -436.57375416755673, 'y_max': 313.4604260444641, 'label': 0, 'confidence': 0.5626906752586365}, {'x_min': 2568.7050453186034, 'y_min': 3521.413114929199, 'x_max': -430.6925501346588, 'y_max': 320.16493463516235, 'label': 0, 'confidence': 0.6146174073219299}]\n",
      "Saved YOLO label file: ../data/test/results/yolov5n//labels/test_light_60.txt\n",
      "Saved annotated image: ../data/test/results/cv2_detector//images/test_light_60_result.jpg\n",
      "Processing: ../data/test/samples/test_light_140.JPG\n"
     ]
    },
    {
     "name": "stderr",
     "output_type": "stream",
     "text": [
      "/Users/aq_home/.cache/torch/hub/ultralytics_yolov5_master/models/common.py:865: FutureWarning: `torch.cuda.amp.autocast(args...)` is deprecated. Please use `torch.amp.autocast('cuda', args...)` instead.\n",
      "  with amp.autocast(autocast):\n"
     ]
    },
    {
     "name": "stdout",
     "output_type": "stream",
     "text": [
      "[{'x_min': 1993.9726867675781, 'y_min': 2512.0917068481444, 'x_max': -646.6845534324646, 'y_max': 75.38096795082092, 'label': 0, 'confidence': 0.3554770350456238}, {'x_min': 1999.2947845458984, 'y_min': 2511.4451019287108, 'x_max': -639.5367721796035, 'y_max': 78.07499907016754, 'label': 0, 'confidence': 0.43124479055404663}, {'x_min': 2497.9709884643553, 'y_min': 2489.775121307373, 'x_max': -628.5265121698379, 'y_max': 87.17744772434234, 'label': 0, 'confidence': 0.3647616505622864}, {'x_min': 1995.3582298278807, 'y_min': 2511.408876800537, 'x_max': -644.8778038859367, 'y_max': 78.36334462165833, 'label': 0, 'confidence': 0.678881824016571}, {'x_min': 1998.279391479492, 'y_min': 2512.940409851074, 'x_max': -644.4290540456772, 'y_max': 76.4774079322815, 'label': 0, 'confidence': 0.5193688273429871}, {'x_min': 2495.6621131896973, 'y_min': 2491.246733093262, 'x_max': -631.8412050247192, 'y_max': 90.13206825256347, 'label': 0, 'confidence': 0.290767639875412}, {'x_min': 2504.1251747131346, 'y_min': 2488.595489501953, 'x_max': -629.0207349300384, 'y_max': 87.51115980148315, 'label': 0, 'confidence': 0.2863360643386841}, {'x_min': 1991.9337295532225, 'y_min': 2958.224043273926, 'x_max': -652.2944818139076, 'y_max': 66.20354962348938, 'label': 0, 'confidence': 0.2937759459018707}, {'x_min': 1992.1148551940917, 'y_min': 2967.950081634521, 'x_max': -655.0039613842964, 'y_max': 64.6429836988449, 'label': 0, 'confidence': 0.7168771028518677}, {'x_min': 1993.710122680664, 'y_min': 2970.5871620178223, 'x_max': -653.6619633793831, 'y_max': 64.78800337314605, 'label': 0, 'confidence': 0.6014240980148315}, {'x_min': 2492.78807144165, 'y_min': 2989.8559341430664, 'x_max': -626.3412925958634, 'y_max': 91.51550045013427, 'label': 0, 'confidence': 0.7297702431678772}, {'x_min': 2493.0713356018064, 'y_min': 2989.843677520752, 'x_max': -626.271991610527, 'y_max': 93.63914752006531, 'label': 0, 'confidence': 0.7693963050842285}, {'x_min': 1993.446469116211, 'y_min': 2971.3702239990234, 'x_max': -661.155283498764, 'y_max': 59.63880908489227, 'label': 0, 'confidence': 0.2872041165828705}, {'x_min': 2493.039468383789, 'y_min': 2990.2102867126464, 'x_max': -628.6256461143494, 'y_max': 93.0385730266571, 'label': 0, 'confidence': 0.7902487516403198}, {'x_min': 1995.322004699707, 'y_min': 2511.2650657653808, 'x_max': -642.752301299572, 'y_max': 81.71601598262787, 'label': 0, 'confidence': 0.3336564004421234}, {'x_min': 1998.363008880615, 'y_min': 2512.7712684631347, 'x_max': -641.16153216362, 'y_max': 81.59296460151673, 'label': 0, 'confidence': 0.31274688243865967}, {'x_min': 2492.705815887451, 'y_min': 2990.106513977051, 'x_max': -625.610925579071, 'y_max': 92.43591320514679, 'label': 0, 'confidence': 0.756942093372345}, {'x_min': 2493.1794662475586, 'y_min': 2989.9542594909667, 'x_max': -626.3262612104415, 'y_max': 93.13692390918732, 'label': 0, 'confidence': 0.8026700615882874}, {'x_min': 2493.0944869995114, 'y_min': 2990.486469268799, 'x_max': -628.0880910873412, 'y_max': 92.8728447675705, 'label': 0, 'confidence': 0.7336031198501587}, {'x_min': 2492.89892578125, 'y_min': 2989.780487823486, 'x_max': -624.6247100830078, 'y_max': 92.98062644004821, 'label': 0, 'confidence': 0.6153433322906494}, {'x_min': 2493.3238220214844, 'y_min': 2989.922119903564, 'x_max': -625.6492445468903, 'y_max': 93.91496407985687, 'label': 0, 'confidence': 0.6688808798789978}, {'x_min': 2493.128533172607, 'y_min': 2990.17161026001, 'x_max': -628.0147045612335, 'y_max': 94.00402886867523, 'label': 0, 'confidence': 0.5414415001869202}]\n",
      "Saved YOLO label file: ../data/test/results/yolov5n//labels/test_light_140.txt\n",
      "Saved annotated image: ../data/test/results/cv2_detector//images/test_light_140_result.jpg\n",
      "Processing: ../data/test/samples/test_marks.JPG\n"
     ]
    },
    {
     "name": "stderr",
     "output_type": "stream",
     "text": [
      "/Users/aq_home/.cache/torch/hub/ultralytics_yolov5_master/models/common.py:865: FutureWarning: `torch.cuda.amp.autocast(args...)` is deprecated. Please use `torch.amp.autocast('cuda', args...)` instead.\n",
      "  with amp.autocast(autocast):\n"
     ]
    },
    {
     "name": "stdout",
     "output_type": "stream",
     "text": [
      "[{'x_min': 2450.794432067871, 'y_min': 1747.0554039001463, 'x_max': 182.60893049240113, 'y_max': -512.1151476860047, 'label': 0, 'confidence': 0.6598595976829529}, {'x_min': 2451.1735702514648, 'y_min': 1744.5659477233885, 'x_max': 190.52984075546263, 'y_max': -504.77302236557006, 'label': 0, 'confidence': 0.6783803105354309}, {'x_min': 3494.9025856018065, 'y_min': 1750.3009574890136, 'x_max': 262.5473361968994, 'y_max': -429.60863914489744, 'label': 0, 'confidence': 0.901944637298584}, {'x_min': 3484.9548385620114, 'y_min': 1750.6348823547362, 'x_max': 268.2584795951843, 'y_max': -433.3736862659454, 'label': 0, 'confidence': 0.8001841902732849}, {'x_min': 2415.6985473632812, 'y_min': 2604.3317779541017, 'x_max': 178.36944994926452, 'y_max': -496.1747294425964, 'label': 0, 'confidence': 0.2681286334991455}, {'x_min': 2417.9039222717283, 'y_min': 2598.052029418945, 'x_max': 181.4449599266052, 'y_max': -488.7659927845001, 'label': 0, 'confidence': 0.42421653866767883}, {'x_min': 3444.067018890381, 'y_min': 2749.629677581787, 'x_max': 246.26121311187742, 'y_max': -463.2758442878723, 'label': 0, 'confidence': 0.3863203525543213}, {'x_min': 3448.313257598877, 'y_min': 2749.1819023132325, 'x_max': 246.2824409008026, 'y_max': -452.1894229888916, 'label': 0, 'confidence': 0.7885246872901917}, {'x_min': 2451.9405624389647, 'y_min': 1737.0591751098632, 'x_max': 181.80671753883362, 'y_max': -516.6996861934662, 'label': 0, 'confidence': 0.2931559383869171}, {'x_min': 2450.4280952453614, 'y_min': 1746.8309715270996, 'x_max': 179.1712203025818, 'y_max': -513.4753603935242, 'label': 0, 'confidence': 0.6587384343147278}, {'x_min': 2450.6255630493165, 'y_min': 1745.3999427795409, 'x_max': 186.06388506889343, 'y_max': -503.84747714996337, 'label': 0, 'confidence': 0.7258281707763672}, {'x_min': 3495.5641708374023, 'y_min': 1749.6731460571289, 'x_max': 257.9753947734833, 'y_max': -428.21703586578366, 'label': 0, 'confidence': 0.8825432658195496}, {'x_min': 3485.6858779907225, 'y_min': 1750.1290924072264, 'x_max': 263.6741623878479, 'y_max': -431.26685800552366, 'label': 0, 'confidence': 0.7640937566757202}, {'x_min': 2414.9955619812013, 'y_min': 2605.9807022094724, 'x_max': 170.87360615730285, 'y_max': -492.4959042549133, 'label': 0, 'confidence': 0.36823588609695435}, {'x_min': 2417.680851745605, 'y_min': 2598.83073348999, 'x_max': 172.33410186767577, 'y_max': -485.51080412864684, 'label': 0, 'confidence': 0.5114932656288147}, {'x_min': 3444.5286849975587, 'y_min': 2750.7006340026855, 'x_max': 235.72072219848633, 'y_max': -466.3528863430023, 'label': 0, 'confidence': 0.36519598960876465}, {'x_min': 3448.50718460083, 'y_min': 2749.992473602295, 'x_max': 238.53647689819334, 'y_max': -450.7667015075683, 'label': 0, 'confidence': 0.7929826974868774}, {'x_min': 3446.3034439086914, 'y_min': 2766.3076721191405, 'x_max': 226.29815440177916, 'y_max': -471.05062837600707, 'label': 0, 'confidence': 0.2955106794834137}, {'x_min': 2453.3577003479004, 'y_min': 1736.4940086364745, 'x_max': 180.0085518836975, 'y_max': -516.0391904354095, 'label': 0, 'confidence': 0.3227792978286743}, {'x_min': 2450.503813934326, 'y_min': 1746.8440452575683, 'x_max': 177.58381748199463, 'y_max': -513.327106332779, 'label': 0, 'confidence': 0.6037229895591736}, {'x_min': 2452.090093231201, 'y_min': 1744.678163909912, 'x_max': 186.0022955417633, 'y_max': -504.6262493133545, 'label': 0, 'confidence': 0.7584853768348694}, {'x_min': 3494.972584533691, 'y_min': 1749.7586700439451, 'x_max': 257.2860789299011, 'y_max': -427.8910437583923, 'label': 0, 'confidence': 0.8069556951522827}, {'x_min': 3485.7447097778318, 'y_min': 1750.4112670898437, 'x_max': 262.5823186397552, 'y_max': -431.2632661342621, 'label': 0, 'confidence': 0.7368453145027161}, {'x_min': 2416.1814582824704, 'y_min': 2604.9522354125975, 'x_max': 170.25456161499022, 'y_max': -494.3527995586395, 'label': 0, 'confidence': 0.3558405041694641}, {'x_min': 2418.470178222656, 'y_min': 2598.2685630798337, 'x_max': 169.71739811897277, 'y_max': -487.7733255386352, 'label': 0, 'confidence': 0.4327160716056824}, {'x_min': 3444.1462783813477, 'y_min': 2750.84090423584, 'x_max': 234.82540998458862, 'y_max': -465.63461422920227, 'label': 0, 'confidence': 0.36071738600730896}, {'x_min': 3447.554708862305, 'y_min': 2749.640299987793, 'x_max': 237.9485846042633, 'y_max': -452.05031032562255, 'label': 0, 'confidence': 0.788091778755188}, {'x_min': 3444.7177093505857, 'y_min': 2765.693479156494, 'x_max': 224.27657775878905, 'y_max': -472.92039313316343, 'label': 0, 'confidence': 0.36916646361351013}, {'x_min': 2449.3416137695312, 'y_min': 1745.7722717285155, 'x_max': 181.45891885757445, 'y_max': -506.26400642395015, 'label': 0, 'confidence': 0.9265986680984497}, {'x_min': 3495.120481109619, 'y_min': 1751.8510116577147, 'x_max': 261.68433380126953, 'y_max': -438.24581279754636, 'label': 0, 'confidence': 0.8808189630508423}, {'x_min': 2451.7686973571776, 'y_min': 1746.9598022460937, 'x_max': 180.34994988441466, 'y_max': -518.0099531650543, 'label': 0, 'confidence': 0.9229882955551147}, {'x_min': 2449.566318511963, 'y_min': 1744.6999534606932, 'x_max': 178.70027661323547, 'y_max': -513.5454614639282, 'label': 0, 'confidence': 0.8768945932388306}, {'x_min': 3492.964677429199, 'y_min': 1750.3284667968749, 'x_max': 254.67608227729795, 'y_max': -443.01808190345764, 'label': 0, 'confidence': 0.32028406858444214}, {'x_min': 3494.1257881164547, 'y_min': 1744.8355934143065, 'x_max': 258.4281407833099, 'y_max': -441.3400141239166, 'label': 0, 'confidence': 0.8829601407051086}, {'x_min': 2419.3088035583496, 'y_min': 2604.423838806152, 'x_max': 166.79303612709046, 'y_max': -501.5465686798095, 'label': 0, 'confidence': 0.41036370396614075}, {'x_min': 2417.8911209106445, 'y_min': 2603.656029510498, 'x_max': 168.1883674621582, 'y_max': -504.5718775749206, 'label': 0, 'confidence': 0.4098339378833771}, {'x_min': 2419.085188293457, 'y_min': 2605.3861198425293, 'x_max': 166.46980175971984, 'y_max': -492.00815877914425, 'label': 0, 'confidence': 0.453747421503067}, {'x_min': 3444.85225982666, 'y_min': 2755.772424316406, 'x_max': 240.5902952671051, 'y_max': -451.2799816131592, 'label': 0, 'confidence': 0.7527217864990234}, {'x_min': 3449.56452255249, 'y_min': 2753.2954971313475, 'x_max': 236.88104982376097, 'y_max': -469.9594315052032, 'label': 0, 'confidence': 0.8880875110626221}, {'x_min': 3445.4620948791503, 'y_min': 2752.8771377563476, 'x_max': 232.90595483779907, 'y_max': -464.3097925186157, 'label': 0, 'confidence': 0.8356860876083374}, {'x_min': 2449.361769104004, 'y_min': 1745.5233261108397, 'x_max': 182.06746015548705, 'y_max': -506.03070502281184, 'label': 0, 'confidence': 0.8879570960998535}, {'x_min': 3495.6714843749996, 'y_min': 1751.2768569946288, 'x_max': 260.1939115047455, 'y_max': -437.0362203598022, 'label': 0, 'confidence': 0.8794199228286743}, {'x_min': 2452.1219604492185, 'y_min': 1747.94605178833, 'x_max': 180.04208736419676, 'y_max': -518.1342216968536, 'label': 0, 'confidence': 0.9012695550918579}, {'x_min': 2450.606497192383, 'y_min': 1745.5592788696288, 'x_max': 179.22068939208984, 'y_max': -513.012128162384, 'label': 0, 'confidence': 0.8581163287162781}, {'x_min': 3492.861994171142, 'y_min': 1750.454029083252, 'x_max': 254.52908792495725, 'y_max': -440.09225592613217, 'label': 0, 'confidence': 0.3398207426071167}, {'x_min': 3494.975308227539, 'y_min': 1745.7709098815917, 'x_max': 259.0832231998443, 'y_max': -440.7449040412903, 'label': 0, 'confidence': 0.9113789200782776}, {'x_min': 2420.0564575195312, 'y_min': 2604.049603271484, 'x_max': 167.1471673965454, 'y_max': -503.8109966754913, 'label': 0, 'confidence': 0.2738480865955353}, {'x_min': 2419.148105621338, 'y_min': 2606.0588722229004, 'x_max': 168.70627784729004, 'y_max': -505.21793775558467, 'label': 0, 'confidence': 0.3047301471233368}, {'x_min': 2420.599017333984, 'y_min': 2605.777787017822, 'x_max': 167.11584491729735, 'y_max': -493.10449662208555, 'label': 0, 'confidence': 0.3549257516860962}, {'x_min': 3445.6034545898438, 'y_min': 2755.7898559570312, 'x_max': 241.38386049270628, 'y_max': -451.70615458488464, 'label': 0, 'confidence': 0.7222559452056885}, {'x_min': 3449.8774749755858, 'y_min': 2754.8787803649902, 'x_max': 237.74345641136168, 'y_max': -469.01980819702146, 'label': 0, 'confidence': 0.8954439759254456}, {'x_min': 3446.866159057617, 'y_min': 2754.3024467468263, 'x_max': 234.6437566280365, 'y_max': -464.3325353622436, 'label': 0, 'confidence': 0.8658097386360168}, {'x_min': 3494.47986831665, 'y_min': 1749.2645919799804, 'x_max': 257.6774907588959, 'y_max': -432.19221596717836, 'label': 0, 'confidence': 0.2881071865558624}]\n",
      "Saved YOLO label file: ../data/test/results/yolov5n//labels/test_marks.txt\n",
      "Saved annotated image: ../data/test/results/cv2_detector//images/test_marks_result.jpg\n",
      "Processing: ../data/test/samples/test_light_70.JPG\n"
     ]
    },
    {
     "name": "stderr",
     "output_type": "stream",
     "text": [
      "/Users/aq_home/.cache/torch/hub/ultralytics_yolov5_master/models/common.py:865: FutureWarning: `torch.cuda.amp.autocast(args...)` is deprecated. Please use `torch.amp.autocast('cuda', args...)` instead.\n",
      "  with amp.autocast(autocast):\n"
     ]
    },
    {
     "name": "stdout",
     "output_type": "stream",
     "text": [
      "[{'x_min': 1607.7986572265625, 'y_min': 2581.321467590332, 'x_max': -557.8363152980804, 'y_max': 184.55359683036804, 'label': 0, 'confidence': 0.7318198680877686}, {'x_min': 2520.0789390563964, 'y_min': 2552.7482849121093, 'x_max': -474.8561223506927, 'y_max': 269.2413415431976, 'label': 0, 'confidence': 0.7390788197517395}, {'x_min': 2520.188976287842, 'y_min': 2555.449099731445, 'x_max': -471.15322651863096, 'y_max': 273.2989644527435, 'label': 0, 'confidence': 0.8775339126586914}, {'x_min': 1605.0025131225586, 'y_min': 2584.51962890625, 'x_max': -559.1887144088745, 'y_max': 191.52550406455993, 'label': 0, 'confidence': 0.7690438032150269}, {'x_min': 2520.745699310303, 'y_min': 2557.730465698242, 'x_max': -471.9593037128448, 'y_max': 263.17400708198545, 'label': 0, 'confidence': 0.719406247138977}, {'x_min': 2500.019206237793, 'y_min': 3493.4241645812986, 'x_max': -507.2338286876678, 'y_max': 240.9551510810852, 'label': 0, 'confidence': 0.3530678451061249}, {'x_min': 2504.7878494262695, 'y_min': 3495.573703765869, 'x_max': -505.0312455654144, 'y_max': 246.37285051345825, 'label': 0, 'confidence': 0.4363747835159302}, {'x_min': 2503.5482963562013, 'y_min': 3499.507262420654, 'x_max': -490.41507024765014, 'y_max': 256.5979887485504, 'label': 0, 'confidence': 0.6746754050254822}, {'x_min': 2504.5391761779783, 'y_min': 3500.666738891601, 'x_max': -494.7355125904083, 'y_max': 251.7999807357788, 'label': 0, 'confidence': 0.7577505707740784}, {'x_min': 1607.4034492492676, 'y_min': 2581.8144561767576, 'x_max': -564.56976313591, 'y_max': 181.4955355167389, 'label': 0, 'confidence': 0.7664507627487183}, {'x_min': 2520.1483932495116, 'y_min': 2553.0429885864255, 'x_max': -480.3784626960754, 'y_max': 272.2164834022522, 'label': 0, 'confidence': 0.7007185220718384}, {'x_min': 2519.8090209960938, 'y_min': 2556.2169090270995, 'x_max': -479.88128643035884, 'y_max': 276.3935743331909, 'label': 0, 'confidence': 0.8695772886276245}, {'x_min': 1604.351277923584, 'y_min': 2584.939350128174, 'x_max': -562.8335785388946, 'y_max': 191.06988115310668, 'label': 0, 'confidence': 0.7964423298835754}, {'x_min': 2520.487493133545, 'y_min': 2558.3136085510255, 'x_max': -481.79051070213313, 'y_max': 262.39647760391233, 'label': 0, 'confidence': 0.7435702681541443}, {'x_min': 2499.7490158081055, 'y_min': 3494.2625175476073, 'x_max': -515.2158007621765, 'y_max': 245.40806708335876, 'label': 0, 'confidence': 0.3441869914531708}, {'x_min': 2504.254005432129, 'y_min': 3496.2927589416504, 'x_max': -513.3436187267304, 'y_max': 251.58324279785154, 'label': 0, 'confidence': 0.4620901048183441}, {'x_min': 2504.4285942077636, 'y_min': 3501.3558334350582, 'x_max': -498.53266525268555, 'y_max': 261.8067468166351, 'label': 0, 'confidence': 0.7145371437072754}, {'x_min': 2505.005200195312, 'y_min': 3502.6411445617673, 'x_max': -505.18765368461607, 'y_max': 255.96357235908508, 'label': 0, 'confidence': 0.7836700677871704}, {'x_min': 1608.237171936035, 'y_min': 2581.1378906249997, 'x_max': -566.5322015762329, 'y_max': 181.31771235466002, 'label': 0, 'confidence': 0.771610677242279}, {'x_min': 2519.825090789795, 'y_min': 2552.7270401000974, 'x_max': -482.46811466217036, 'y_max': 271.4771367073059, 'label': 0, 'confidence': 0.6216363310813904}, {'x_min': 2519.4862632751465, 'y_min': 2555.764503479004, 'x_max': -482.0109086036682, 'y_max': 274.522022151947, 'label': 0, 'confidence': 0.8388814330101013}, {'x_min': 1605.4383041381836, 'y_min': 2584.294107055664, 'x_max': -563.1508548259735, 'y_max': 190.95007266998292, 'label': 0, 'confidence': 0.7812247276306152}, {'x_min': 2520.6067909240724, 'y_min': 2557.6427627563476, 'x_max': -485.26008810997007, 'y_max': 261.7561371803284, 'label': 0, 'confidence': 0.7449893355369568}, {'x_min': 2499.388943481445, 'y_min': 3493.7333038330075, 'x_max': -517.4884679317474, 'y_max': 242.7665096282959, 'label': 0, 'confidence': 0.3178333044052124}, {'x_min': 2505.180061340332, 'y_min': 3495.1942932128904, 'x_max': -515.6739941596985, 'y_max': 248.0629195690155, 'label': 0, 'confidence': 0.45875686407089233}, {'x_min': 2503.308883666992, 'y_min': 3500.936384582519, 'x_max': -498.3270263671875, 'y_max': 260.5578991413116, 'label': 0, 'confidence': 0.654492199420929}, {'x_min': 2504.2463790893553, 'y_min': 3501.790807342529, 'x_max': -505.3452534198761, 'y_max': 253.87865281105042, 'label': 0, 'confidence': 0.7804135680198669}, {'x_min': 1602.4103736877441, 'y_min': 2589.4274528503415, 'x_max': -560.7815816402435, 'y_max': 194.61640291213988, 'label': 0, 'confidence': 0.9326342940330505}, {'x_min': 2522.161747741699, 'y_min': 2552.823731231689, 'x_max': -483.0082571983337, 'y_max': 265.5987755298614, 'label': 0, 'confidence': 0.9316053986549377}, {'x_min': 2517.2408500671386, 'y_min': 2550.3634185791016, 'x_max': -484.3669208049774, 'y_max': 264.12391233444214, 'label': 0, 'confidence': 0.8924636840820312}, {'x_min': 1605.194805908203, 'y_min': 2590.065069580078, 'x_max': -560.4232967376709, 'y_max': 186.31686515808104, 'label': 0, 'confidence': 0.9028128981590271}, {'x_min': 1602.9523887634277, 'y_min': 2587.036594390869, 'x_max': -563.7738487243652, 'y_max': 189.46649365425108, 'label': 0, 'confidence': 0.8915154933929443}, {'x_min': 2520.560760498047, 'y_min': 2551.7925407409666, 'x_max': -483.1040971755981, 'y_max': 262.0133900642395, 'label': 0, 'confidence': 0.9215851426124573}, {'x_min': 2505.2813827514647, 'y_min': 3501.605051422119, 'x_max': -512.0466808319092, 'y_max': 249.79147782325742, 'label': 0, 'confidence': 0.8604328036308289}, {'x_min': 2503.75284576416, 'y_min': 3503.0093879699707, 'x_max': -512.0162095069885, 'y_max': 250.93912324905395, 'label': 0, 'confidence': 0.526277482509613}, {'x_min': 2505.464959716797, 'y_min': 3507.0557075500487, 'x_max': -512.9976925849915, 'y_max': 251.54105958938598, 'label': 0, 'confidence': 0.4651070237159729}, {'x_min': 1602.7570999145507, 'y_min': 2589.029521179199, 'x_max': -560.3307762622833, 'y_max': 194.71420054435728, 'label': 0, 'confidence': 0.8816034197807312}, {'x_min': 2522.2777770996095, 'y_min': 2552.5796882629393, 'x_max': -483.7039566993713, 'y_max': 266.192898273468, 'label': 0, 'confidence': 0.9295971989631653}, {'x_min': 2517.310848999023, 'y_min': 2550.6995223999024, 'x_max': -483.47925195693966, 'y_max': 265.8605565547943, 'label': 0, 'confidence': 0.890053391456604}, {'x_min': 1605.280874633789, 'y_min': 2590.565139770508, 'x_max': -561.1649415493011, 'y_max': 186.23009848594666, 'label': 0, 'confidence': 0.854152500629425}, {'x_min': 1604.2115524291992, 'y_min': 2587.2307937622068, 'x_max': -563.102117729187, 'y_max': 189.92655959129334, 'label': 0, 'confidence': 0.8490970730781555}, {'x_min': 2521.1561599731444, 'y_min': 2551.920281982422, 'x_max': -482.31848173141475, 'y_max': 263.0264169216156, 'label': 0, 'confidence': 0.9322580695152283}, {'x_min': 2506.1287239074704, 'y_min': 3502.0868728637693, 'x_max': -511.47577757835387, 'y_max': 250.6494584083557, 'label': 0, 'confidence': 0.8468950390815735}, {'x_min': 2503.7356864929197, 'y_min': 3502.8397018432615, 'x_max': -510.5286811351776, 'y_max': 253.5653088569641, 'label': 0, 'confidence': 0.5344986319541931}, {'x_min': 2506.8771949768065, 'y_min': 3507.1387802124023, 'x_max': -510.7072873592376, 'y_max': 253.22643027305602, 'label': 0, 'confidence': 0.44933152198791504}]\n",
      "Saved YOLO label file: ../data/test/results/yolov5n//labels/test_light_70.txt\n",
      "Saved annotated image: ../data/test/results/cv2_detector//images/test_light_70_result.jpg\n",
      "Processing: ../data/test/samples/test_70.JPG\n"
     ]
    },
    {
     "name": "stderr",
     "output_type": "stream",
     "text": [
      "/Users/aq_home/.cache/torch/hub/ultralytics_yolov5_master/models/common.py:865: FutureWarning: `torch.cuda.amp.autocast(args...)` is deprecated. Please use `torch.amp.autocast('cuda', args...)` instead.\n",
      "  with amp.autocast(autocast):\n"
     ]
    },
    {
     "name": "stdout",
     "output_type": "stream",
     "text": [
      "[{'x_min': 1495.2693820953368, 'y_min': 1790.936018371582, 'x_max': -474.0260426044464, 'y_max': 294.8125539779663, 'label': 0, 'confidence': 0.45580700039863586}, {'x_min': 1495.1935272216797, 'y_min': 1794.3948371887207, 'x_max': -462.32251739501953, 'y_max': 304.04267578125, 'label': 0, 'confidence': 0.39604467153549194}, {'x_min': 1502.7091518402099, 'y_min': 1801.018996810913, 'x_max': -467.26992001533506, 'y_max': 310.9639223098755, 'label': 0, 'confidence': 0.8836201429367065}, {'x_min': 1494.4735187530516, 'y_min': 1802.5728641510009, 'x_max': -460.3364679336548, 'y_max': 307.39125308990475, 'label': 0, 'confidence': 0.7961835861206055}, {'x_min': 1515.994921875, 'y_min': 2989.336798095703, 'x_max': -498.4818683624267, 'y_max': 276.51597032546994, 'label': 0, 'confidence': 0.32386985421180725}, {'x_min': 1519.3522830963134, 'y_min': 2980.6283317565917, 'x_max': -489.7263672351837, 'y_max': 283.4551421642303, 'label': 0, 'confidence': 0.9203879237174988}, {'x_min': 1516.3461421966551, 'y_min': 2995.199821472168, 'x_max': -495.7719461917877, 'y_max': 250.79597611427306, 'label': 0, 'confidence': 0.2765081524848938}, {'x_min': 1517.6285934448242, 'y_min': 2991.171750640869, 'x_max': -491.1440669059753, 'y_max': 264.1143113136291, 'label': 0, 'confidence': 0.7978692054748535}, {'x_min': 2852.8010215759277, 'y_min': 3082.232189941406, 'x_max': -408.89801158905027, 'y_max': 313.6831220626831, 'label': 0, 'confidence': 0.32826635241508484}, {'x_min': 1495.6812046051025, 'y_min': 1791.4954650878906, 'x_max': -483.0555303096771, 'y_max': 309.06659717559813, 'label': 0, 'confidence': 0.4707314074039459}, {'x_min': 1493.5813728332519, 'y_min': 1795.1849807739256, 'x_max': -471.08428301811216, 'y_max': 323.6206892967224, 'label': 0, 'confidence': 0.41399672627449036}, {'x_min': 1503.6394294738768, 'y_min': 1802.3491127014158, 'x_max': -477.18760428428646, 'y_max': 324.010790348053, 'label': 0, 'confidence': 0.8990734815597534}, {'x_min': 1494.2232112884521, 'y_min': 1804.2314575195312, 'x_max': -474.25566701889034, 'y_max': 318.69836168289186, 'label': 0, 'confidence': 0.8244321942329407}, {'x_min': 1516.365616607666, 'y_min': 2989.7265586853027, 'x_max': -507.136609840393, 'y_max': 289.4571249961853, 'label': 0, 'confidence': 0.33335840702056885}, {'x_min': 1519.2764282226562, 'y_min': 2982.0517341613768, 'x_max': -501.43901681900024, 'y_max': 290.4478686332703, 'label': 0, 'confidence': 0.9278122782707214}, {'x_min': 1516.4797393798829, 'y_min': 2996.199417114258, 'x_max': -505.3965269565582, 'y_max': 257.0237020969391, 'label': 0, 'confidence': 0.31160855293273926}, {'x_min': 1517.6614139556884, 'y_min': 2992.1193237304688, 'x_max': -500.9214298725128, 'y_max': 269.61722831726075, 'label': 0, 'confidence': 0.8276850581169128}, {'x_min': 2854.686362457275, 'y_min': 3083.1691406249997, 'x_max': -392.808164691925, 'y_max': 334.3880298614502, 'label': 0, 'confidence': 0.45655742287635803}, {'x_min': 1494.4389278411866, 'y_min': 1791.6019615173338, 'x_max': -487.86397347450253, 'y_max': 300.91573905944824, 'label': 0, 'confidence': 0.37998396158218384}, {'x_min': 1493.5290779113768, 'y_min': 1795.5040615081787, 'x_max': -479.01264939308163, 'y_max': 311.20350522994994, 'label': 0, 'confidence': 0.3935840129852295}, {'x_min': 1502.747283554077, 'y_min': 1801.658656311035, 'x_max': -480.50611882209773, 'y_max': 319.5525120735168, 'label': 0, 'confidence': 0.8264355063438416}, {'x_min': 1493.8120697021484, 'y_min': 1803.9746131896973, 'x_max': -483.107603931427, 'y_max': 313.7941125869751, 'label': 0, 'confidence': 0.7747632265090942}, {'x_min': 1519.259949874878, 'y_min': 2980.846499633789, 'x_max': -504.9870706558227, 'y_max': 286.6315309524536, 'label': 0, 'confidence': 0.9008076190948486}, {'x_min': 1516.0572944641112, 'y_min': 2996.1473945617677, 'x_max': -506.3883600711822, 'y_max': 257.1651639461517, 'label': 0, 'confidence': 0.2585221230983734}, {'x_min': 1517.452779006958, 'y_min': 2991.3201919555663, 'x_max': -502.7522458076477, 'y_max': 266.57818179130555, 'label': 0, 'confidence': 0.8242732882499695}, {'x_min': 2855.3392318725587, 'y_min': 3082.953151702881, 'x_max': -386.55790014266967, 'y_max': 322.8142716407776, 'label': 0, 'confidence': 0.49872124195098877}, {'x_min': 1498.3632259368896, 'y_min': 1803.6524002075193, 'x_max': -468.00267877578733, 'y_max': 306.7604115486145, 'label': 0, 'confidence': 0.9104858040809631}, {'x_min': 1503.3001934051513, 'y_min': 1804.5136322021483, 'x_max': -485.2675952911377, 'y_max': 313.7330677986145, 'label': 0, 'confidence': 0.43803173303604126}, {'x_min': 1498.4709480285644, 'y_min': 1807.130693435669, 'x_max': -479.9100214004516, 'y_max': 305.5650504112244, 'label': 0, 'confidence': 0.8653694987297058}, {'x_min': 1518.012770462036, 'y_min': 2979.814492034912, 'x_max': -506.7494027137756, 'y_max': 280.84020881652833, 'label': 0, 'confidence': 0.9122715592384338}, {'x_min': 1516.3085552215575, 'y_min': 2975.090517425537, 'x_max': -506.47291374206543, 'y_max': 286.2687689781189, 'label': 0, 'confidence': 0.7771545648574829}, {'x_min': 1516.104141998291, 'y_min': 2980.702143859863, 'x_max': -507.9964629650116, 'y_max': 279.3003174304962, 'label': 0, 'confidence': 0.886850118637085}, {'x_min': 2870.9686042785643, 'y_min': 3077.177286529541, 'x_max': -376.7437162399292, 'y_max': 339.557328414917, 'label': 0, 'confidence': 0.6454491019248962}, {'x_min': 2863.4250617980956, 'y_min': 3068.907607269287, 'x_max': -381.98434152603147, 'y_max': 330.27235822677613, 'label': 0, 'confidence': 0.6725643873214722}, {'x_min': 2883.557244873047, 'y_min': 1634.3053733825684, 'x_max': -367.15794811248776, 'y_max': 316.5671733856201, 'label': 0, 'confidence': 0.2997758686542511}, {'x_min': 1498.0342037200928, 'y_min': 1802.204348373413, 'x_max': -468.88568329811096, 'y_max': 307.16566314697263, 'label': 0, 'confidence': 0.9215918183326721}, {'x_min': 1503.4258918762207, 'y_min': 1801.4393989562986, 'x_max': -484.14524617195127, 'y_max': 311.54509048461915, 'label': 0, 'confidence': 0.4715592563152313}, {'x_min': 1499.2337184906005, 'y_min': 1806.8757556915282, 'x_max': -479.2552624225616, 'y_max': 307.58303518295287, 'label': 0, 'confidence': 0.890140175819397}, {'x_min': 1518.2850036621094, 'y_min': 2978.634860229492, 'x_max': -506.7263364315033, 'y_max': 282.3830111503601, 'label': 0, 'confidence': 0.8968949913978577}, {'x_min': 1516.439292526245, 'y_min': 2974.717643737793, 'x_max': -503.6413275718689, 'y_max': 287.56133193969725, 'label': 0, 'confidence': 0.7464209794998169}, {'x_min': 1516.6063911437989, 'y_min': 2980.6762687683104, 'x_max': -506.37257966995236, 'y_max': 281.1111312389374, 'label': 0, 'confidence': 0.8919873237609863}, {'x_min': 2873.3115257263185, 'y_min': 3071.881336212158, 'x_max': -375.4523108482361, 'y_max': 325.88237657546995, 'label': 0, 'confidence': 0.7563913464546204}, {'x_min': 2862.593518066406, 'y_min': 3068.977061462402, 'x_max': -382.78177099227906, 'y_max': 323.2443088531494, 'label': 0, 'confidence': 0.8414956331253052}, {'x_min': 2882.3119720458985, 'y_min': 1644.8562824249268, 'x_max': -380.4527403831482, 'y_max': 330.3276492118835, 'label': 0, 'confidence': 0.44280651211738586}, {'x_min': 2877.240998840332, 'y_min': 1644.0853408813475, 'x_max': -350.7271287918091, 'y_max': 379.91355113983155, 'label': 0, 'confidence': 0.5504536032676697}, {'x_min': 1499.9022491455078, 'y_min': 1806.8602306365965, 'x_max': -472.11523518562313, 'y_max': 313.52048349380493, 'label': 0, 'confidence': 0.4737834930419922}, {'x_min': 2870.8174392700193, 'y_min': 3083.573881530762, 'x_max': -381.1411540031433, 'y_max': 337.167048740387, 'label': 0, 'confidence': 0.7790511846542358}, {'x_min': 2862.433364868164, 'y_min': 3078.460963439941, 'x_max': -369.5570457458496, 'y_max': 370.69442625045775, 'label': 0, 'confidence': 0.8977141380310059}]\n",
      "Saved YOLO label file: ../data/test/results/yolov5n//labels/test_70.txt\n",
      "Saved annotated image: ../data/test/results/cv2_detector//images/test_70_result.jpg\n",
      "Processing: ../data/test/samples/test_100.JPG\n"
     ]
    },
    {
     "name": "stderr",
     "output_type": "stream",
     "text": [
      "/Users/aq_home/.cache/torch/hub/ultralytics_yolov5_master/models/common.py:865: FutureWarning: `torch.cuda.amp.autocast(args...)` is deprecated. Please use `torch.amp.autocast('cuda', args...)` instead.\n",
      "  with amp.autocast(autocast):\n"
     ]
    },
    {
     "name": "stdout",
     "output_type": "stream",
     "text": [
      "[{'x_min': 2720.415609741211, 'y_min': 2153.5089683532715, 'x_max': -465.93607606887815, 'y_max': 268.638485956192, 'label': 0, 'confidence': 0.3172253668308258}, {'x_min': 2719.9702857971192, 'y_min': 2147.786623764038, 'x_max': -453.42883987426757, 'y_max': 278.37414236068724, 'label': 0, 'confidence': 0.7181000709533691}, {'x_min': 2716.7849258422852, 'y_min': 2143.175001525879, 'x_max': -457.29406785964966, 'y_max': 272.05571737289426, 'label': 0, 'confidence': 0.6290642023086548}, {'x_min': 1734.0734619140624, 'y_min': 2232.2867740631104, 'x_max': -530.4825473785401, 'y_max': 220.08571515083312, 'label': 0, 'confidence': 0.3075222671031952}, {'x_min': 2719.4571418762207, 'y_min': 2153.6583629608153, 'x_max': -474.8634252548218, 'y_max': 273.4622839450836, 'label': 0, 'confidence': 0.2864239513874054}, {'x_min': 2720.964978790283, 'y_min': 2147.9508625030517, 'x_max': -462.5904267311096, 'y_max': 275.30314350128174, 'label': 0, 'confidence': 0.6818681359291077}, {'x_min': 2716.973405456543, 'y_min': 2143.3452323913575, 'x_max': -468.4815722465515, 'y_max': 270.0474187374115, 'label': 0, 'confidence': 0.6035520434379578}, {'x_min': 1733.4821479797363, 'y_min': 2233.1426948547364, 'x_max': -540.8356651782989, 'y_max': 221.2454129219055, 'label': 0, 'confidence': 0.4223063886165619}, {'x_min': 1739.0352149963378, 'y_min': 3094.846160888672, 'x_max': -555.4750259399414, 'y_max': 200.1161536216736, 'label': 0, 'confidence': 0.3289755880832672}, {'x_min': 2719.8079536437986, 'y_min': 2153.3898067474365, 'x_max': -478.48796381950376, 'y_max': 269.7191966056824, 'label': 0, 'confidence': 0.2752913236618042}, {'x_min': 2720.159310150146, 'y_min': 2147.990083694458, 'x_max': -463.20528359413146, 'y_max': 278.0281311035156, 'label': 0, 'confidence': 0.5900007486343384}, {'x_min': 2716.6078857421876, 'y_min': 2143.0606063842774, 'x_max': -471.4803421497345, 'y_max': 271.35213618278505, 'label': 0, 'confidence': 0.556398332118988}, {'x_min': 1734.9714637756347, 'y_min': 2232.3970836639405, 'x_max': -542.3687473297119, 'y_max': 220.41723976135253, 'label': 0, 'confidence': 0.4505877196788788}, {'x_min': 1740.2557022094725, 'y_min': 3094.765811920166, 'x_max': -554.5301595211029, 'y_max': 199.02257351875303, 'label': 0, 'confidence': 0.36915645003318787}, {'x_min': 2719.4184654235837, 'y_min': 2147.461414718628, 'x_max': -473.7006633281708, 'y_max': 266.74706783294675, 'label': 0, 'confidence': 0.3959908187389374}, {'x_min': 2719.020533752441, 'y_min': 2147.9033340454102, 'x_max': -470.321325302124, 'y_max': 270.44157128334047, 'label': 0, 'confidence': 0.8487198948860168}, {'x_min': 1737.3062141418457, 'y_min': 2235.8823223114014, 'x_max': -543.6043850898742, 'y_max': 207.1856882572174, 'label': 0, 'confidence': 0.6987946629524231}, {'x_min': 1734.2513191223145, 'y_min': 2235.3856567382813, 'x_max': -548.9314706325531, 'y_max': 214.14355144500732, 'label': 0, 'confidence': 0.7742487788200378}, {'x_min': 2720.805097961426, 'y_min': 2148.61830368042, 'x_max': -472.6187780857086, 'y_max': 269.84707403182983, 'label': 0, 'confidence': 0.44010263681411743}, {'x_min': 2716.3232597351075, 'y_min': 2146.6921073913572, 'x_max': -469.34641313552856, 'y_max': 272.4760684490204, 'label': 0, 'confidence': 0.7800790071487427}, {'x_min': 1736.3894187927247, 'y_min': 2236.416302490234, 'x_max': -552.7807990550995, 'y_max': 216.12561750411987, 'label': 0, 'confidence': 0.48513472080230713}, {'x_min': 1741.0463905334473, 'y_min': 3084.903044128418, 'x_max': -560.4639308452606, 'y_max': 186.34365949630737, 'label': 0, 'confidence': 0.32131555676460266}, {'x_min': 1742.0835731506347, 'y_min': 3087.877862548828, 'x_max': -567.8687351703644, 'y_max': 196.67740502357483, 'label': 0, 'confidence': 0.3572777211666107}, {'x_min': 2719.339750671387, 'y_min': 2147.1257194519044, 'x_max': -472.4217018127441, 'y_max': 267.8734173774719, 'label': 0, 'confidence': 0.4069097936153412}, {'x_min': 2719.4574142456054, 'y_min': 2147.070292282104, 'x_max': -470.1497325897217, 'y_max': 271.0886528491974, 'label': 0, 'confidence': 0.836214005947113}, {'x_min': 1737.5243820190428, 'y_min': 2236.5180324554444, 'x_max': -543.5862895488739, 'y_max': 206.52229857444763, 'label': 0, 'confidence': 0.5975688695907593}, {'x_min': 1735.2991241455077, 'y_min': 2235.665243911743, 'x_max': -547.3796971321106, 'y_max': 213.97812108993529, 'label': 0, 'confidence': 0.6808497309684753}, {'x_min': 2721.5246978759765, 'y_min': 2149.052324295044, 'x_max': -471.6433382034302, 'y_max': 271.0591007709503, 'label': 0, 'confidence': 0.4902907609939575}, {'x_min': 2717.0093582153318, 'y_min': 2147.642812728882, 'x_max': -468.01862940788266, 'y_max': 272.2399582386017, 'label': 0, 'confidence': 0.8459542989730835}, {'x_min': 1738.6517189025878, 'y_min': 2237.2624179840086, 'x_max': -551.529278755188, 'y_max': 216.30711765289306, 'label': 0, 'confidence': 0.3680449426174164}]\n",
      "Saved YOLO label file: ../data/test/results/yolov5n//labels/test_100.txt\n",
      "Saved annotated image: ../data/test/results/cv2_detector//images/test_100_result.jpg\n",
      "Processing: ../data/test/samples/test_light_80.JPG\n"
     ]
    },
    {
     "name": "stderr",
     "output_type": "stream",
     "text": [
      "/Users/aq_home/.cache/torch/hub/ultralytics_yolov5_master/models/common.py:865: FutureWarning: `torch.cuda.amp.autocast(args...)` is deprecated. Please use `torch.amp.autocast('cuda', args...)` instead.\n",
      "  with amp.autocast(autocast):\n"
     ]
    },
    {
     "name": "stdout",
     "output_type": "stream",
     "text": [
      "[{'x_min': 1711.0454475402832, 'y_min': 2541.18402557373, 'x_max': -582.3466064214706, 'y_max': 153.10094203948975, 'label': 0, 'confidence': 0.7493115067481995}, {'x_min': 1711.8644622802733, 'y_min': 2533.0935653686524, 'x_max': -585.300954580307, 'y_max': 141.49989581108093, 'label': 0, 'confidence': 0.7492915987968445}, {'x_min': 2524.6830711364746, 'y_min': 2529.2714057922362, 'x_max': -522.3924106121063, 'y_max': 205.90213050842286, 'label': 0, 'confidence': 0.500119686126709}, {'x_min': 2523.961837005615, 'y_min': 2526.66946105957, 'x_max': -512.9590331554413, 'y_max': 217.36673669815062, 'label': 0, 'confidence': 0.44972923398017883}, {'x_min': 1691.7685043334961, 'y_min': 3253.6462280273436, 'x_max': -593.9317105293273, 'y_max': 165.30566096305847, 'label': 0, 'confidence': 0.6526810526847839}, {'x_min': 1690.7283256530761, 'y_min': 3254.980838012695, 'x_max': -594.3881760835648, 'y_max': 161.0417182445526, 'label': 0, 'confidence': 0.3147241771221161}, {'x_min': 1692.8745964050293, 'y_min': 3269.8505722045898, 'x_max': -589.3107511281967, 'y_max': 146.04516205787658, 'label': 0, 'confidence': 0.46779632568359375}, {'x_min': 2497.434965515137, 'y_min': 3352.1211067199706, 'x_max': -532.132527065277, 'y_max': 184.58733658790587, 'label': 0, 'confidence': 0.33036133646965027}, {'x_min': 2499.12174911499, 'y_min': 3360.6331947326657, 'x_max': -517.3956240177155, 'y_max': 204.49496812820433, 'label': 0, 'confidence': 0.656028687953949}, {'x_min': 2502.1692901611327, 'y_min': 3364.9902877807617, 'x_max': -522.5354726314545, 'y_max': 192.46831068992614, 'label': 0, 'confidence': 0.4994194805622101}, {'x_min': 1711.0018684387207, 'y_min': 2541.9297729492187, 'x_max': -583.322974061966, 'y_max': 151.1576886177063, 'label': 0, 'confidence': 0.7721431255340576}, {'x_min': 1711.9829429626463, 'y_min': 2534.282730102539, 'x_max': -586.6569115161896, 'y_max': 139.50591359138488, 'label': 0, 'confidence': 0.7711309194564819}, {'x_min': 2524.3589515686035, 'y_min': 2529.4838539123534, 'x_max': -527.5820177078247, 'y_max': 201.93818564414977, 'label': 0, 'confidence': 0.5062518119812012}, {'x_min': 2523.303247833252, 'y_min': 2528.137804412842, 'x_max': -521.2224819660187, 'y_max': 216.31966366767884, 'label': 0, 'confidence': 0.541276216506958}, {'x_min': 1711.8748123168946, 'y_min': 2560.403498840332, 'x_max': -590.2336152076721, 'y_max': 152.87686715126037, 'label': 0, 'confidence': 0.26363304257392883}, {'x_min': 1713.9170379638672, 'y_min': 2566.819432067871, 'x_max': -583.007468175888, 'y_max': 153.1353627204895, 'label': 0, 'confidence': 0.30676591396331787}, {'x_min': 1691.6538368225097, 'y_min': 3254.446449279785, 'x_max': -597.0919188737869, 'y_max': 163.79137229919434, 'label': 0, 'confidence': 0.7622302770614624}, {'x_min': 1691.0194885253907, 'y_min': 3255.0219657897946, 'x_max': -595.3065886259079, 'y_max': 159.46629967689515, 'label': 0, 'confidence': 0.4328504502773285}, {'x_min': 1693.077239227295, 'y_min': 3270.587059020996, 'x_max': -594.8544639587402, 'y_max': 144.1235960483551, 'label': 0, 'confidence': 0.51572185754776}, {'x_min': 2497.7135993957518, 'y_min': 3352.9872413635253, 'x_max': -537.6689965724945, 'y_max': 182.78581738471985, 'label': 0, 'confidence': 0.3510054647922516}, {'x_min': 2499.1389083862305, 'y_min': 3362.4022338867185, 'x_max': -524.1953257083893, 'y_max': 203.32989106178283, 'label': 0, 'confidence': 0.696280300617218}, {'x_min': 2502.7317329406737, 'y_min': 3366.7386268615724, 'x_max': -529.1470181465148, 'y_max': 191.91722230911253, 'label': 0, 'confidence': 0.5514439344406128}, {'x_min': 1711.3393341064452, 'y_min': 2541.669387817383, 'x_max': -583.4800460815429, 'y_max': 151.17432017326354, 'label': 0, 'confidence': 0.709571123123169}, {'x_min': 1712.8114906311034, 'y_min': 2533.7319992065427, 'x_max': -586.5475977659225, 'y_max': 140.0874903202057, 'label': 0, 'confidence': 0.7083923816680908}, {'x_min': 2524.51365737915, 'y_min': 2529.2888374328613, 'x_max': -530.2911738395691, 'y_max': 203.0821030139923, 'label': 0, 'confidence': 0.43342286348342896}, {'x_min': 2524.9924827575683, 'y_min': 2527.433184814453, 'x_max': -523.5280888080597, 'y_max': 215.84492383003234, 'label': 0, 'confidence': 0.559579610824585}, {'x_min': 1713.9559867858886, 'y_min': 2566.459359741211, 'x_max': -584.7596204280853, 'y_max': 153.45943121910094, 'label': 0, 'confidence': 0.2657622992992401}, {'x_min': 1692.5142517089844, 'y_min': 3253.74945602417, 'x_max': -597.3074311494827, 'y_max': 163.97537484169007, 'label': 0, 'confidence': 0.6767853498458862}, {'x_min': 1691.7249252319336, 'y_min': 3255.281261444092, 'x_max': -595.307056760788, 'y_max': 159.60113954544067, 'label': 0, 'confidence': 0.38116973638534546}, {'x_min': 1692.3083404541014, 'y_min': 3270.5039863586426, 'x_max': -598.0530678749084, 'y_max': 145.21412901878355, 'label': 0, 'confidence': 0.4402189552783966}, {'x_min': 2498.9261878967286, 'y_min': 3352.3863945007324, 'x_max': -538.961099910736, 'y_max': 182.5242917060852, 'label': 0, 'confidence': 0.326358437538147}, {'x_min': 2498.8038940429688, 'y_min': 3362.080020904541, 'x_max': -525.2508081436157, 'y_max': 203.16624813079832, 'label': 0, 'confidence': 0.679098904132843}, {'x_min': 2501.9799934387206, 'y_min': 3366.0865745544434, 'x_max': -529.9647391319274, 'y_max': 191.0040699005127, 'label': 0, 'confidence': 0.5622929334640503}, {'x_min': 2525.007735443115, 'y_min': 2531.9994575500486, 'x_max': -521.4849439144134, 'y_max': 212.63523788452147, 'label': 0, 'confidence': 0.8459123373031616}, {'x_min': 2523.197568511963, 'y_min': 2528.150333404541, 'x_max': -519.0682614326477, 'y_max': 211.4953209400177, 'label': 0, 'confidence': 0.8627554774284363}, {'x_min': 2523.1281143188476, 'y_min': 2533.2259368896484, 'x_max': -520.919351863861, 'y_max': 212.4358805179596, 'label': 0, 'confidence': 0.8942407965660095}, {'x_min': 2499.531120300293, 'y_min': 3361.8553161621094, 'x_max': -536.2915735244751, 'y_max': 195.48131189346313, 'label': 0, 'confidence': 0.8547673225402832}, {'x_min': 2499.8462516784666, 'y_min': 3363.959097290039, 'x_max': -536.6438492774963, 'y_max': 198.98473119735718, 'label': 0, 'confidence': 0.46211403608322144}, {'x_min': 2525.66986541748, 'y_min': 2532.5480094909667, 'x_max': -521.1749364852905, 'y_max': 213.27506761550902, 'label': 0, 'confidence': 0.8119404911994934}, {'x_min': 2523.11395111084, 'y_min': 2528.5983810424805, 'x_max': -518.4847781181335, 'y_max': 212.6344207763672, 'label': 0, 'confidence': 0.8430988788604736}, {'x_min': 2524.059617614746, 'y_min': 2533.6641792297364, 'x_max': -519.894579076767, 'y_max': 212.78873505592347, 'label': 0, 'confidence': 0.871198832988739}, {'x_min': 2500.323715209961, 'y_min': 3362.40059967041, 'x_max': -536.1185508728028, 'y_max': 195.48859777450562, 'label': 0, 'confidence': 0.8113180994987488}, {'x_min': 2501.3538162231443, 'y_min': 3363.917969512939, 'x_max': -534.852918434143, 'y_max': 199.46852731704712, 'label': 0, 'confidence': 0.3729420006275177}]\n",
      "Saved YOLO label file: ../data/test/results/yolov5n//labels/test_light_80.txt\n",
      "Saved annotated image: ../data/test/results/cv2_detector//images/test_light_80_result.jpg\n",
      "Processing: ../data/test/samples/test_130.JPG\n"
     ]
    },
    {
     "name": "stderr",
     "output_type": "stream",
     "text": [
      "/Users/aq_home/.cache/torch/hub/ultralytics_yolov5_master/models/common.py:865: FutureWarning: `torch.cuda.amp.autocast(args...)` is deprecated. Please use `torch.amp.autocast('cuda', args...)` instead.\n",
      "  with amp.autocast(autocast):\n"
     ]
    },
    {
     "name": "stdout",
     "output_type": "stream",
     "text": [
      "[{'x_min': 1862.0255172729492, 'y_min': 2517.193730163574, 'x_max': -578.6444510936736, 'y_max': 151.93726086616516, 'label': 0, 'confidence': 0.7356386184692383}, {'x_min': 2602.0520462036134, 'y_min': 2492.8229347229003, 'x_max': -540.9172398090362, 'y_max': 179.99656763076783, 'label': 0, 'confidence': 0.31347063183784485}, {'x_min': 1862.1769546508788, 'y_min': 2519.117202758789, 'x_max': -581.4386545658111, 'y_max': 154.67428379058836, 'label': 0, 'confidence': 0.8738173246383667}, {'x_min': 1860.7816062927245, 'y_min': 2518.786001586914, 'x_max': -582.6125410795212, 'y_max': 153.75057706832885, 'label': 0, 'confidence': 0.9229835271835327}, {'x_min': 2599.5576873779296, 'y_min': 2495.4295097351073, 'x_max': -537.2952036380767, 'y_max': 180.3272581100464, 'label': 0, 'confidence': 0.39627090096473694}, {'x_min': 1853.7487564086914, 'y_min': 3177.4645111083983, 'x_max': -591.6269378185272, 'y_max': 146.70652599334716, 'label': 0, 'confidence': 0.8345475196838379}, {'x_min': 1850.4037879943846, 'y_min': 3180.610377502441, 'x_max': -594.9527467489243, 'y_max': 139.78043639659882, 'label': 0, 'confidence': 0.8384153246879578}, {'x_min': 2597.659545135498, 'y_min': 3218.292137145996, 'x_max': -571.5804744958878, 'y_max': 145.32704315185546, 'label': 0, 'confidence': 0.38704389333724976}, {'x_min': 2594.237223815918, 'y_min': 3220.790309143066, 'x_max': -561.9186216831207, 'y_max': 160.72525906562805, 'label': 0, 'confidence': 0.6786785125732422}, {'x_min': 1862.339559173584, 'y_min': 2517.1368049621583, 'x_max': -581.6486088037491, 'y_max': 149.52926015853882, 'label': 0, 'confidence': 0.7563884258270264}, {'x_min': 2600.811403656006, 'y_min': 2493.95626373291, 'x_max': -547.6125389099121, 'y_max': 179.50482172966002, 'label': 0, 'confidence': 0.3927558660507202}, {'x_min': 1862.0693687438963, 'y_min': 2519.5186752319337, 'x_max': -582.6276490688324, 'y_max': 152.69342637062073, 'label': 0, 'confidence': 0.8892577290534973}, {'x_min': 1860.9036277770995, 'y_min': 2519.4862632751465, 'x_max': -585.6443953514099, 'y_max': 150.03615660667418, 'label': 0, 'confidence': 0.9375592470169067}, {'x_min': 2597.9934700012204, 'y_min': 2495.869931030273, 'x_max': -544.7695132255554, 'y_max': 179.34284706115722, 'label': 0, 'confidence': 0.5026905536651611}, {'x_min': 1853.572261047363, 'y_min': 3178.079793548584, 'x_max': -593.8991198301316, 'y_max': 144.62598137855528, 'label': 0, 'confidence': 0.8717069625854492}, {'x_min': 1850.2422729492187, 'y_min': 3181.0636001586913, 'x_max': -596.031014585495, 'y_max': 138.06459438800812, 'label': 0, 'confidence': 0.8778654336929321}, {'x_min': 2597.1965171813963, 'y_min': 3218.556063079834, 'x_max': -576.8224446058273, 'y_max': 145.89935932159423, 'label': 0, 'confidence': 0.47849658131599426}, {'x_min': 2593.774195861816, 'y_min': 3221.4851234436032, 'x_max': -568.7317716121673, 'y_max': 158.3469295978546, 'label': 0, 'confidence': 0.7648022174835205}, {'x_min': 1862.7549224853515, 'y_min': 2516.8156814575195, 'x_max': -582.482374048233, 'y_max': 150.62682366371155, 'label': 0, 'confidence': 0.6921321749687195}, {'x_min': 2602.7700119018555, 'y_min': 2493.0065116882324, 'x_max': -547.1017101287841, 'y_max': 179.62813696861267, 'label': 0, 'confidence': 0.42517873644828796}, {'x_min': 1861.7986335754395, 'y_min': 2519.4037353515623, 'x_max': -584.456345629692, 'y_max': 153.00683841705322, 'label': 0, 'confidence': 0.8670998215675354}, {'x_min': 1861.059967803955, 'y_min': 2519.028955078125, 'x_max': -587.7399713516235, 'y_max': 150.79031338691712, 'label': 0, 'confidence': 0.9291604161262512}, {'x_min': 2599.619515228271, 'y_min': 2495.4088096618652, 'x_max': -547.4019292831421, 'y_max': 179.919265794754, 'label': 0, 'confidence': 0.5094196796417236}, {'x_min': 1853.553739929199, 'y_min': 3177.622757720947, 'x_max': -595.7371280193329, 'y_max': 145.0905924797058, 'label': 0, 'confidence': 0.8389981389045715}, {'x_min': 1850.463981628418, 'y_min': 3180.5643470764157, 'x_max': -597.1665480852126, 'y_max': 138.59964702129363, 'label': 0, 'confidence': 0.8516526818275452}, {'x_min': 2598.4692993164062, 'y_min': 3218.0273941040036, 'x_max': -576.1980122566223, 'y_max': 146.36141695976258, 'label': 0, 'confidence': 0.46491777896881104}, {'x_min': 2594.5853118896484, 'y_min': 3221.0885536193846, 'x_max': -570.7904415607452, 'y_max': 158.75252165794373, 'label': 0, 'confidence': 0.765301525592804}, {'x_min': 1859.1955993652343, 'y_min': 2518.9654930114743, 'x_max': -583.508883190155, 'y_max': 152.8721858024597, 'label': 0, 'confidence': 0.36050257086753845}, {'x_min': 1860.360523223877, 'y_min': 2518.435734558105, 'x_max': -584.1735496044158, 'y_max': 156.5639485359192, 'label': 0, 'confidence': 0.46333080530166626}, {'x_min': 2604.7711097717283, 'y_min': 2494.742049407959, 'x_max': -547.3426548957824, 'y_max': 176.34806056022643, 'label': 0, 'confidence': 0.6008050441741943}, {'x_min': 2604.487028503418, 'y_min': 2492.861611175537, 'x_max': -549.1611461162566, 'y_max': 183.69512257575988, 'label': 0, 'confidence': 0.62431800365448}, {'x_min': 1849.8252754211426, 'y_min': 3176.9061538696287, 'x_max': -589.930502128601, 'y_max': 151.63722896575928, 'label': 0, 'confidence': 0.2912121117115021}, {'x_min': 2597.063600921631, 'y_min': 3219.936431121826, 'x_max': -576.1945310354232, 'y_max': 159.26993837356568, 'label': 0, 'confidence': 0.34282392263412476}, {'x_min': 1860.0135246276855, 'y_min': 2517.3631439208984, 'x_max': -577.3598208904266, 'y_max': 159.10219287872314, 'label': 0, 'confidence': 0.263898640871048}, {'x_min': 2604.855271911621, 'y_min': 2494.976831817627, 'x_max': -548.9721217632293, 'y_max': 176.77133960723876, 'label': 0, 'confidence': 0.4855065941810608}, {'x_min': 2605.4648345947267, 'y_min': 2493.6354125976563, 'x_max': -548.692364358902, 'y_max': 183.51164774894713, 'label': 0, 'confidence': 0.5008867979049683}]\n",
      "Saved YOLO label file: ../data/test/results/yolov5n//labels/test_130.txt\n",
      "Saved annotated image: ../data/test/results/cv2_detector//images/test_130_result.jpg\n",
      "Processing: ../data/test/samples/test_80.JPG\n"
     ]
    },
    {
     "name": "stderr",
     "output_type": "stream",
     "text": [
      "/Users/aq_home/.cache/torch/hub/ultralytics_yolov5_master/models/common.py:865: FutureWarning: `torch.cuda.amp.autocast(args...)` is deprecated. Please use `torch.amp.autocast('cuda', args...)` instead.\n",
      "  with amp.autocast(autocast):\n"
     ]
    },
    {
     "name": "stdout",
     "output_type": "stream",
     "text": [
      "[{'x_min': 2780.578193664551, 'y_min': 2147.2034809112547, 'x_max': -418.03688964843747, 'y_max': 330.836162853241, 'label': 0, 'confidence': 0.7797330021858215}, {'x_min': 2773.272974395752, 'y_min': 2145.487689971924, 'x_max': -410.4152452468872, 'y_max': 337.30037355422974, 'label': 0, 'confidence': 0.4959273934364319}, {'x_min': 1590.6818756103514, 'y_min': 2240.499391937256, 'x_max': -515.0136345863342, 'y_max': 237.924462890625, 'label': 0, 'confidence': 0.6550796031951904}, {'x_min': 2783.1422790527345, 'y_min': 2150.9495132446286, 'x_max': -419.58064527511596, 'y_max': 329.9362884521484, 'label': 0, 'confidence': 0.8979475498199463}, {'x_min': 2772.4493293762207, 'y_min': 2149.005476760864, 'x_max': -410.20177574157714, 'y_max': 336.098407459259, 'label': 0, 'confidence': 0.7048324346542358}, {'x_min': 1588.323156738281, 'y_min': 2259.2807590484617, 'x_max': -506.4212656974792, 'y_max': 261.5925453186035, 'label': 0, 'confidence': 0.8667353391647339}, {'x_min': 1591.4464164733886, 'y_min': 2261.37759475708, 'x_max': -499.62147889137265, 'y_max': 271.77669196128846, 'label': 0, 'confidence': 0.9451165795326233}, {'x_min': 1590.2411819458007, 'y_min': 2265.94468460083, 'x_max': -497.9330100059509, 'y_max': 266.51878824234007, 'label': 0, 'confidence': 0.7702334523200989}, {'x_min': 1592.816162109375, 'y_min': 3301.2041015625, 'x_max': -504.93865699768065, 'y_max': 231.33795833587646, 'label': 0, 'confidence': 0.3224996030330658}, {'x_min': 1591.5569984436036, 'y_min': 3290.9066322326657, 'x_max': -498.3215960025787, 'y_max': 258.7027742385864, 'label': 0, 'confidence': 0.4611206352710724}, {'x_min': 2778.8260414123533, 'y_min': 3366.5196418762207, 'x_max': -427.62875204086305, 'y_max': 308.32629718780515, 'label': 0, 'confidence': 0.5395833849906921}, {'x_min': 2784.1541313171388, 'y_min': 3375.0970985412596, 'x_max': -426.2748038291931, 'y_max': 310.25484266281126, 'label': 0, 'confidence': 0.8753665685653687}, {'x_min': 2769.8580070495605, 'y_min': 3375.787827301025, 'x_max': -421.5334316253662, 'y_max': 315.0483736038208, 'label': 0, 'confidence': 0.5163798332214355}, {'x_min': 2782.218674468994, 'y_min': 2147.646489715576, 'x_max': -416.35351066589357, 'y_max': 338.6058400154114, 'label': 0, 'confidence': 0.8275106549263}, {'x_min': 2773.8721870422364, 'y_min': 2145.878812408447, 'x_max': -402.8554627418518, 'y_max': 353.2926781654358, 'label': 0, 'confidence': 0.5540550947189331}, {'x_min': 1589.7269485473632, 'y_min': 2240.2765937805175, 'x_max': -520.7682889938354, 'y_max': 244.85091848373412, 'label': 0, 'confidence': 0.6626374125480652}, {'x_min': 2784.452375793457, 'y_min': 2150.8714794158936, 'x_max': -417.2008858680725, 'y_max': 342.142896938324, 'label': 0, 'confidence': 0.9244500994682312}, {'x_min': 2773.184181976318, 'y_min': 2149.34757270813, 'x_max': -404.5320324897766, 'y_max': 351.88394966125486, 'label': 0, 'confidence': 0.760092556476593}, {'x_min': 1588.419847869873, 'y_min': 2259.4019634246824, 'x_max': -510.93381357192993, 'y_max': 264.71514115333554, 'label': 0, 'confidence': 0.8420772552490234}, {'x_min': 1591.3034225463866, 'y_min': 2262.623820877075, 'x_max': -507.96052722930904, 'y_max': 278.2061415195465, 'label': 0, 'confidence': 0.939260721206665}, {'x_min': 1590.4154983520507, 'y_min': 2266.4492488861083, 'x_max': -507.9075343608856, 'y_max': 270.2451418876648, 'label': 0, 'confidence': 0.8013854622840881}, {'x_min': 1592.7502487182617, 'y_min': 3301.324761199951, 'x_max': -514.0868466854096, 'y_max': 230.30475912094116, 'label': 0, 'confidence': 0.29286712408065796}, {'x_min': 1590.328067779541, 'y_min': 3292.3087898254394, 'x_max': -510.84193997383113, 'y_max': 267.40708694458004, 'label': 0, 'confidence': 0.5324998497962952}, {'x_min': 2780.4703353881837, 'y_min': 3366.3712005615234, 'x_max': -427.3277157783508, 'y_max': 313.5069331169128, 'label': 0, 'confidence': 0.560117781162262}, {'x_min': 2785.717803955078, 'y_min': 3376.434432220459, 'x_max': -426.4292713165283, 'y_max': 315.5348253250122, 'label': 0, 'confidence': 0.898331880569458}, {'x_min': 2770.983164978027, 'y_min': 3376.5757919311523, 'x_max': -420.7475778579712, 'y_max': 325.64796867370603, 'label': 0, 'confidence': 0.5678136348724365}, {'x_min': 2781.342462158203, 'y_min': 2147.6538436889646, 'x_max': -421.0853839874267, 'y_max': 337.0242250442505, 'label': 0, 'confidence': 0.7788382172584534}, {'x_min': 2774.3529190063477, 'y_min': 2145.547202682495, 'x_max': -408.27517089843747, 'y_max': 349.97402744293214, 'label': 0, 'confidence': 0.5270811915397644}, {'x_min': 1590.0115745544433, 'y_min': 2239.920062255859, 'x_max': -520.9567686080933, 'y_max': 242.4788194656372, 'label': 0, 'confidence': 0.6693825721740723}, {'x_min': 2783.5769805908203, 'y_min': 2150.7317539215087, 'x_max': -416.63296165466306, 'y_max': 341.78691015243527, 'label': 0, 'confidence': 0.8625724911689758}, {'x_min': 2772.6773025512693, 'y_min': 2149.0470130920407, 'x_max': -405.591583442688, 'y_max': 350.92697982788087, 'label': 0, 'confidence': 0.7023265361785889}, {'x_min': 1588.145571899414, 'y_min': 2259.155741500854, 'x_max': -515.5181307792664, 'y_max': 262.8777202606201, 'label': 0, 'confidence': 0.7674333453178406}, {'x_min': 1590.9615989685058, 'y_min': 2261.716967010498, 'x_max': -512.0341177940369, 'y_max': 273.73049969673156, 'label': 0, 'confidence': 0.9241405129432678}, {'x_min': 1590.508103942871, 'y_min': 2265.798013687134, 'x_max': -509.33541383743284, 'y_max': 268.22121605873104, 'label': 0, 'confidence': 0.7625299096107483}, {'x_min': 1591.356534576416, 'y_min': 3291.0847618103026, 'x_max': -510.76565952301024, 'y_max': 263.47094078063964, 'label': 0, 'confidence': 0.5119453072547913}, {'x_min': 2780.2622451782227, 'y_min': 3366.361122894287, 'x_max': -428.96405997276304, 'y_max': 311.5874779701233, 'label': 0, 'confidence': 0.5162628293037415}, {'x_min': 2784.4591850280763, 'y_min': 3376.070546722412, 'x_max': -424.3142889976501, 'y_max': 316.01691913604736, 'label': 0, 'confidence': 0.8610676527023315}, {'x_min': 2770.175589752197, 'y_min': 3376.564080047607, 'x_max': -421.253742313385, 'y_max': 326.34033164978024, 'label': 0, 'confidence': 0.5162065029144287}, {'x_min': 2782.5572296142577, 'y_min': 2146.5252811431883, 'x_max': -400.67221784591675, 'y_max': 339.7654186248779, 'label': 0, 'confidence': 0.9406546950340271}, {'x_min': 2792.2704666137693, 'y_min': 2140.09450378418, 'x_max': -406.4548582077026, 'y_max': 327.72618112564084, 'label': 0, 'confidence': 0.28627297282218933}, {'x_min': 1590.0093955993652, 'y_min': 2263.0359157562257, 'x_max': -519.43374710083, 'y_max': 276.03501706123353, 'label': 0, 'confidence': 0.7476269602775574}, {'x_min': 1587.9344856262207, 'y_min': 2263.4211822509765, 'x_max': -514.919820356369, 'y_max': 271.39094882011415, 'label': 0, 'confidence': 0.9030221700668335}, {'x_min': 2785.7755462646483, 'y_min': 2149.5468109130857, 'x_max': -397.5675132751465, 'y_max': 334.65461139678956, 'label': 0, 'confidence': 0.8602035045623779}, {'x_min': 1588.1360389709473, 'y_min': 2263.4808311462402, 'x_max': -520.0370452880859, 'y_max': 272.3030117511749, 'label': 0, 'confidence': 0.8189080953598022}, {'x_min': 1588.769570159912, 'y_min': 3292.1826828002927, 'x_max': -518.4292488098145, 'y_max': 261.9018888473511, 'label': 0, 'confidence': 0.887333333492279}, {'x_min': 1590.5830055236815, 'y_min': 3290.5283111572267, 'x_max': -522.2092762470245, 'y_max': 257.22995381355287, 'label': 0, 'confidence': 0.7253423929214478}, {'x_min': 2778.0740295410155, 'y_min': 3371.8365646362304, 'x_max': -425.91936178207396, 'y_max': 303.52953186035154, 'label': 0, 'confidence': 0.31055259704589844}, {'x_min': 2780.808890533447, 'y_min': 3373.1488403320313, 'x_max': -417.76537141799923, 'y_max': 305.4324065208435, 'label': 0, 'confidence': 0.9052859544754028}, {'x_min': 2781.8752166748045, 'y_min': 3375.3397796630857, 'x_max': -420.61210813522337, 'y_max': 301.52499532699585, 'label': 0, 'confidence': 0.8553595542907715}, {'x_min': 2784.2867752075194, 'y_min': 2146.4694454193113, 'x_max': -399.5490686416626, 'y_max': 335.5963625907898, 'label': 0, 'confidence': 0.9553619623184204}, {'x_min': 2792.1018699645997, 'y_min': 2140.7311672210694, 'x_max': -410.0364815711975, 'y_max': 328.47158803939817, 'label': 0, 'confidence': 0.3529343605041504}, {'x_min': 1589.2108085632324, 'y_min': 2260.7794715881346, 'x_max': -517.0778881072998, 'y_max': 276.623232793808, 'label': 0, 'confidence': 0.6988570690155029}, {'x_min': 1588.5854484558106, 'y_min': 2262.684286880493, 'x_max': -513.3170627117157, 'y_max': 273.2138319969177, 'label': 0, 'confidence': 0.8775118589401245}, {'x_min': 2786.431411743164, 'y_min': 2149.702606201172, 'x_max': -395.45419921875, 'y_max': 324.27553339004515, 'label': 0, 'confidence': 0.9324244856834412}, {'x_min': 2790.70107421875, 'y_min': 2148.5861640930175, 'x_max': -399.20220623016354, 'y_max': 322.89557390213014, 'label': 0, 'confidence': 0.32896310091018677}, {'x_min': 1589.4837226867676, 'y_min': 2263.984442138672, 'x_max': -516.5676891803741, 'y_max': 274.24633326530454, 'label': 0, 'confidence': 0.838443398475647}, {'x_min': 1589.462477874756, 'y_min': 3291.328532409668, 'x_max': -516.5100490093231, 'y_max': 262.5652104377746, 'label': 0, 'confidence': 0.8437053561210632}, {'x_min': 1592.2183113098145, 'y_min': 3292.006187438965, 'x_max': -519.7825501441955, 'y_max': 258.9296409130096, 'label': 0, 'confidence': 0.7383036613464355}, {'x_min': 2777.5924804687497, 'y_min': 3373.7902702331544, 'x_max': -427.61823177337646, 'y_max': 305.7998668670654, 'label': 0, 'confidence': 0.31290629506111145}, {'x_min': 2781.8869285583496, 'y_min': 3372.320837402344, 'x_max': -417.4702591896057, 'y_max': 303.066878414154, 'label': 0, 'confidence': 0.9381334185600281}, {'x_min': 2781.9441261291504, 'y_min': 3374.730489349365, 'x_max': -421.26102819442747, 'y_max': 301.5347325325012, 'label': 0, 'confidence': 0.913062572479248}, {'x_min': 2782.86255569458, 'y_min': 2151.3346435546873, 'x_max': -405.53247928619385, 'y_max': 342.13186597824097, 'label': 0, 'confidence': 0.8831526637077332}, {'x_min': 2786.9818702697753, 'y_min': 2153.929370498657, 'x_max': -401.9751648902893, 'y_max': 336.0240165710449, 'label': 0, 'confidence': 0.8786394596099854}, {'x_min': 2779.664666748047, 'y_min': 3375.796270751953, 'x_max': -411.54836997985836, 'y_max': 312.0752915382385, 'label': 0, 'confidence': 0.7393548488616943}, {'x_min': 2782.8840728759765, 'y_min': 3375.743975830078, 'x_max': -422.18616485595703, 'y_max': 302.93903503417965, 'label': 0, 'confidence': 0.2863405644893646}]\n",
      "Saved YOLO label file: ../data/test/results/yolov5n//labels/test_80.txt\n",
      "Saved annotated image: ../data/test/results/cv2_detector//images/test_80_result.jpg\n",
      "Processing: ../data/test/samples/test_120.JPG\n"
     ]
    },
    {
     "name": "stderr",
     "output_type": "stream",
     "text": [
      "/Users/aq_home/.cache/torch/hub/ultralytics_yolov5_master/models/common.py:865: FutureWarning: `torch.cuda.amp.autocast(args...)` is deprecated. Please use `torch.amp.autocast('cuda', args...)` instead.\n",
      "  with amp.autocast(autocast):\n"
     ]
    },
    {
     "name": "stdout",
     "output_type": "stream",
     "text": [
      "[{'x_min': 1778.4519676208495, 'y_min': 2506.3798484802246, 'x_max': -578.4680578708649, 'y_max': 161.43253426551817, 'label': 0, 'confidence': 0.3110674321651459}, {'x_min': 2569.7566635131834, 'y_min': 2458.5019409179686, 'x_max': -542.0235531806945, 'y_max': 193.75711154937744, 'label': 0, 'confidence': 0.5327224731445312}, {'x_min': 1781.0413833618163, 'y_min': 2507.88441696167, 'x_max': -575.6014211654663, 'y_max': 169.25847272872923, 'label': 0, 'confidence': 0.7820504903793335}, {'x_min': 1781.3412620544432, 'y_min': 2510.3929389953614, 'x_max': -577.8390718460083, 'y_max': 166.82246904373167, 'label': 0, 'confidence': 0.7498937845230103}, {'x_min': 2574.8586868286134, 'y_min': 3223.066500091553, 'x_max': -582.1060702085495, 'y_max': 133.14044530391692, 'label': 0, 'confidence': 0.4604169428348541}, {'x_min': 1778.773363494873, 'y_min': 2507.167268371582, 'x_max': -581.7507388114929, 'y_max': 158.95390477180482, 'label': 0, 'confidence': 0.37037354707717896}, {'x_min': 1782.1245964050293, 'y_min': 2504.3395294189454, 'x_max': -584.3134793758392, 'y_max': 156.86350378990173, 'label': 0, 'confidence': 0.265628457069397}, {'x_min': 2566.6132484436034, 'y_min': 2463.953141784668, 'x_max': -548.7634357452392, 'y_max': 187.63821415901182, 'label': 0, 'confidence': 0.26180747151374817}, {'x_min': 2569.123949432373, 'y_min': 2460.1108268737794, 'x_max': -548.3353561878204, 'y_max': 191.91460075378419, 'label': 0, 'confidence': 0.6074683666229248}, {'x_min': 1781.0694374084471, 'y_min': 2508.996228790283, 'x_max': -578.6658150672912, 'y_max': 167.1044734954834, 'label': 0, 'confidence': 0.8147993087768555}, {'x_min': 1781.4096267700195, 'y_min': 2510.9657318115233, 'x_max': -581.2322326183319, 'y_max': 163.98420982360838, 'label': 0, 'confidence': 0.7962427735328674}, {'x_min': 2575.0953758239743, 'y_min': 3224.127378845215, 'x_max': -585.380316209793, 'y_max': 132.35269346237183, 'label': 0, 'confidence': 0.549860417842865}, {'x_min': 1778.6927421569824, 'y_min': 2506.854588317871, 'x_max': -582.4732581853866, 'y_max': 159.69900527000428, 'label': 0, 'confidence': 0.291686087846756}, {'x_min': 2568.5337249755858, 'y_min': 2462.9892265319822, 'x_max': -548.4755923748016, 'y_max': 187.41791839599608, 'label': 0, 'confidence': 0.2528012990951538}, {'x_min': 2570.7535354614256, 'y_min': 2459.1994789123532, 'x_max': -550.7254826545715, 'y_max': 191.48805327415465, 'label': 0, 'confidence': 0.6086732149124146}, {'x_min': 1780.7254348754882, 'y_min': 2508.7494621276855, 'x_max': -580.6837828159332, 'y_max': 167.45874094963074, 'label': 0, 'confidence': 0.7761661410331726}, {'x_min': 1781.336904144287, 'y_min': 2510.714334869385, 'x_max': -583.0131879329681, 'y_max': 164.62744417190552, 'label': 0, 'confidence': 0.7394501566886902}, {'x_min': 2576.1341926574705, 'y_min': 3223.6082427978513, 'x_max': -585.3399459600448, 'y_max': 132.81867492198944, 'label': 0, 'confidence': 0.5344080328941345}, {'x_min': 1781.4872520446777, 'y_min': 2510.263018798828, 'x_max': -583.3215526342392, 'y_max': 167.8575918674469, 'label': 0, 'confidence': 0.7033024430274963}, {'x_min': 2571.7520416259763, 'y_min': 2460.851671600342, 'x_max': -542.556767320633, 'y_max': 183.37124133110046, 'label': 0, 'confidence': 0.5470837354660034}, {'x_min': 2572.9662643432616, 'y_min': 2460.172654724121, 'x_max': -544.1042680263519, 'y_max': 189.82917051315306, 'label': 0, 'confidence': 0.7307811379432678}, {'x_min': 1782.535057067871, 'y_min': 2512.3812355041505, 'x_max': -585.2661423683167, 'y_max': 170.78573298454285, 'label': 0, 'confidence': 0.5417881608009338}, {'x_min': 1781.951641845703, 'y_min': 2509.3089088439942, 'x_max': -576.9869472026825, 'y_max': 170.1544828891754, 'label': 0, 'confidence': 0.5229499936103821}, {'x_min': 2572.639965820312, 'y_min': 2462.34098739624, 'x_max': -543.529211139679, 'y_max': 183.3573164463043, 'label': 0, 'confidence': 0.4282389283180237}, {'x_min': 2573.894226837158, 'y_min': 2460.952448272705, 'x_max': -543.9384120941162, 'y_max': 190.02027168273926, 'label': 0, 'confidence': 0.646385669708252}, {'x_min': 1782.619763946533, 'y_min': 2512.336294555664, 'x_max': -576.9428488969803, 'y_max': 173.33522958755492, 'label': 0, 'confidence': 0.3049755394458771}]\n",
      "Saved YOLO label file: ../data/test/results/yolov5n//labels/test_120.txt\n",
      "Saved annotated image: ../data/test/results/cv2_detector//images/test_120_result.jpg\n",
      "Processing: ../data/test/samples/test_90.JPG\n"
     ]
    },
    {
     "name": "stderr",
     "output_type": "stream",
     "text": [
      "/Users/aq_home/.cache/torch/hub/ultralytics_yolov5_master/models/common.py:865: FutureWarning: `torch.cuda.amp.autocast(args...)` is deprecated. Please use `torch.amp.autocast('cuda', args...)` instead.\n",
      "  with amp.autocast(autocast):\n"
     ]
    },
    {
     "name": "stdout",
     "output_type": "stream",
     "text": [
      "[{'x_min': 2722.9549095153807, 'y_min': 2304.417404937744, 'x_max': -443.06981506347654, 'y_max': 287.80207242965696, 'label': 0, 'confidence': 0.45601508021354675}, {'x_min': 1676.7805618286131, 'y_min': 2371.1612503051756, 'x_max': -523.2607752799987, 'y_max': 241.75976428985595, 'label': 0, 'confidence': 0.6568039059638977}, {'x_min': 2718.9900283813477, 'y_min': 2317.3405151367188, 'x_max': -435.6140776634216, 'y_max': 307.6861269950867, 'label': 0, 'confidence': 0.8730184435844421}, {'x_min': 2717.5905944824217, 'y_min': 2313.41131439209, 'x_max': -433.91759090423585, 'y_max': 303.56820831298825, 'label': 0, 'confidence': 0.8970836997032166}, {'x_min': 1675.062183380127, 'y_min': 2375.878143310547, 'x_max': -519.076721906662, 'y_max': 243.877197933197, 'label': 0, 'confidence': 0.8454979658126831}, {'x_min': 1660.5745834350585, 'y_min': 3276.534789276123, 'x_max': -535.6806319713593, 'y_max': 219.2613381385803, 'label': 0, 'confidence': 0.4815184473991394}, {'x_min': 1658.3370689392088, 'y_min': 3295.2637252807617, 'x_max': -539.2826830387115, 'y_max': 202.72371597290038, 'label': 0, 'confidence': 0.34611013531684875}, {'x_min': 1658.8303298950195, 'y_min': 3293.162395477295, 'x_max': -533.2040112018585, 'y_max': 212.80427713394164, 'label': 0, 'confidence': 0.5454648733139038}, {'x_min': 2705.5954467773436, 'y_min': 3365.923970031738, 'x_max': -462.7624279975891, 'y_max': 278.22864603996277, 'label': 0, 'confidence': 0.8228287100791931}, {'x_min': 2707.3726570129393, 'y_min': 3369.0020164489747, 'x_max': -468.28236808776853, 'y_max': 277.50308804512025, 'label': 0, 'confidence': 0.6465458869934082}, {'x_min': 2706.937138366699, 'y_min': 3367.4040252685545, 'x_max': -458.620779132843, 'y_max': 286.74844551086426, 'label': 0, 'confidence': 0.9532484412193298}, {'x_min': 2702.408452606201, 'y_min': 3367.2239891052245, 'x_max': -462.67506551742554, 'y_max': 274.68823556900026, 'label': 0, 'confidence': 0.8765966296195984}, {'x_min': 2722.2334030151364, 'y_min': 2304.3182624816895, 'x_max': -444.5797458171844, 'y_max': 292.94301052093505, 'label': 0, 'confidence': 0.4103277623653412}, {'x_min': 1675.403734588623, 'y_min': 2371.4657592773438, 'x_max': -531.8311162948609, 'y_max': 245.97449326515198, 'label': 0, 'confidence': 0.7123674154281616}, {'x_min': 2719.5481132507325, 'y_min': 2317.2073265075683, 'x_max': -440.4467106342315, 'y_max': 309.9843458175659, 'label': 0, 'confidence': 0.8831848502159119}, {'x_min': 2717.2087326049805, 'y_min': 2313.473686981201, 'x_max': -434.77548637390134, 'y_max': 308.5782048225403, 'label': 0, 'confidence': 0.8969563245773315}, {'x_min': 1674.9987213134766, 'y_min': 2376.721398925781, 'x_max': -527.2957745075225, 'y_max': 245.70076203346252, 'label': 0, 'confidence': 0.8694793581962585}, {'x_min': 1659.5496574401855, 'y_min': 3277.047116088867, 'x_max': -545.3257936477661, 'y_max': 222.71935687065124, 'label': 0, 'confidence': 0.5379347205162048}, {'x_min': 1658.031470489502, 'y_min': 3295.847957611084, 'x_max': -547.8106706142426, 'y_max': 202.13386602401732, 'label': 0, 'confidence': 0.35161322355270386}, {'x_min': 1658.5560539245605, 'y_min': 3293.8343307495115, 'x_max': -542.6049256324768, 'y_max': 214.17836365699767, 'label': 0, 'confidence': 0.6421723961830139}, {'x_min': 2705.7283630371094, 'y_min': 3365.697631072998, 'x_max': -467.89054770469664, 'y_max': 282.3428196430206, 'label': 0, 'confidence': 0.7890535593032837}, {'x_min': 2707.071144104004, 'y_min': 3368.761241912842, 'x_max': -475.2938710212707, 'y_max': 282.7200852870941, 'label': 0, 'confidence': 0.6090836524963379}, {'x_min': 2707.2125038146974, 'y_min': 3367.9983352661134, 'x_max': -462.99664864540097, 'y_max': 289.8442980766296, 'label': 0, 'confidence': 0.954778790473938}, {'x_min': 2702.6960746765135, 'y_min': 3368.0430038452146, 'x_max': -470.5775397777557, 'y_max': 275.69491281509397, 'label': 0, 'confidence': 0.8752779364585876}, {'x_min': 2722.019048309326, 'y_min': 2304.171455383301, 'x_max': -447.4743854999542, 'y_max': 289.7479474067688, 'label': 0, 'confidence': 0.3748520612716675}, {'x_min': 1676.4278434753417, 'y_min': 2370.5922706604, 'x_max': -531.5131761074066, 'y_max': 243.9437922477722, 'label': 0, 'confidence': 0.694247841835022}, {'x_min': 2719.507802581787, 'y_min': 2316.784881591797, 'x_max': -443.3076616287231, 'y_max': 310.37700033187866, 'label': 0, 'confidence': 0.8193251490592957}, {'x_min': 2716.724459838867, 'y_min': 2312.739379119873, 'x_max': -438.5732859134674, 'y_max': 308.58944005966185, 'label': 0, 'confidence': 0.8542596101760864}, {'x_min': 1675.852326965332, 'y_min': 2375.7065505981445, 'x_max': -529.6175022125244, 'y_max': 243.81298685073853, 'label': 0, 'confidence': 0.8520050048828125}, {'x_min': 1660.664465332031, 'y_min': 3276.202498626709, 'x_max': -542.0275365829467, 'y_max': 222.25122199058532, 'label': 0, 'confidence': 0.5276917815208435}, {'x_min': 1657.2149070739745, 'y_min': 3295.9149604797362, 'x_max': -551.6229227542877, 'y_max': 203.477770614624, 'label': 0, 'confidence': 0.2793049216270447}, {'x_min': 1658.8747261047363, 'y_min': 3293.1915390014647, 'x_max': -545.4710175991058, 'y_max': 213.64530272483825, 'label': 0, 'confidence': 0.6556496024131775}, {'x_min': 2704.8461585998534, 'y_min': 3365.5053382873534, 'x_max': -472.3553458213806, 'y_max': 279.844358253479, 'label': 0, 'confidence': 0.733386754989624}, {'x_min': 2707.4195045471192, 'y_min': 3368.480701446533, 'x_max': -480.8636036396026, 'y_max': 278.4274586677551, 'label': 0, 'confidence': 0.5766715407371521}, {'x_min': 2707.233748626709, 'y_min': 3367.4841018676757, 'x_max': -465.03506112098694, 'y_max': 287.7487901687622, 'label': 0, 'confidence': 0.9293952584266663}, {'x_min': 2702.2847969055174, 'y_min': 3367.7526580810545, 'x_max': -473.8973991394043, 'y_max': 275.25775995254514, 'label': 0, 'confidence': 0.8564636707305908}, {'x_min': 2721.7069129943848, 'y_min': 2308.522283935547, 'x_max': -443.98092470169064, 'y_max': 291.66086568832395, 'label': 0, 'confidence': 0.35708263516426086}, {'x_min': 2723.0573204040525, 'y_min': 2311.7057373046873, 'x_max': -439.9267404556274, 'y_max': 296.034437084198, 'label': 0, 'confidence': 0.8790968656539917}, {'x_min': 1675.7831451416016, 'y_min': 2374.042918395996, 'x_max': -533.6198341369628, 'y_max': 237.80484166145322, 'label': 0, 'confidence': 0.9119280576705933}, {'x_min': 1674.4902076721191, 'y_min': 2374.7769538879393, 'x_max': -532.2774616241455, 'y_max': 236.23670897483825, 'label': 0, 'confidence': 0.9101422429084778}, {'x_min': 2724.4169883728027, 'y_min': 2309.272389221191, 'x_max': -440.66649570465086, 'y_max': 296.2465106964111, 'label': 0, 'confidence': 0.8780239224433899}, {'x_min': 2719.899742126465, 'y_min': 2308.1295272827147, 'x_max': -433.55482892990113, 'y_max': 293.89933347702026, 'label': 0, 'confidence': 0.9215722680091858}, {'x_min': 1674.7399703979493, 'y_min': 2374.9128662109374, 'x_max': -535.5926226139069, 'y_max': 238.43539381027222, 'label': 0, 'confidence': 0.894154965877533}, {'x_min': 1659.7710937499999, 'y_min': 3286.191918182373, 'x_max': -547.8170712947846, 'y_max': 219.11885490417478, 'label': 0, 'confidence': 0.8118649125099182}, {'x_min': 1656.9945602416992, 'y_min': 3286.000170135498, 'x_max': -546.7522261619567, 'y_max': 217.23237347602844, 'label': 0, 'confidence': 0.7857884764671326}, {'x_min': 2705.2026901245117, 'y_min': 3365.7831550598144, 'x_max': -476.46887254714966, 'y_max': 275.944113779068, 'label': 0, 'confidence': 0.9469241499900818}, {'x_min': 2701.9642181396484, 'y_min': 3366.5545051574704, 'x_max': -472.8732391834259, 'y_max': 277.25695123672483, 'label': 0, 'confidence': 0.9347230195999146}, {'x_min': 2704.6429710388184, 'y_min': 3367.866236114502, 'x_max': -480.59291954040526, 'y_max': 270.3716404438019, 'label': 0, 'confidence': 0.6403526067733765}, {'x_min': 2721.308708953857, 'y_min': 2308.2744277954102, 'x_max': -443.12039065361023, 'y_max': 292.5514114379883, 'label': 0, 'confidence': 0.38542377948760986}, {'x_min': 2723.4677810668945, 'y_min': 2310.629061126709, 'x_max': -441.37792453765866, 'y_max': 297.0311388015747, 'label': 0, 'confidence': 0.8757519125938416}, {'x_min': 1676.329790496826, 'y_min': 2373.6948303222657, 'x_max': -533.3060646057129, 'y_max': 238.33528103828428, 'label': 0, 'confidence': 0.8892386555671692}, {'x_min': 1674.2472541809082, 'y_min': 2374.547074127197, 'x_max': -530.893229341507, 'y_max': 237.66203498840332, 'label': 0, 'confidence': 0.8933649063110352}, {'x_min': 2725.2065872192384, 'y_min': 2309.409663391113, 'x_max': -439.9830868721008, 'y_max': 295.75083246231077, 'label': 0, 'confidence': 0.9062995314598083}, {'x_min': 2719.557918548584, 'y_min': 2308.746171569824, 'x_max': -433.31439485549924, 'y_max': 292.9629615783691, 'label': 0, 'confidence': 0.9551014304161072}, {'x_min': 1675.2999618530273, 'y_min': 2375.0531364440917, 'x_max': -533.9670199871063, 'y_max': 239.83687047958372, 'label': 0, 'confidence': 0.8696538805961609}, {'x_min': 1660.7110404968262, 'y_min': 3286.024683380127, 'x_max': -546.9122091293335, 'y_max': 218.9261535644531, 'label': 0, 'confidence': 0.7170737981796265}, {'x_min': 1658.659826660156, 'y_min': 3287.207583618164, 'x_max': -546.4268639087677, 'y_max': 217.24874968528746, 'label': 0, 'confidence': 0.7285171151161194}, {'x_min': 2705.1272438049314, 'y_min': 3364.9159309387205, 'x_max': -476.77006201744075, 'y_max': 276.3693845272064, 'label': 0, 'confidence': 0.9493400454521179}, {'x_min': 2701.961222076416, 'y_min': 3366.0176651000975, 'x_max': -473.47849502563474, 'y_max': 278.54999084472655, 'label': 0, 'confidence': 0.9423912167549133}, {'x_min': 2704.4403282165526, 'y_min': 3367.718611907959, 'x_max': -480.61717743873595, 'y_max': 272.84308619499205, 'label': 0, 'confidence': 0.6793591976165771}, {'x_min': 2721.081008148193, 'y_min': 2314.376863861084, 'x_max': -435.9574843883514, 'y_max': 295.277045917511, 'label': 0, 'confidence': 0.3130837082862854}, {'x_min': 2723.7104621887206, 'y_min': 2311.7972534179685, 'x_max': -443.17884793281553, 'y_max': 291.3850576400757, 'label': 0, 'confidence': 0.4395867586135864}, {'x_min': 2717.906270599365, 'y_min': 2310.2529190063474, 'x_max': -434.701555109024, 'y_max': 303.1852910041809, 'label': 0, 'confidence': 0.5713594555854797}]\n",
      "Saved YOLO label file: ../data/test/results/yolov5n//labels/test_90.txt\n",
      "Saved annotated image: ../data/test/results/cv2_detector//images/test_90_result.jpg\n",
      "Processing: ../data/test/samples/test_light_90.JPG\n"
     ]
    },
    {
     "name": "stderr",
     "output_type": "stream",
     "text": [
      "/Users/aq_home/.cache/torch/hub/ultralytics_yolov5_master/models/common.py:865: FutureWarning: `torch.cuda.amp.autocast(args...)` is deprecated. Please use `torch.amp.autocast('cuda', args...)` instead.\n",
      "  with amp.autocast(autocast):\n"
     ]
    },
    {
     "name": "stdout",
     "output_type": "stream",
     "text": [
      "[{'x_min': 1670.8736869812012, 'y_min': 2554.6657653808593, 'x_max': -605.5410555124282, 'y_max': 123.2033121585846, 'label': 0, 'confidence': 0.5901593565940857}, {'x_min': 1671.3380767822266, 'y_min': 2555.8587432861327, 'x_max': -598.5426688671112, 'y_max': 126.8049972295761, 'label': 0, 'confidence': 0.8228327035903931}, {'x_min': 2406.8860359191895, 'y_min': 2562.1646392822263, 'x_max': -539.4051981925965, 'y_max': 198.6770559310913, 'label': 0, 'confidence': 0.7426772713661194}, {'x_min': 1669.5491546630858, 'y_min': 2560.593885040283, 'x_max': -597.2711975097656, 'y_max': 141.62305784225464, 'label': 0, 'confidence': 0.8542261719703674}, {'x_min': 2403.833592224121, 'y_min': 2569.0896308898923, 'x_max': -537.6748354911804, 'y_max': 194.86327171325684, 'label': 0, 'confidence': 0.7875464558601379}, {'x_min': 1660.502133178711, 'y_min': 3205.194165802002, 'x_max': -612.2573015213012, 'y_max': 131.57743656635284, 'label': 0, 'confidence': 0.3316444158554077}, {'x_min': 1659.5117980957032, 'y_min': 3210.317706298828, 'x_max': -601.9536528110503, 'y_max': 131.01341915130615, 'label': 0, 'confidence': 0.42295244336128235}, {'x_min': 1659.8893020629882, 'y_min': 3214.285311126709, 'x_max': -597.60868871212, 'y_max': 138.09889590740204, 'label': 0, 'confidence': 0.6109506487846375}, {'x_min': 2387.074976348877, 'y_min': 3292.861427307129, 'x_max': -551.4183052539826, 'y_max': 172.22021741867064, 'label': 0, 'confidence': 0.6975691318511963}, {'x_min': 2384.8676948547363, 'y_min': 3302.3450569152833, 'x_max': -554.1438035488128, 'y_max': 166.22424373626708, 'label': 0, 'confidence': 0.3223204016685486}, {'x_min': 2388.7007492065427, 'y_min': 3298.073487854004, 'x_max': -542.970343208313, 'y_max': 180.9562271118164, 'label': 0, 'confidence': 0.8312657475471497}, {'x_min': 1670.6710441589355, 'y_min': 2555.1699211120604, 'x_max': -606.7518225431442, 'y_max': 120.19978430271148, 'label': 0, 'confidence': 0.6130750775337219}, {'x_min': 1671.4276863098144, 'y_min': 2557.0582580566406, 'x_max': -601.6517228364944, 'y_max': 124.01552617549896, 'label': 0, 'confidence': 0.8613632917404175}, {'x_min': 2406.4804779052733, 'y_min': 2563.126103210449, 'x_max': -544.7420549869537, 'y_max': 196.83490262031555, 'label': 0, 'confidence': 0.7558491826057434}, {'x_min': 1669.4625411987304, 'y_min': 2560.746956634521, 'x_max': -600.4102291345596, 'y_max': 138.00166854858398, 'label': 0, 'confidence': 0.8961942791938782}, {'x_min': 2403.3343391418457, 'y_min': 2569.5948760986325, 'x_max': -544.7249638080597, 'y_max': 191.52128233909608, 'label': 0, 'confidence': 0.8282248973846436}, {'x_min': 1660.458826446533, 'y_min': 3205.554510498047, 'x_max': -614.6015507698058, 'y_max': 128.70061154365538, 'label': 0, 'confidence': 0.4149940013885498}, {'x_min': 1659.790976715088, 'y_min': 3210.35611038208, 'x_max': -605.4598298549652, 'y_max': 131.54833559989927, 'label': 0, 'confidence': 0.5713339447975159}, {'x_min': 1659.9557601928711, 'y_min': 3214.648924255371, 'x_max': -601.7767999649047, 'y_max': 137.27300384044648, 'label': 0, 'confidence': 0.7405276894569397}, {'x_min': 2386.3047157287597, 'y_min': 3293.507215118408, 'x_max': -556.9395731449127, 'y_max': 170.98371148109436, 'label': 0, 'confidence': 0.7570686340332031}, {'x_min': 2384.406573486328, 'y_min': 3302.3338897705075, 'x_max': -560.5556171894074, 'y_max': 162.72366728782654, 'label': 0, 'confidence': 0.3506060838699341}, {'x_min': 2388.3483032226563, 'y_min': 3298.3248847961427, 'x_max': -550.0539218902587, 'y_max': 177.5990020751953, 'label': 0, 'confidence': 0.8709815740585327}, {'x_min': 1670.690110015869, 'y_min': 2555.0767707824707, 'x_max': -607.6356356620788, 'y_max': 121.21886286735534, 'label': 0, 'confidence': 0.5155429244041443}, {'x_min': 1672.0756530761719, 'y_min': 2556.3155067443845, 'x_max': -601.9632197856903, 'y_max': 124.71931164264679, 'label': 0, 'confidence': 0.8193739056587219}, {'x_min': 2407.3324493408204, 'y_min': 2562.325609588623, 'x_max': -545.3151031494141, 'y_max': 197.23135328292847, 'label': 0, 'confidence': 0.7375059723854065}, {'x_min': 1669.8991493225096, 'y_min': 2560.599877166748, 'x_max': -601.5815111160279, 'y_max': 139.31583380699158, 'label': 0, 'confidence': 0.8599050641059875}, {'x_min': 2403.763048553467, 'y_min': 2569.2081115722654, 'x_max': -548.3865786552429, 'y_max': 192.13537316322325, 'label': 0, 'confidence': 0.8218450546264648}, {'x_min': 1660.2714363098144, 'y_min': 3205.7767639160156, 'x_max': -613.1358545064926, 'y_max': 130.17161049842835, 'label': 0, 'confidence': 0.2668919861316681}, {'x_min': 1660.7674209594727, 'y_min': 3209.8388809204102, 'x_max': -604.4938803434371, 'y_max': 132.85219337940217, 'label': 0, 'confidence': 0.47652706503868103}, {'x_min': 1660.2597244262695, 'y_min': 3214.348773193359, 'x_max': -602.7026260614394, 'y_max': 138.16057906150817, 'label': 0, 'confidence': 0.6731137633323669}, {'x_min': 2387.3715866088864, 'y_min': 3292.647617340088, 'x_max': -556.5502381324768, 'y_max': 171.8090247631073, 'label': 0, 'confidence': 0.7684569954872131}, {'x_min': 2384.24723739624, 'y_min': 3302.7086700439454, 'x_max': -563.9187832832337, 'y_max': 163.45194897651672, 'label': 0, 'confidence': 0.3187909722328186}, {'x_min': 2388.979655456543, 'y_min': 3297.8259040832518, 'x_max': -552.4691063404083, 'y_max': 177.92101078033446, 'label': 0, 'confidence': 0.890006422996521}, {'x_min': 2408.4014991760255, 'y_min': 2564.3983406066895, 'x_max': -542.3237553119659, 'y_max': 190.21639466285706, 'label': 0, 'confidence': 0.8917646408081055}, {'x_min': 2408.5235206604, 'y_min': 2559.6602027893064, 'x_max': -543.3030253887176, 'y_max': 193.2644974708557, 'label': 0, 'confidence': 0.33031129837036133}, {'x_min': 2406.698101043701, 'y_min': 2566.602353668213, 'x_max': -545.0626507759094, 'y_max': 189.2395248413086, 'label': 0, 'confidence': 0.8669415712356567}, {'x_min': 2391.1449920654295, 'y_min': 3298.9616844177244, 'x_max': -558.4645523071289, 'y_max': 177.2631706237793, 'label': 0, 'confidence': 0.844931960105896}, {'x_min': 2388.9496948242186, 'y_min': 3298.66480178833, 'x_max': -552.4257996082306, 'y_max': 176.1487542629242, 'label': 0, 'confidence': 0.9035254716873169}, {'x_min': 2389.3438133239747, 'y_min': 3299.952019500732, 'x_max': -550.8114322185517, 'y_max': 173.54481782913209, 'label': 0, 'confidence': 0.7910996079444885}, {'x_min': 2408.5128982543943, 'y_min': 2564.232740020752, 'x_max': -542.4593952655792, 'y_max': 190.13745861053465, 'label': 0, 'confidence': 0.84981769323349}, {'x_min': 2407.322099304199, 'y_min': 2567.00055770874, 'x_max': -544.5674321651459, 'y_max': 189.5539412498474, 'label': 0, 'confidence': 0.8226384520530701}, {'x_min': 2390.789005279541, 'y_min': 3298.678692626953, 'x_max': -558.366056728363, 'y_max': 175.74392824172972, 'label': 0, 'confidence': 0.7527589797973633}, {'x_min': 2389.77905960083, 'y_min': 3298.7873680114744, 'x_max': -552.6111980438233, 'y_max': 176.00216846466063, 'label': 0, 'confidence': 0.8630857467651367}, {'x_min': 2389.4731887817384, 'y_min': 3300.4670700073243, 'x_max': -551.3642058849334, 'y_max': 173.61588921546937, 'label': 0, 'confidence': 0.7210419774055481}]\n",
      "Saved YOLO label file: ../data/test/results/yolov5n//labels/test_light_90.txt\n",
      "Saved annotated image: ../data/test/results/cv2_detector//images/test_light_90_result.jpg\n",
      "Processing: ../data/test/samples/test_light_110.JPG\n"
     ]
    },
    {
     "name": "stderr",
     "output_type": "stream",
     "text": [
      "/Users/aq_home/.cache/torch/hub/ultralytics_yolov5_master/models/common.py:865: FutureWarning: `torch.cuda.amp.autocast(args...)` is deprecated. Please use `torch.amp.autocast('cuda', args...)` instead.\n",
      "  with amp.autocast(autocast):\n"
     ]
    },
    {
     "name": "stdout",
     "output_type": "stream",
     "text": [
      "[{'x_min': 1731.484590911865, 'y_min': 2558.031433868408, 'x_max': -613.113741517067, 'y_max': 116.83451585769653, 'label': 0, 'confidence': 0.7147844433784485}, {'x_min': 1729.3761795043945, 'y_min': 2559.4567428588866, 'x_max': -612.0259577751159, 'y_max': 119.43447740077971, 'label': 0, 'confidence': 0.8462671041488647}, {'x_min': 2344.346212005615, 'y_min': 2543.6021209716796, 'x_max': -589.5621310472488, 'y_max': 138.55016090869904, 'label': 0, 'confidence': 0.6230184435844421}, {'x_min': 2343.146152496338, 'y_min': 2544.426583099365, 'x_max': -587.5884488582611, 'y_max': 146.79247555732726, 'label': 0, 'confidence': 0.6669336557388306}, {'x_min': 1729.0196479797362, 'y_min': 2560.148833465576, 'x_max': -611.4468664169311, 'y_max': 124.65044474601746, 'label': 0, 'confidence': 0.8546955585479736}, {'x_min': 2344.490567779541, 'y_min': 2551.093913269043, 'x_max': -586.4007991790771, 'y_max': 143.78597717285155, 'label': 0, 'confidence': 0.5026654005050659}, {'x_min': 1724.0374671936036, 'y_min': 3125.177215576172, 'x_max': -643.4034088253975, 'y_max': 85.99229192733765, 'label': 0, 'confidence': 0.4041105806827545}, {'x_min': 1727.4268318176269, 'y_min': 3133.2657691955565, 'x_max': -635.7765936613083, 'y_max': 76.66057634353638, 'label': 0, 'confidence': 0.42611435055732727}, {'x_min': 2342.0817329406736, 'y_min': 3181.536705780029, 'x_max': -592.5215861320495, 'y_max': 119.42509768009185, 'label': 0, 'confidence': 0.6592128276824951}, {'x_min': 2343.6592964172364, 'y_min': 3178.178391265869, 'x_max': -594.0389815092086, 'y_max': 120.1871446609497, 'label': 0, 'confidence': 0.7663806080818176}, {'x_min': 1731.508014678955, 'y_min': 2558.219368743896, 'x_max': -613.2563439130782, 'y_max': 114.62028043270111, 'label': 0, 'confidence': 0.7599985003471375}, {'x_min': 1729.5390563964843, 'y_min': 2560.437000274658, 'x_max': -613.7797612667083, 'y_max': 117.03928656578063, 'label': 0, 'confidence': 0.889971137046814}, {'x_min': 2344.0703018188474, 'y_min': 2545.0560287475587, 'x_max': -592.0827820301056, 'y_max': 137.01253359317778, 'label': 0, 'confidence': 0.7001710534095764}, {'x_min': 2343.3730361938474, 'y_min': 2545.029608917236, 'x_max': -589.7447462081909, 'y_max': 143.4413447856903, 'label': 0, 'confidence': 0.7163894176483154}, {'x_min': 1728.9984031677245, 'y_min': 2560.2585983276367, 'x_max': -612.910281586647, 'y_max': 122.08371226787567, 'label': 0, 'confidence': 0.9034517407417297}, {'x_min': 2344.4894783020018, 'y_min': 2551.813513183594, 'x_max': -590.3085167884826, 'y_max': 141.98587088584898, 'label': 0, 'confidence': 0.5421909093856812}, {'x_min': 2335.0883766174315, 'y_min': 3167.9759788513184, 'x_max': -591.4182262659073, 'y_max': 126.62866358757019, 'label': 0, 'confidence': 0.3202238976955414}, {'x_min': 2341.602907562256, 'y_min': 3181.989111328125, 'x_max': -594.3827031612396, 'y_max': 120.57825007438659, 'label': 0, 'confidence': 0.7317097187042236}, {'x_min': 2343.477353668213, 'y_min': 3178.4041854858397, 'x_max': -595.5580451488495, 'y_max': 119.21702449321747, 'label': 0, 'confidence': 0.8013226985931396}, {'x_min': 1731.487042236328, 'y_min': 2558.4250076293943, 'x_max': -614.1472811937332, 'y_max': 115.53996119499206, 'label': 0, 'confidence': 0.6257584691047668}, {'x_min': 1730.1837547302246, 'y_min': 2559.7149490356446, 'x_max': -613.4724264621734, 'y_max': 117.88981955051422, 'label': 0, 'confidence': 0.8282576203346252}, {'x_min': 2344.976202392578, 'y_min': 2544.293394470215, 'x_max': -592.0743045330047, 'y_max': 137.43563389778137, 'label': 0, 'confidence': 0.6330121159553528}, {'x_min': 2343.9510040283203, 'y_min': 2544.8593780517576, 'x_max': -590.4661505699157, 'y_max': 144.01360988616943, 'label': 0, 'confidence': 0.6091904044151306}, {'x_min': 1729.5515853881836, 'y_min': 2560.0379791259766, 'x_max': -614.1411869287491, 'y_max': 123.29363665580749, 'label': 0, 'confidence': 0.8504330515861511}, {'x_min': 2344.390608215332, 'y_min': 2551.608419036865, 'x_max': -594.0018711805343, 'y_max': 143.31290559768675, 'label': 0, 'confidence': 0.4603652358055115}, {'x_min': 2336.1247421264648, 'y_min': 3167.937847137451, 'x_max': -588.7078700065613, 'y_max': 128.2421627998352, 'label': 0, 'confidence': 0.2908501923084259}, {'x_min': 2342.072200012207, 'y_min': 3181.4855003356934, 'x_max': -594.2226095438003, 'y_max': 120.51545190811157, 'label': 0, 'confidence': 0.7220582962036133}, {'x_min': 2343.5773132324216, 'y_min': 3178.0492881774903, 'x_max': -596.8478333473205, 'y_max': 119.36974711418151, 'label': 0, 'confidence': 0.7662506699562073}]\n",
      "Saved YOLO label file: ../data/test/results/yolov5n//labels/test_light_110.txt\n",
      "Saved annotated image: ../data/test/results/cv2_detector//images/test_light_110_result.jpg\n",
      "Processing: ../data/test/samples/test_140.JPG\n"
     ]
    },
    {
     "name": "stderr",
     "output_type": "stream",
     "text": [
      "/Users/aq_home/.cache/torch/hub/ultralytics_yolov5_master/models/common.py:865: FutureWarning: `torch.cuda.amp.autocast(args...)` is deprecated. Please use `torch.amp.autocast('cuda', args...)` instead.\n",
      "  with amp.autocast(autocast):\n"
     ]
    },
    {
     "name": "stdout",
     "output_type": "stream",
     "text": [
      "[{'x_min': 1712.829467010498, 'y_min': 2563.1544296264647, 'x_max': -591.2219585895538, 'y_max': 134.58219008445738, 'label': 0, 'confidence': 0.7426589131355286}, {'x_min': 1711.8274200439453, 'y_min': 2559.380751800537, 'x_max': -593.915947151184, 'y_max': 132.43774931430815, 'label': 0, 'confidence': 0.6310000419616699}, {'x_min': 2400.6057426452635, 'y_min': 2548.642044067383, 'x_max': -559.5943745613098, 'y_max': 171.2446413516998, 'label': 0, 'confidence': 0.5118107795715332}, {'x_min': 2400.8977226257325, 'y_min': 2544.7814804077148, 'x_max': -567.4121589660645, 'y_max': 172.8445731639862, 'label': 0, 'confidence': 0.35732191801071167}, {'x_min': 1712.3977615356446, 'y_min': 2566.7597831726075, 'x_max': -590.1650802612304, 'y_max': 139.02463688850403, 'label': 0, 'confidence': 0.42194175720214844}, {'x_min': 1712.4211853027343, 'y_min': 2563.778155517578, 'x_max': -591.7720255851746, 'y_max': 140.037442445755, 'label': 0, 'confidence': 0.6913629174232483}, {'x_min': 2399.435371398926, 'y_min': 2554.7646354675294, 'x_max': -554.8532406806945, 'y_max': 172.2686140537262, 'label': 0, 'confidence': 0.6693095564842224}, {'x_min': 1717.8723861694336, 'y_min': 3181.968138885498, 'x_max': -593.4423989295959, 'y_max': 147.53185629844666, 'label': 0, 'confidence': 0.8280729055404663}, {'x_min': 1714.1512756347656, 'y_min': 3183.4620849609373, 'x_max': -596.9063416957855, 'y_max': 142.10996067523956, 'label': 0, 'confidence': 0.7574024200439453}, {'x_min': 1712.9809043884277, 'y_min': 2563.8748466491697, 'x_max': -592.9699061393737, 'y_max': 131.56692481040955, 'label': 0, 'confidence': 0.772367537021637}, {'x_min': 1712.3792404174803, 'y_min': 2560.343032836914, 'x_max': -596.1537765741348, 'y_max': 129.35302984714508, 'label': 0, 'confidence': 0.6828881502151489}, {'x_min': 2399.8875045776367, 'y_min': 2549.7802757263185, 'x_max': -564.400945186615, 'y_max': 169.61689381599425, 'label': 0, 'confidence': 0.6110497117042542}, {'x_min': 2401.078031158447, 'y_min': 2544.2617996215818, 'x_max': -569.7824535369873, 'y_max': 171.9152147769928, 'label': 0, 'confidence': 0.3392571210861206}, {'x_min': 1712.7069007873536, 'y_min': 2567.884941101074, 'x_max': -592.8022968292236, 'y_max': 137.2558190345764, 'label': 0, 'confidence': 0.49125099182128906}, {'x_min': 1712.642349243164, 'y_min': 2564.516004180908, 'x_max': -593.8667674541473, 'y_max': 138.14678184986113, 'label': 0, 'confidence': 0.7405508756637573}, {'x_min': 2399.1837020874023, 'y_min': 2555.14704208374, 'x_max': -562.4755660057068, 'y_max': 167.56091351509093, 'label': 0, 'confidence': 0.7488800883293152}, {'x_min': 1717.6536735534667, 'y_min': 3182.5082473754883, 'x_max': -595.2586856603622, 'y_max': 144.5843939781189, 'label': 0, 'confidence': 0.871794581413269}, {'x_min': 1713.8631088256836, 'y_min': 3184.1615295410156, 'x_max': -598.2031689405441, 'y_max': 140.8201299190521, 'label': 0, 'confidence': 0.831138014793396}, {'x_min': 1712.7722694396973, 'y_min': 2563.714693450928, 'x_max': -593.2686698198319, 'y_max': 132.28360526561735, 'label': 0, 'confidence': 0.7019273638725281}, {'x_min': 1712.6927375793457, 'y_min': 2560.231633758545, 'x_max': -595.747946190834, 'y_max': 130.26404585838318, 'label': 0, 'confidence': 0.5564148426055908}, {'x_min': 2401.643742370605, 'y_min': 2548.9070594787595, 'x_max': -564.3996854782105, 'y_max': 169.89416584968566, 'label': 0, 'confidence': 0.6141307950019836}, {'x_min': 2401.412773132324, 'y_min': 2544.744982910156, 'x_max': -569.7024109840393, 'y_max': 171.70892901420592, 'label': 0, 'confidence': 0.25062254071235657}, {'x_min': 1712.4653091430664, 'y_min': 2567.8487159729, 'x_max': -595.1831882715225, 'y_max': 137.54963750839232, 'label': 0, 'confidence': 0.4264727830886841}, {'x_min': 1712.7316864013671, 'y_min': 2564.2784980773927, 'x_max': -594.74943151474, 'y_max': 138.6798598051071, 'label': 0, 'confidence': 0.6707987189292908}, {'x_min': 2399.518716430664, 'y_min': 2554.8547897338867, 'x_max': -566.7728229045867, 'y_max': 168.51178908348083, 'label': 0, 'confidence': 0.748556911945343}, {'x_min': 1717.6811828613281, 'y_min': 3182.1427276611325, 'x_max': -597.4471055746078, 'y_max': 145.12084250450133, 'label': 0, 'confidence': 0.8252683281898499}, {'x_min': 1714.4745780944825, 'y_min': 3183.554418182373, 'x_max': -598.8871906042099, 'y_max': 141.1967827320099, 'label': 0, 'confidence': 0.7855986952781677}, {'x_min': 2404.094249725342, 'y_min': 2548.181739807129, 'x_max': -558.7309465885162, 'y_max': 168.64288387298583, 'label': 0, 'confidence': 0.6353271007537842}, {'x_min': 2403.8425804138183, 'y_min': 2545.8306472778318, 'x_max': -563.506773519516, 'y_max': 169.0698739528656, 'label': 0, 'confidence': 0.5689986944198608}, {'x_min': 2402.0778991699217, 'y_min': 2551.162005615234, 'x_max': -561.4198282241821, 'y_max': 166.30512042045592, 'label': 0, 'confidence': 0.4728403687477112}, {'x_min': 2403.998920440674, 'y_min': 2548.079328918457, 'x_max': -559.510672044754, 'y_max': 167.60585446357726, 'label': 0, 'confidence': 0.48462602496147156}, {'x_min': 2403.78837890625, 'y_min': 2545.6263702392575, 'x_max': -563.2831752777099, 'y_max': 168.19575548171997, 'label': 0, 'confidence': 0.41104164719581604}, {'x_min': 2401.3286109924315, 'y_min': 2551.584178161621, 'x_max': -561.0694931030273, 'y_max': 166.39011669158936, 'label': 0, 'confidence': 0.3280188739299774}]\n",
      "Saved YOLO label file: ../data/test/results/yolov5n//labels/test_140.txt\n",
      "Saved annotated image: ../data/test/results/cv2_detector//images/test_140_result.jpg\n",
      "Processing: ../data/test/samples/test_light_100.JPG\n",
      "[{'x_min': 1738.0492378234862, 'y_min': 2551.3937919616696, 'x_max': -614.7834935188293, 'y_max': 106.56223218441009, 'label': 0, 'confidence': 0.4993240535259247}, {'x_min': 1737.6532127380372, 'y_min': 2557.540351867676, 'x_max': -604.6451900482177, 'y_max': 113.75969531536101, 'label': 0, 'confidence': 0.7311968207359314}, {'x_min': 2398.7522689819334, 'y_min': 2566.0554359436032, 'x_max': -555.0323065280915, 'y_max': 162.08635697364807, 'label': 0, 'confidence': 0.596173882484436}, {'x_min': 1740.3883460998534, 'y_min': 2560.999443054199, 'x_max': -603.3801193714141, 'y_max': 121.39415810108184, 'label': 0, 'confidence': 0.756234884262085}, {'x_min': 2399.4925689697266, 'y_min': 2571.5442237854004, 'x_max': -550.6670934677123, 'y_max': 173.977374458313, 'label': 0, 'confidence': 0.7352071404457092}, {'x_min': 1725.9184501647949, 'y_min': 3164.4250991821286, 'x_max': -610.4118627548218, 'y_max': 122.85419418811797, 'label': 0, 'confidence': 0.4721720218658447}, {'x_min': 1725.9650253295897, 'y_min': 3163.6412200927734, 'x_max': -616.0043807744979, 'y_max': 118.91418378353119, 'label': 0, 'confidence': 0.7423679232597351}, {'x_min': 1725.3905982971191, 'y_min': 3167.8419731140134, 'x_max': -614.5374077796936, 'y_max': 117.89879071712494, 'label': 0, 'confidence': 0.6723763942718506}, {'x_min': 2392.2175827026367, 'y_min': 3233.0049865722654, 'x_max': -581.3292642116546, 'y_max': 141.8166443824768, 'label': 0, 'confidence': 0.3273218274116516}, {'x_min': 2391.3568954467773, 'y_min': 3240.5479843139647, 'x_max': -580.1074236631393, 'y_max': 140.12686471939085, 'label': 0, 'confidence': 0.6149680614471436}, {'x_min': 1737.8711082458497, 'y_min': 2551.8244079589845, 'x_max': -615.0441425085068, 'y_max': 105.17398245334626, 'label': 0, 'confidence': 0.49007341265678406}, {'x_min': 1737.6562088012695, 'y_min': 2558.890214538574, 'x_max': -606.8180168151855, 'y_max': 112.63967835903168, 'label': 0, 'confidence': 0.7854528427124023}, {'x_min': 2398.436865234375, 'y_min': 2567.3750656127927, 'x_max': -562.0371534347533, 'y_max': 159.19336853027343, 'label': 0, 'confidence': 0.6401855945587158}, {'x_min': 1740.0522422790527, 'y_min': 2561.587216186523, 'x_max': -605.3240196704865, 'y_max': 120.16097166538238, 'label': 0, 'confidence': 0.8150680661201477}, {'x_min': 2398.9314880371094, 'y_min': 2571.768928527832, 'x_max': -558.4050736427307, 'y_max': 169.88415627479552, 'label': 0, 'confidence': 0.7956238985061646}, {'x_min': 2403.533713531494, 'y_min': 2579.089128112793, 'x_max': -572.6396254062653, 'y_max': 161.92836570739746, 'label': 0, 'confidence': 0.30326512455940247}, {'x_min': 1725.97074508667, 'y_min': 3164.018996429443, 'x_max': -612.9489835739136, 'y_max': 121.4963136434555, 'label': 0, 'confidence': 0.5950657725334167}, {'x_min': 1725.838101196289, 'y_min': 3164.0930809020997, 'x_max': -617.0953818798065, 'y_max': 117.16766617298126, 'label': 0, 'confidence': 0.793636679649353}, {'x_min': 1725.5213356018066, 'y_min': 3168.2894760131835, 'x_max': -615.9785993099213, 'y_max': 118.41537330150604, 'label': 0, 'confidence': 0.7713252305984497}, {'x_min': 2392.0285583496093, 'y_min': 3232.435734558105, 'x_max': -586.0831483840942, 'y_max': 142.4474859237671, 'label': 0, 'confidence': 0.47028452157974243}, {'x_min': 2391.6750228881833, 'y_min': 3239.8727806091306, 'x_max': -585.5357540130615, 'y_max': 139.04206001758575, 'label': 0, 'confidence': 0.724646270275116}, {'x_min': 1737.8291633605957, 'y_min': 2552.1842079162598, 'x_max': -615.3389568328857, 'y_max': 106.2275668144226, 'label': 0, 'confidence': 0.33720219135284424}, {'x_min': 1738.4624221801757, 'y_min': 2558.176879119873, 'x_max': -607.107596540451, 'y_max': 113.17776961326598, 'label': 0, 'confidence': 0.7150830030441284}, {'x_min': 2399.409496307373, 'y_min': 2566.4119674682615, 'x_max': -563.2670714378356, 'y_max': 159.94386534690855, 'label': 0, 'confidence': 0.6483092308044434}, {'x_min': 1741.0899696350098, 'y_min': 2561.23041229248, 'x_max': -605.6168678283691, 'y_max': 121.10487627983093, 'label': 0, 'confidence': 0.7483868598937988}, {'x_min': 2399.5296112060546, 'y_min': 2571.5104499816894, 'x_max': -561.4071630477905, 'y_max': 170.83760232925414, 'label': 0, 'confidence': 0.795925498008728}, {'x_min': 1726.821354675293, 'y_min': 3163.884173583984, 'x_max': -611.6469557762146, 'y_max': 123.49270462989807, 'label': 0, 'confidence': 0.4632888436317444}, {'x_min': 1725.5728134155272, 'y_min': 3164.161445617676, 'x_max': -619.2032059907913, 'y_max': 118.00161867141723, 'label': 0, 'confidence': 0.6639494299888611}, {'x_min': 1725.817401123047, 'y_min': 3167.7847755432126, 'x_max': -616.0296515464782, 'y_max': 118.84839806556701, 'label': 0, 'confidence': 0.6826575398445129}, {'x_min': 2393.2937141418456, 'y_min': 3232.363011932373, 'x_max': -584.9250933408737, 'y_max': 144.00360031127929, 'label': 0, 'confidence': 0.46117472648620605}, {'x_min': 2391.668758392334, 'y_min': 3240.1121932983397, 'x_max': -586.1945304393768, 'y_max': 139.46367931365967, 'label': 0, 'confidence': 0.722654402256012}, {'x_min': 2403.7445274353026, 'y_min': 2570.98069152832, 'x_max': -559.2063503265381, 'y_max': 166.23392987251282, 'label': 0, 'confidence': 0.6586769819259644}, {'x_min': 2402.7130645751954, 'y_min': 2571.9960845947267, 'x_max': -560.4355703830719, 'y_max': 167.65591936111448, 'label': 0, 'confidence': 0.5094425678253174}, {'x_min': 2403.524452972412, 'y_min': 2570.689256286621, 'x_max': -559.8926701068877, 'y_max': 164.73169355392454, 'label': 0, 'confidence': 0.5083203911781311}, {'x_min': 2401.983659362793, 'y_min': 2572.049196624756, 'x_max': -560.0337063789367, 'y_max': 167.96141567230225, 'label': 0, 'confidence': 0.3654950261116028}]\n",
      "Saved YOLO label file: ../data/test/results/yolov5n//labels/test_light_100.txt\n",
      "Saved annotated image: ../data/test/results/cv2_detector//images/test_light_100_result.jpg\n"
     ]
    },
    {
     "name": "stderr",
     "output_type": "stream",
     "text": [
      "/Users/aq_home/.cache/torch/hub/ultralytics_yolov5_master/models/common.py:865: FutureWarning: `torch.cuda.amp.autocast(args...)` is deprecated. Please use `torch.amp.autocast('cuda', args...)` instead.\n",
      "  with amp.autocast(autocast):\n"
     ]
    }
   ],
   "source": [
    "\n",
    "\n",
    "\n",
    "# Load the model\n",
    "model = torch.hub.load('ultralytics/yolov5', 'custom', path='../data/models/yolov5n_best.pt')\n",
    "\n",
    "# Verify the model is loaded\n",
    "print(\"Model loaded successfully!\")\n",
    "\n",
    "# Input and output paths\n",
    "test_dir = \"../data/test/samples/\"\n",
    "yolo_results_dir = \"../data/test/results/yolov5n/\"\n",
    "\n",
    "# Run QR code detection and save results for each image in the test directory\n",
    "for filename in os.listdir(test_dir):\n",
    "    if filename.endswith((\".jpg\", \".png\", \".jpeg\", \".JPG\")) and \"out\" not in filename and filename[0] != \".\":\n",
    "        filepath = os.path.join(test_dir, filename)\n",
    "        image_name = os.path.splitext(os.path.basename(filepath))[0]\n",
    "        print(f\"Processing: {filepath}\")\n",
    "        image = cv2.imread(filepath)\n",
    "        if image is None:\n",
    "            raise ValueError(f\"Error: Could not load image at {filepath}\")\n",
    "        yolo_detections, yolo_labels = yolov5n_detector(image, model)\n",
    "        print(yolo_detections)\n",
    "        save_yolo_labels(yolo_labels, yolo_results_dir, image_name)\n",
    "        save_annotated_image( image, cv2_detections, cv2_results_dir, image_name)"
   ]
  },
  {
   "cell_type": "code",
   "execution_count": 8,
   "metadata": {},
   "outputs": [],
   "source": [
    "def format_detections_for_transform(detections, image_shape):\n",
    "    \"\"\"\n",
    "    Reorders detections into srcPoints corresponding to the quadrants \n",
    "    (top-left, top-right, bottom-left, bottom-right) for homography calculation.\n",
    "\n",
    "    Args:\n",
    "        detections (list): List of dictionaries with bounding box details.\n",
    "        image_shape (tuple): Shape of the image as (height, width).\n",
    "\n",
    "    Returns:\n",
    "        list: List of four (x, y) source points in the correct order.\n",
    "    \"\"\"\n",
    "    h, w = image_shape[:2]\n",
    "\n",
    "    # Initialize lists for each quadrant\n",
    "    top_left, top_right, bottom_left, bottom_right = [], [], [], []\n",
    "\n",
    "    tl_point = (-1,-1)\n",
    "    br_point = (-1,-1)\n",
    "\n",
    "    for detection in detections:\n",
    "        x_min = detection['x_min']\n",
    "        y_min = detection['y_min']\n",
    "        x_max = detection['x_max']\n",
    "        y_max = detection['y_max']\n",
    "        center_x = (x_min + x_max) / 2\n",
    "        center_y = (y_min + y_max) / 2\n",
    "\n",
    "        # Assign to quadrants\n",
    "        if center_x < w / 2 and center_y < h / 2:\n",
    "            top_left.append((center_x, center_y))\n",
    "            tl_point = (x_min, y_min)\n",
    "        elif center_x >= w / 2 and center_y < h / 2:\n",
    "            top_right.append((center_x, center_y))\n",
    "        elif center_x < w / 2 and center_y >= h / 2:\n",
    "            bottom_left.append((center_x, center_y))\n",
    "        else:\n",
    "            bottom_right.append((center_x, center_y))\n",
    "            br_point = (x_max, y_max)\n",
    "\n",
    "    # Verify we have one point per quadrant\n",
    "    if len(top_left) != 1 or len(top_right) != 1 or len(bottom_left) != 1 or len(bottom_right) != 1:\n",
    "        raise ValueError(\"Four QR codes (one in each quadrant) are required for the transform.\")\n",
    "\n",
    "    # Return points in the order: top-left, top-right, bottom-left, bottom-right\n",
    "    out_points = [top_left[0], top_right[0], bottom_right[0], bottom_left[0]]\n",
    "    return out_points, tl_point, br_point"
   ]
  },
  {
   "cell_type": "code",
   "execution_count": 9,
   "metadata": {},
   "outputs": [
    {
     "name": "stderr",
     "output_type": "stream",
     "text": [
      "Using cache found in /Users/aq_home/.cache/torch/hub/ultralytics_yolov5_master\n",
      "YOLOv5 🚀 2024-12-12 Python-3.11.11 torch-2.5.1 CPU\n",
      "\n",
      "Fusing layers... \n",
      "Model summary: 157 layers, 1760518 parameters, 0 gradients, 4.1 GFLOPs\n",
      "Adding AutoShape... \n"
     ]
    },
    {
     "name": "stdout",
     "output_type": "stream",
     "text": [
      "Processing: ../data/targets/output/scoring_target_qr_5_h.jpg\n",
      "[{'x_min': 2719.0, 'y_min': 1970.0, 'x_max': 3229.0, 'y_max': 2479.0, 'label': 'QR 0'}, {'x_min': 2713.0, 'y_min': 63.0, 'x_max': 3236.0, 'y_max': 586.0, 'label': 'QR 1'}, {'x_min': 70.0, 'y_min': 70.0, 'x_max': 579.0, 'y_max': 579.0, 'label': 'QR 2'}, {'x_min': 77.89289, 'y_min': 1978.0, 'x_max': 571.0, 'y_max': 2473.1882, 'label': 'QR 3'}]\n",
      "{'CPU_Usage (%)': 166.2, 'Memory_Usage (bytes)': -343277568, 'Duration (seconds)': 0.732163708016742}\n",
      "Saved annotated image: ../data/targets/sandbox_run/cv2//images/scoring_target_qr_5_h_result.jpg\n",
      "[]\n",
      "{'CPU_Usage (%)': 391.1, 'Memory_Usage (bytes)': 47759360, 'Duration (seconds)': 0.11598699999740347}\n",
      "Saved annotated image: ../data/targets/sandbox_run/yolo//images/scoring_target_qr_5_h_result.jpg\n"
     ]
    },
    {
     "name": "stderr",
     "output_type": "stream",
     "text": [
      "/Users/aq_home/.cache/torch/hub/ultralytics_yolov5_master/models/common.py:865: FutureWarning: `torch.cuda.amp.autocast(args...)` is deprecated. Please use `torch.amp.autocast('cuda', args...)` instead.\n",
      "  with amp.autocast(autocast):\n"
     ]
    }
   ],
   "source": [
    "filepath = \"../data/targets/output/scoring_target_qr_5_h.jpg\"\n",
    "# Load the model\n",
    "model = torch.hub.load('ultralytics/yolov5', 'custom', path='../data/models/yolov5n_best.pt')\n",
    "\n",
    "image_name = os.path.splitext(os.path.basename(filepath))[0]\n",
    "print(f\"Processing: {filepath}\")\n",
    "image = cv2.imread(filepath)\n",
    "if image is None:\n",
    "    raise ValueError(f\"Error: Could not load image at {filepath}\")\n",
    "\n",
    "\n",
    "result, stats = measure_processing_power(qr_code_detector, image)\n",
    "cv2_detections, cv2_labels = result\n",
    "print(cv2_detections)\n",
    "print(stats)\n",
    "save_annotated_image( image, cv2_detections, \"../data/targets/sandbox_run/cv2/\", image_name)\n",
    "result, stats = measure_processing_power(yolov5n_detector, image, model)\n",
    "yolo_detections, yolo_labels = result\n",
    "print(yolo_detections)\n",
    "print(stats)\n",
    "save_annotated_image( image, yolo_detections, \"../data/targets/sandbox_run/yolo/\", image_name)\n",
    "\n",
    "dst_points, _, _ = format_detections_for_transform(cv2_detections, image.shape)"
   ]
  },
  {
   "cell_type": "code",
   "execution_count": 10,
   "metadata": {},
   "outputs": [],
   "source": [
    "def find_four_point_transform(srcPoints, dstPoints):\n",
    "    \"\"\"Solves for and returns a perspective transform.\n",
    "\n",
    "    Each source and corresponding destination point must be at the\n",
    "    same index in the lists.\n",
    "\n",
    "    Do not use the following functions (you will implement this yourself):\n",
    "        cv2.findHomography\n",
    "        cv2.getPerspectiveTransform\n",
    "    Hint: You will probably need to use least squares to solve this.\n",
    "    Args:\n",
    "        srcPoints (list): List of four (x,y) source points\n",
    "        dstPoints (list): List of four (x,y) destination points\n",
    "    Returns:\n",
    "        numpy.array: 3 by 3 homography matrix of floating point values\n",
    "    \"\"\"\n",
    "\n",
    "    # Generate pair of equations for each point\n",
    "    p = srcPoints\n",
    "    t = dstPoints\n",
    "    \n",
    "    A = np.zeros((8, 9))\n",
    "    \n",
    "    for i in range(len(p)):\n",
    "        A[2 * i + 0] = [p[i][0], p[i][1], 1, 0, 0, 0, -t[i][0] * p[i][0], -t[i][0] * p[i][1], -t[i][0]]\n",
    "        A[2 * i + 1] = [0, 0, 0, p[i][0], p[i][1], 1,  -t[i][1] * p[i][0], -t[i][1] * p[i][1], -t[i][1]]\n",
    "    \n",
    "    # Execute singular value decomposition\n",
    "    u, s, vh = np.linalg.svd(A)\n",
    "    \n",
    "    # Minimizing by taking last column of V, generating homography\n",
    "    homography = np.ones((3,3))\n",
    "    count = 0\n",
    "    for i in range(3):\n",
    "        for j in range(3):\n",
    "            homography[i,j] = vh[8,count]\n",
    "            count += 1\n",
    "    return homography\n"
   ]
  },
  {
   "cell_type": "code",
   "execution_count": 11,
   "metadata": {},
   "outputs": [],
   "source": [
    "def validate_and_redetect(image, detections, template, pyramid_levels=3, threshold=0.0):\n",
    "    \"\"\"\n",
    "    Validate initial detections and attempt redetection if validation fails.\n",
    "\n",
    "    Args:\n",
    "        image (ndarray): The input image.\n",
    "        detections (list): List of initial detections with bounding box coordinates.\n",
    "        template (ndarray): Template of the QR code to search for.\n",
    "        pyramid_levels (int): Number of pyramid levels for validation and redetection.\n",
    "        threshold (float): Minimum confidence for template matching.\n",
    "\n",
    "    Returns:\n",
    "        updated_detections (list): List of validated or redetected bounding boxes.\n",
    "    \"\"\"\n",
    "    updated_detections = []\n",
    "    h, w = image.shape[:2]\n",
    "\n",
    "    # Create Laplacian pyramid for the image\n",
    "    image_pyramid = [image]\n",
    "    for _ in range(pyramid_levels - 1):\n",
    "        image_pyramid.append(cv2.pyrDown(image_pyramid[-1]))\n",
    "\n",
    "    for detection in detections:\n",
    "        # Extract ROI around the detection\n",
    "        x_min, y_min, x_max, y_max = (\n",
    "            int(detection['x_min']),\n",
    "            int(detection['y_min']),\n",
    "            int(detection['x_max']),\n",
    "            int(detection['y_max']),\n",
    "        )\n",
    "\n",
    "        roi = image[y_min:y_max, x_min:x_max]\n",
    "        resized_template = cv2.resize(template, (roi.shape[1], roi.shape[0]))\n",
    "\n",
    "        # Validate using template matching within the ROI\n",
    "        result = cv2.matchTemplate(roi, resized_template, cv2.TM_CCOEFF_NORMED)\n",
    "        min_val, max_val, min_loc, max_loc = cv2.minMaxLoc(result)\n",
    "        print(\"match result: \",max_val)\n",
    "\n",
    "        if max_val >= threshold:\n",
    "            # If validation succeeds, adjust coordinates to the original scale\n",
    "            updated_detections.append({\n",
    "                'x_min': x_min,\n",
    "                'y_min': y_min,\n",
    "                'x_max': x_max,\n",
    "                'y_max': y_max,\n",
    "                'confidence': max_val\n",
    "            })\n",
    "\n",
    "    return updated_detections"
   ]
  },
  {
   "cell_type": "code",
   "execution_count": 12,
   "metadata": {},
   "outputs": [
    {
     "name": "stderr",
     "output_type": "stream",
     "text": [
      "Using cache found in /Users/aq_home/.cache/torch/hub/ultralytics_yolov5_master\n",
      "YOLOv5 🚀 2024-12-12 Python-3.11.11 torch-2.5.1 CPU\n",
      "\n",
      "Fusing layers... \n",
      "Model summary: 157 layers, 1760518 parameters, 0 gradients, 4.1 GFLOPs\n",
      "Adding AutoShape... \n"
     ]
    },
    {
     "name": "stdout",
     "output_type": "stream",
     "text": [
      "Processing: ../data/test/samples/test_marks.JPG\n",
      "[{'x_min': 3360.4148, 'y_min': 1623.0, 'x_max': 3615.5322, 'y_max': 1899.5979, 'label': 'QR 0'}, {'x_min': 3317.0, 'y_min': 2600.667, 'x_max': 3557.0, 'y_max': 2894.2947, 'label': 'QR 1'}, {'x_min': 2364.7778, 'y_min': 1623.0138, 'x_max': 2547.1968, 'y_max': 1855.8821, 'label': 'QR 2'}, {'x_min': 1993.0, 'y_min': 21.0, 'x_max': 5709.0, 'y_max': 1544.0, 'label': 'QR 3'}, {'x_min': 2328.4646, 'y_min': 2476.3237, 'x_max': 2507.452, 'y_max': 2722.0, 'label': 'QR 4'}]\n",
      "{'CPU_Usage (%)': 104.8, 'Memory_Usage (bytes)': 66699264, 'Duration (seconds)': 3.1436754589667544}\n",
      "Saved annotated image: ../data/targets/sandbox_run/cv2/images/test_marks_result.jpg\n",
      "match result:  (0.10503210872411728, 0.10503210872411728, (0, 0), (0, 0))\n",
      "match result:  (0.09911054372787476, 0.09911054372787476, (0, 0), (0, 0))\n",
      "match result:  (0.013012969866394997, 0.013012969866394997, (0, 0), (0, 0))\n",
      "match result:  (-0.14484745264053345, -0.14484745264053345, (0, 0), (0, 0))\n",
      "match result:  (0.14061689376831055, 0.14061689376831055, (0, 0), (0, 0))\n",
      "{'CPU_Usage (%)': 87.7, 'Memory_Usage (bytes)': -159006720, 'Duration (seconds)': 0.5007711250218563}\n",
      "Saved annotated image: ../data/tests/sandbox_run/cv2/images/test_marks_result_tmatch.jpg\n"
     ]
    }
   ],
   "source": [
    "filepath = \"../data/test/samples/test_marks.JPG\"\n",
    "# Load the model\n",
    "model = torch.hub.load('ultralytics/yolov5', 'custom', path='../data/models/yolov5n_best.pt')\n",
    "\n",
    "image_name = os.path.splitext(os.path.basename(filepath))[0]\n",
    "print(f\"Processing: {filepath}\")\n",
    "image = cv2.imread(filepath)\n",
    "if image is None:\n",
    "    raise ValueError(f\"Error: Could not load image at {filepath}\")\n",
    "\n",
    "\n",
    "result, stats = measure_processing_power(qr_code_detector, image)\n",
    "cv2_detections, cv2_labels = result\n",
    "print(cv2_detections)\n",
    "print(stats)\n",
    "save_annotated_image( image, cv2_detections, \"../data/targets/sandbox_run/cv2\", image_name)\n",
    "\n",
    "#print(rescan_image(image, cv2_detections, threshold=0.1))\n",
    "template = cv2.imread(\"../data/qr_codes/qr_tr.png\")\n",
    "result, stats = measure_processing_power(validate_and_redetect, image, cv2_detections, template, pyramid_levels=3, threshold=0.0)\n",
    "print(stats)\n",
    "filtered_detections = result.copy()\n",
    "save_annotated_image(image, filtered_detections, \"../data/tests/sandbox_run/cv2\", image_name, suffix=\"_tmatch\")\n",
    "\n",
    "src_points, tl_point, br_point = format_detections_for_transform(filtered_detections, image.shape)"
   ]
  },
  {
   "cell_type": "code",
   "execution_count": 13,
   "metadata": {},
   "outputs": [],
   "source": [
    "print(src_points)\n",
    "print(dst_points)\n",
    "homography = find_four_point_transform(src_points, dst_points)"
   ]
  },
  {
   "cell_type": "code",
   "execution_count": 14,
   "metadata": {},
   "outputs": [],
   "source": [
    "def correspondences(x,y,eig):\n",
    "    \n",
    "    num_x = eig[0][0] * x + eig[0][1] * y + eig[0][2]\n",
    "    den_x = eig[2][0] * x + eig[2][1] * y + eig[2][2]\n",
    "    \n",
    "    num_y = eig[1][0] * x + eig[1][1] * y + eig[1][2]\n",
    "    den_y = eig[2][0] * x + eig[2][1] * y + eig[2][2]\n",
    "    \n",
    "    x_t = num_x / den_x\n",
    "    y_t = num_y / den_y\n",
    "    \n",
    "    return x_t, y_t\n",
    "\n",
    "def crop_to_corners(image, tl_point, br_point, eig):\n",
    "\n",
    "\n",
    "    # transform corners\n",
    "    x_tl, y_tl = correspondences(tl_point[0], tl_point[1], eig)\n",
    "    x_br, y_br = correspondences(br_point[0], br_point[1], eig)\n",
    "    x_tl, y_tl = int(x_tl), int(y_tl)\n",
    "    x_br, y_br = int(x_br), int(y_br)\n",
    "\n",
    "    # Crop the image\n",
    "    cropped_image = image[y_tl:y_br, x_tl:x_br]\n",
    "\n",
    "    return cropped_image\n",
    "\n",
    "\n",
    "def crop_to_qr_corners(image, detections, eig):\n",
    "    \"\"\"\n",
    "    Crops the image from the top-left QR code corner to the bottom-right QR code corner.\n",
    "\n",
    "    Args:\n",
    "        image (ndarray): The input image to be cropped.\n",
    "        detections (list): List of dictionaries with bounding box details for QR codes.\n",
    "        eig (ndarray): Homography matrix.\n",
    "\n",
    "    Returns:\n",
    "        ndarray: Cropped image.\n",
    "    \"\"\"\n",
    "    # Ensure there are at least two QR codes detected\n",
    "    if len(detections) < 2:\n",
    "        raise ValueError(\"At least two QR codes (top-left and bottom-right) are required to crop the image.\")\n",
    "\n",
    "    # Find the top-left and bottom-right QR codes\n",
    "    src_points = format_detections_for_transform(detections, image.shape)\n",
    "    top_left = src_points[0].astype(int)  # Top-left QR code\n",
    "    bottom_right = src_points[2].astype(int)  # Bottom-right QR code\n",
    "\n",
    "    # Transform the top-left and bottom-right points using the homography matrix\n",
    "    x_tl, y_tl = correspondences(top_left[0], top_left[1], eig)\n",
    "    x_br, y_br = correspondences(bottom_right[0], bottom_right[1], eig)\n",
    "\n",
    "    # Ensure the points are integers for cropping\n",
    "    pad = 200\n",
    "    x_tl, y_tl = int(x_tl), int(y_tl)\n",
    "    x_br, y_br = int(x_br), int(y_br)\n",
    "\n",
    "    # Crop the image\n",
    "    cropped_image = image[y_tl:y_br, x_tl:x_br]\n",
    "\n",
    "    return cropped_image"
   ]
  },
  {
   "cell_type": "code",
   "execution_count": 15,
   "metadata": {},
   "outputs": [],
   "source": [
    "warped = cv2.warpPerspective(image, homography, (image.shape[1],image.shape[0]))\n",
    "warped_and_cropped = crop_to_corners(warped, tl_point, br_point, homography)"
   ]
  },
  {
   "cell_type": "code",
   "execution_count": 16,
   "metadata": {},
   "outputs": [
    {
     "data": {
      "text/plain": [
       "True"
      ]
     },
     "execution_count": 16,
     "metadata": {},
     "output_type": "execute_result"
    }
   ],
   "source": [
    "output_size = (110,85)\n",
    "cv2.imwrite(\"../data/tests/sandbox_run/cv2/images/output_warped_cropped.jpg\",warped_and_cropped)"
   ]
  },
  {
   "cell_type": "markdown",
   "metadata": {},
   "source": [
    "# Sandbox"
   ]
  },
  {
   "cell_type": "code",
   "execution_count": 19,
   "metadata": {},
   "outputs": [
    {
     "name": "stdout",
     "output_type": "stream",
     "text": [
      "Processing: ../data/test/samples/test_light_130.JPG\n",
      "[{'x_min': 1908.8589, 'y_min': 3035.5122, 'x_max': 1994.0, 'y_max': 3157.0, 'label': 'QR 0'}, {'x_min': 1903.0, 'y_min': 2585.0, 'x_max': 1992.0, 'y_max': 2708.0, 'label': 'QR 1'}, {'x_min': 2316.0, 'y_min': 1667.0, 'x_max': 3016.0, 'y_max': 2594.0, 'label': 'QR 2'}]\n",
      "Saved annotated image: ../data/test/python/sandbox_run/cv2/images/test_light_130_result.jpg\n",
      "match result:  (0.02540392428636551, 0.02540392428636551, (0, 0), (0, 0))\n",
      "match result:  (-0.0025577745400369167, -0.0025577745400369167, (0, 0), (0, 0))\n",
      "match result:  (-0.0798826515674591, -0.0798826515674591, (0, 0), (0, 0))\n",
      "Saved annotated image: ../data/test/python/sandbox_run/cv2/images/test_light_130_result_tmatch.jpg\n",
      "Error: detections need to find 4 codes but found 2\n",
      "Processing: ../data/test/samples/test_light_120.JPG\n",
      "[{'x_min': 1776.0, 'y_min': 2511.7073, 'x_max': 1873.1279, 'y_max': 2644.0, 'label': 'QR 0'}, {'x_min': 2317.0, 'y_min': 3028.6, 'x_max': 2440.049, 'y_max': 3183.338, 'label': 'QR 1'}]\n",
      "Saved annotated image: ../data/test/python/sandbox_run/cv2/images/test_light_120_result.jpg\n",
      "match result:  (-0.006429530680179596, -0.006429530680179596, (0, 0), (0, 0))\n",
      "match result:  (0.029519081115722656, 0.029519081115722656, (0, 0), (0, 0))\n",
      "Saved annotated image: ../data/test/python/sandbox_run/cv2/images/test_light_120_result_tmatch.jpg\n",
      "Error: detections need to find 4 codes but found 2\n",
      "Processing: ../data/test/samples/test_110.JPG\n",
      "[{'x_min': 2557.0, 'y_min': 2240.0, 'x_max': 2761.0, 'y_max': 2484.0, 'label': 'QR 0'}, {'x_min': 1717.1102, 'y_min': 3058.7502, 'x_max': 1861.0, 'y_max': 3263.0, 'label': 'QR 1'}, {'x_min': 1717.0493, 'y_min': 2304.5298, 'x_max': 1866.1903, 'y_max': 2514.4285, 'label': 'QR 2'}, {'x_min': 2557.0, 'y_min': 3096.0, 'x_max': 2746.3745, 'y_max': 3333.7847, 'label': 'QR 3'}]\n",
      "Saved annotated image: ../data/test/python/sandbox_run/cv2/images/test_110_result.jpg\n",
      "match result:  (0.09917120635509491, 0.09917120635509491, (0, 0), (0, 0))\n",
      "match result:  (0.04406118765473366, 0.04406118765473366, (0, 0), (0, 0))\n",
      "match result:  (0.02286411263048649, 0.02286411263048649, (0, 0), (0, 0))\n",
      "match result:  (-0.009024943225085735, -0.009024943225085735, (0, 0), (0, 0))\n",
      "Saved annotated image: ../data/test/python/sandbox_run/cv2/images/test_110_result_tmatch.jpg\n",
      "saved to ../data/test/python/sandbox_run/cv2/images/test_110_output.jpg\n",
      "Processing: ../data/test/samples/test_60.JPG\n",
      "[{'x_min': 2404.0, 'y_min': 990.0, 'x_max': 2807.0, 'y_max': 1503.0, 'label': 'QR 0'}, {'x_min': 962.63916, 'y_min': 2605.0, 'x_max': 1189.0, 'y_max': 2950.5154, 'label': 'QR 1'}, {'x_min': 2389.839, 'y_min': 2655.601, 'x_max': 2745.0, 'y_max': 3098.7688, 'label': 'QR 2'}]\n",
      "Saved annotated image: ../data/test/python/sandbox_run/cv2/images/test_60_result.jpg\n",
      "match result:  (0.16275113821029663, 0.16275113821029663, (0, 0), (0, 0))\n",
      "match result:  (0.045450810343027115, 0.045450810343027115, (0, 0), (0, 0))\n",
      "match result:  (-0.0012666471302509308, -0.0012666471302509308, (0, 0), (0, 0))\n",
      "Saved annotated image: ../data/test/python/sandbox_run/cv2/images/test_60_result_tmatch.jpg\n",
      "Error: detections need to find 4 codes but found 3\n",
      "Processing: ../data/test/samples/test_light_60.JPG\n",
      "[{'x_min': 1414.6531, 'y_min': 3227.298, 'x_max': 1578.7433, 'y_max': 3486.474, 'label': 'QR 0'}, {'x_min': 1422.0, 'y_min': 2313.3013, 'x_max': 1592.0825, 'y_max': 2570.0, 'label': 'QR 1'}, {'x_min': 2436.0, 'y_min': 3341.0, 'x_max': 2693.9868, 'y_max': 3678.6663, 'label': 'QR 2'}, {'x_min': 2442.648, 'y_min': 2199.8103, 'x_max': 2726.1829, 'y_max': 2533.1138, 'label': 'QR 3'}]\n",
      "Saved annotated image: ../data/test/python/sandbox_run/cv2/images/test_light_60_result.jpg\n",
      "match result:  (0.07714486122131348, 0.07714486122131348, (0, 0), (0, 0))\n",
      "match result:  (0.02588197961449623, 0.02588197961449623, (0, 0), (0, 0))\n",
      "match result:  (0.049836400896310806, 0.049836400896310806, (0, 0), (0, 0))\n",
      "match result:  (0.12559407949447632, 0.12559407949447632, (0, 0), (0, 0))\n",
      "Saved annotated image: ../data/test/python/sandbox_run/cv2/images/test_light_60_result_tmatch.jpg\n",
      "saved to ../data/test/python/sandbox_run/cv2/images/test_light_60_output.jpg\n",
      "Processing: ../data/test/samples/test_light_140.JPG\n",
      "[{'x_min': 2434.0, 'y_min': 2914.0, 'x_max': 2543.0, 'y_max': 3045.0, 'label': 'QR 0'}, {'x_min': 2435.0, 'y_min': 2451.0, 'x_max': 2546.0, 'y_max': 2580.0, 'label': 'QR 1'}]\n",
      "Saved annotated image: ../data/test/python/sandbox_run/cv2/images/test_light_140_result.jpg\n",
      "match result:  (0.028824083507061005, 0.028824083507061005, (0, 0), (0, 0))\n",
      "match result:  (0.06884580105543137, 0.06884580105543137, (0, 0), (0, 0))\n",
      "Saved annotated image: ../data/test/python/sandbox_run/cv2/images/test_light_140_result_tmatch.jpg\n",
      "Error: detections need to find 4 codes but found 2\n",
      "Processing: ../data/test/samples/test_marks.JPG\n",
      "[{'x_min': 3317.0, 'y_min': 2600.667, 'x_max': 3557.0, 'y_max': 2894.2947, 'label': 'QR 0'}, {'x_min': 2364.7778, 'y_min': 1623.0138, 'x_max': 2547.1968, 'y_max': 1855.8821, 'label': 'QR 1'}, {'x_min': 3360.4148, 'y_min': 1623.0, 'x_max': 3615.5322, 'y_max': 1899.5979, 'label': 'QR 2'}, {'x_min': 1993.0, 'y_min': 21.0, 'x_max': 5709.0, 'y_max': 1544.0, 'label': 'QR 3'}, {'x_min': 2328.4646, 'y_min': 2476.3237, 'x_max': 2507.452, 'y_max': 2722.0, 'label': 'QR 4'}]\n",
      "Saved annotated image: ../data/test/python/sandbox_run/cv2/images/test_marks_result.jpg\n",
      "match result:  (0.09911054372787476, 0.09911054372787476, (0, 0), (0, 0))\n",
      "match result:  (0.013012969866394997, 0.013012969866394997, (0, 0), (0, 0))\n",
      "match result:  (0.10503210872411728, 0.10503210872411728, (0, 0), (0, 0))\n",
      "match result:  (-0.14484745264053345, -0.14484745264053345, (0, 0), (0, 0))\n",
      "match result:  (0.14061689376831055, 0.14061689376831055, (0, 0), (0, 0))\n",
      "Saved annotated image: ../data/test/python/sandbox_run/cv2/images/test_marks_result_tmatch.jpg\n",
      "saved to ../data/test/python/sandbox_run/cv2/images/test_marks_output.jpg\n",
      "Processing: ../data/test/samples/test_light_70.JPG\n",
      "[{'x_min': 1519.958, 'y_min': 3262.205, 'x_max': 1664.7828, 'y_max': 3482.7305, 'label': 'QR 0'}, {'x_min': 2397.0, 'y_min': 2430.8281, 'x_max': 2625.1262, 'y_max': 2693.0, 'label': 'QR 1'}, {'x_min': 1533.0, 'y_min': 2491.0, 'x_max': 1682.0, 'y_max': 2703.0, 'label': 'QR 2'}, {'x_min': 2388.365, 'y_min': 3357.0, 'x_max': 2597.9822, 'y_max': 3632.9995, 'label': 'QR 3'}]\n",
      "Saved annotated image: ../data/test/python/sandbox_run/cv2/images/test_light_70_result.jpg\n",
      "match result:  (0.07993514090776443, 0.07993514090776443, (0, 0), (0, 0))\n",
      "match result:  (0.08385013788938522, 0.08385013788938522, (0, 0), (0, 0))\n",
      "match result:  (0.0039521376602351665, 0.0039521376602351665, (0, 0), (0, 0))\n",
      "match result:  (0.036389514803886414, 0.036389514803886414, (0, 0), (0, 0))\n",
      "Saved annotated image: ../data/test/python/sandbox_run/cv2/images/test_light_70_result_tmatch.jpg\n",
      "saved to ../data/test/python/sandbox_run/cv2/images/test_light_70_output.jpg\n",
      "Processing: ../data/test/samples/test_70.JPG\n",
      "[{'x_min': 1394.0, 'y_min': 1639.8494, 'x_max': 1608.0846, 'y_max': 1982.2845, 'label': 'QR 0'}, {'x_min': 2687.0, 'y_min': 2867.0, 'x_max': 3007.6165, 'y_max': 3261.6165, 'label': 'QR 1'}, {'x_min': 1415.7003, 'y_min': 2816.0, 'x_max': 1617.0, 'y_max': 3125.0, 'label': 'QR 2'}, {'x_min': 2684.0, 'y_min': 1410.3877, 'x_max': 3033.2861, 'y_max': 1854.0, 'label': 'QR 3'}]\n",
      "Saved annotated image: ../data/test/python/sandbox_run/cv2/images/test_70_result.jpg\n",
      "match result:  (0.04321359097957611, 0.04321359097957611, (0, 0), (0, 0))\n",
      "match result:  (-0.0005621933960355818, -0.0005621933960355818, (0, 0), (0, 0))\n",
      "match result:  (0.05159475654363632, 0.05159475654363632, (0, 0), (0, 0))\n",
      "match result:  (0.15256835520267487, 0.15256835520267487, (0, 0), (0, 0))\n",
      "Saved annotated image: ../data/test/python/sandbox_run/cv2/images/test_70_result_tmatch.jpg\n",
      "saved to ../data/test/python/sandbox_run/cv2/images/test_70_output.jpg\n",
      "Processing: ../data/test/samples/test_100.JPG\n",
      "[{'x_min': 2596.0, 'y_min': 2022.638, 'x_max': 2828.4312, 'y_max': 2307.0, 'label': 'QR 0'}, {'x_min': 1663.759, 'y_min': 2964.667, 'x_max': 1820.0, 'y_max': 3189.8425, 'label': 'QR 1'}, {'x_min': 2596.0, 'y_min': 2999.0, 'x_max': 2811.1887, 'y_max': 3265.837, 'label': 'QR 2'}, {'x_min': 1659.0, 'y_min': 2119.689, 'x_max': 1822.1226, 'y_max': 2358.0, 'label': 'QR 3'}]\n",
      "Saved annotated image: ../data/test/python/sandbox_run/cv2/images/test_100_result.jpg\n",
      "match result:  (0.12533055245876312, 0.12533055245876312, (0, 0), (0, 0))\n",
      "match result:  (0.022881146520376205, 0.022881146520376205, (0, 0), (0, 0))\n",
      "match result:  (-0.008468247018754482, -0.008468247018754482, (0, 0), (0, 0))\n",
      "match result:  (0.025404101237654686, 0.025404101237654686, (0, 0), (0, 0))\n",
      "Saved annotated image: ../data/test/python/sandbox_run/cv2/images/test_100_result_tmatch.jpg\n",
      "saved to ../data/test/python/sandbox_run/cv2/images/test_100_output.jpg\n",
      "Processing: ../data/test/samples/test_light_80.JPG\n",
      "[{'x_min': 1632.1788, 'y_min': 3150.1353, 'x_max': 1763.921, 'y_max': 3345.4001, 'label': 'QR 0'}, {'x_min': 2416.0, 'y_min': 2432.3975, 'x_max': 2616.0732, 'y_max': 2658.0, 'label': 'QR 1'}, {'x_min': 1649.0, 'y_min': 2468.4111, 'x_max': 1785.0739, 'y_max': 2655.0, 'label': 'QR 2'}, {'x_min': 2400.0283, 'y_min': 3235.0, 'x_max': 2582.0, 'y_max': 3472.572, 'label': 'QR 3'}]\n",
      "Saved annotated image: ../data/test/python/sandbox_run/cv2/images/test_light_80_result.jpg\n",
      "match result:  (0.09201082587242126, 0.09201082587242126, (0, 0), (0, 0))\n",
      "match result:  (0.07456733286380768, 0.07456733286380768, (0, 0), (0, 0))\n",
      "match result:  (0.008854726329445839, 0.008854726329445839, (0, 0), (0, 0))\n",
      "match result:  (0.044502150267362595, 0.044502150267362595, (0, 0), (0, 0))\n",
      "Saved annotated image: ../data/test/python/sandbox_run/cv2/images/test_light_80_result_tmatch.jpg\n",
      "saved to ../data/test/python/sandbox_run/cv2/images/test_light_80_output.jpg\n",
      "Processing: ../data/test/samples/test_130.JPG\n",
      "[{'x_min': 1793.7345, 'y_min': 3074.1233, 'x_max': 1919.0, 'y_max': 3250.6067, 'label': 'QR 0'}, {'x_min': 2515.0, 'y_min': 2401.0, 'x_max': 2689.0, 'y_max': 2601.0, 'label': 'QR 1'}, {'x_min': 1800.0, 'y_min': 2430.0, 'x_max': 1930.0, 'y_max': 2606.0327, 'label': 'QR 2'}, {'x_min': 2509.4224, 'y_min': 3118.0, 'x_max': 2666.9966, 'y_max': 3319.7437, 'label': 'QR 3'}]\n",
      "Saved annotated image: ../data/test/python/sandbox_run/cv2/images/test_130_result.jpg\n",
      "match result:  (0.040677689015865326, 0.040677689015865326, (0, 0), (0, 0))\n",
      "match result:  (0.07992710173130035, 0.07992710173130035, (0, 0), (0, 0))\n",
      "match result:  (-0.00031167411361820996, -0.00031167411361820996, (0, 0), (0, 0))\n",
      "match result:  (0.01233607530593872, 0.01233607530593872, (0, 0), (0, 0))\n",
      "Saved annotated image: ../data/test/python/sandbox_run/cv2/images/test_130_result_tmatch.jpg\n",
      "saved to ../data/test/python/sandbox_run/cv2/images/test_130_output.jpg\n",
      "Processing: ../data/test/samples/test_80.JPG\n",
      "[{'x_min': 1496.0, 'y_min': 2127.3955, 'x_max': 1689.1326, 'y_max': 2416.0, 'label': 'QR 0'}, {'x_min': 2636.0, 'y_min': 3202.0, 'x_max': 2912.022, 'y_max': 3540.4526, 'label': 'QR 1'}, {'x_min': 2631.0, 'y_min': 1982.8735, 'x_max': 2921.2644, 'y_max': 2340.0, 'label': 'QR 2'}, {'x_min': 1502.6378, 'y_min': 3149.0, 'x_max': 1688.0, 'y_max': 3424.389, 'label': 'QR 3'}]\n",
      "Saved annotated image: ../data/test/python/sandbox_run/cv2/images/test_80_result.jpg\n",
      "match result:  (0.028581656515598297, 0.028581656515598297, (0, 0), (0, 0))\n",
      "match result:  (0.013034245930612087, 0.013034245930612087, (0, 0), (0, 0))\n",
      "match result:  (0.12965019047260284, 0.12965019047260284, (0, 0), (0, 0))\n",
      "match result:  (0.0429084450006485, 0.0429084450006485, (0, 0), (0, 0))\n",
      "Saved annotated image: ../data/test/python/sandbox_run/cv2/images/test_80_result_tmatch.jpg\n",
      "saved to ../data/test/python/sandbox_run/cv2/images/test_80_output.jpg\n",
      "Processing: ../data/test/samples/test_120.JPG\n",
      "[{'x_min': 2471.0, 'y_min': 2369.6733, 'x_max': 2651.3357, 'y_max': 2587.0, 'label': 'QR 0'}, {'x_min': 1712.2913, 'y_min': 3102.819, 'x_max': 1843.0077, 'y_max': 3288.3667, 'label': 'QR 1'}, {'x_min': 1712.0, 'y_min': 2421.0, 'x_max': 1847.0, 'y_max': 2609.0, 'label': 'QR 2'}, {'x_min': 2471.0, 'y_min': 3134.0, 'x_max': 2640.0376, 'y_max': 3346.1855, 'label': 'QR 3'}]\n",
      "Saved annotated image: ../data/test/python/sandbox_run/cv2/images/test_120_result.jpg\n",
      "match result:  (0.0934489443898201, 0.0934489443898201, (0, 0), (0, 0))\n",
      "match result:  (0.030398253351449966, 0.030398253351449966, (0, 0), (0, 0))\n",
      "match result:  (0.01802830770611763, 0.01802830770611763, (0, 0), (0, 0))\n",
      "match result:  (0.0031551974825561047, 0.0031551974825561047, (0, 0), (0, 0))\n",
      "Saved annotated image: ../data/test/python/sandbox_run/cv2/images/test_120_result_tmatch.jpg\n",
      "saved to ../data/test/python/sandbox_run/cv2/images/test_120_output.jpg\n",
      "Processing: ../data/test/samples/test_90.JPG\n",
      "[{'x_min': 1587.0, 'y_min': 2251.39, 'x_max': 1765.1676, 'y_max': 2500.0, 'label': 'QR 0'}, {'x_min': 1576.1646, 'y_min': 3147.7441, 'x_max': 1746.0, 'y_max': 3395.4216, 'label': 'QR 1'}, {'x_min': 2577.4863, 'y_min': 3220.0, 'x_max': 2810.994, 'y_max': 3517.8765, 'label': 'QR 2'}, {'x_min': 2588.0, 'y_min': 2174.692, 'x_max': 2842.3918, 'y_max': 2473.0, 'label': 'QR 3'}]\n",
      "Saved annotated image: ../data/test/python/sandbox_run/cv2/images/test_90_result.jpg\n",
      "match result:  (0.029179802164435387, 0.029179802164435387, (0, 0), (0, 0))\n",
      "match result:  (0.054851364344358444, 0.054851364344358444, (0, 0), (0, 0))\n",
      "match result:  (0.006438137963414192, 0.006438137963414192, (0, 0), (0, 0))\n",
      "match result:  (0.10121765732765198, 0.10121765732765198, (0, 0), (0, 0))\n",
      "Saved annotated image: ../data/test/python/sandbox_run/cv2/images/test_90_result_tmatch.jpg\n",
      "saved to ../data/test/python/sandbox_run/cv2/images/test_90_output.jpg\n",
      "Processing: ../data/test/samples/test_light_90.JPG\n",
      "[{'x_min': 1604.1815, 'y_min': 3114.5056, 'x_max': 1725.0, 'y_max': 3289.0361, 'label': 'QR 0'}, {'x_min': 2314.0, 'y_min': 2467.438, 'x_max': 2491.1755, 'y_max': 2668.0, 'label': 'QR 1'}, {'x_min': 1617.0, 'y_min': 2495.0, 'x_max': 1741.0, 'y_max': 2663.0, 'label': 'QR 2'}, {'x_min': 2304.0, 'y_min': 3182.0, 'x_max': 2463.0, 'y_max': 3389.0144, 'label': 'QR 3'}]\n",
      "Saved annotated image: ../data/test/python/sandbox_run/cv2/images/test_light_90_result.jpg\n",
      "match result:  (0.07263784855604172, 0.07263784855604172, (0, 0), (0, 0))\n",
      "match result:  (0.06404998898506165, 0.06404998898506165, (0, 0), (0, 0))\n",
      "match result:  (-0.011697746813297272, -0.011697746813297272, (0, 0), (0, 0))\n",
      "match result:  (0.020614590495824814, 0.020614590495824814, (0, 0), (0, 0))\n",
      "Saved annotated image: ../data/test/python/sandbox_run/cv2/images/test_light_90_result_tmatch.jpg\n",
      "Error: detections need to find 4 codes but found 3\n",
      "Processing: ../data/test/samples/test_light_110.JPG\n",
      "[{'x_min': 1680.013, 'y_min': 3027.7073, 'x_max': 1782.0, 'y_max': 3173.0, 'label': 'QR 0'}, {'x_min': 1680.0, 'y_min': 2496.6758, 'x_max': 1787.0767, 'y_max': 2642.0, 'label': 'QR 1'}, {'x_min': 2270.0, 'y_min': 3068.775, 'x_max': 2402.9758, 'y_max': 3238.0696, 'label': 'QR 2'}, {'x_min': 2273.0, 'y_min': 2470.4158, 'x_max': 2416.7473, 'y_max': 2639.0, 'label': 'QR 3'}]\n",
      "Saved annotated image: ../data/test/python/sandbox_run/cv2/images/test_light_110_result.jpg\n",
      "match result:  (0.028422173112630844, 0.028422173112630844, (0, 0), (0, 0))\n",
      "match result:  (0.004324400797486305, 0.004324400797486305, (0, 0), (0, 0))\n",
      "match result:  (0.01636466011404991, 0.01636466011404991, (0, 0), (0, 0))\n",
      "match result:  (0.05615421384572983, 0.05615421384572983, (0, 0), (0, 0))\n",
      "Saved annotated image: ../data/test/python/sandbox_run/cv2/images/test_light_110_result_tmatch.jpg\n",
      "saved to ../data/test/python/sandbox_run/cv2/images/test_light_110_output.jpg\n",
      "Processing: ../data/test/samples/test_140.JPG\n",
      "[{'x_min': 2321.0, 'y_min': 3123.0, 'x_max': 2467.0522, 'y_max': 3305.885, 'label': 'QR 0'}, {'x_min': 1654.9133, 'y_min': 3094.0, 'x_max': 1771.0, 'y_max': 3256.323, 'label': 'QR 1'}, {'x_min': 2320.0, 'y_min': 2460.5781, 'x_max': 2477.0781, 'y_max': 2647.1938, 'label': 'QR 2'}, {'x_min': 1654.0176, 'y_min': 2491.0854, 'x_max': 1775.2887, 'y_max': 2658.0356, 'label': 'QR 3'}]\n",
      "Saved annotated image: ../data/test/python/sandbox_run/cv2/images/test_140_result.jpg\n",
      "match result:  (-0.00035025650868192315, -0.00035025650868192315, (0, 0), (0, 0))\n",
      "match result:  (0.02898130938410759, 0.02898130938410759, (0, 0), (0, 0))\n",
      "match result:  (0.09671597927808762, 0.09671597927808762, (0, 0), (0, 0))\n",
      "match result:  (0.02423771843314171, 0.02423771843314171, (0, 0), (0, 0))\n",
      "Saved annotated image: ../data/test/python/sandbox_run/cv2/images/test_140_result_tmatch.jpg\n",
      "saved to ../data/test/python/sandbox_run/cv2/images/test_140_output.jpg\n",
      "Processing: ../data/test/samples/test_light_100.JPG\n",
      "[{'x_min': 2307.0, 'y_min': 3127.0, 'x_max': 2452.3005, 'y_max': 3312.6753, 'label': 'QR 0'}, {'x_min': 1673.0498, 'y_min': 3069.5454, 'x_max': 1784.7743, 'y_max': 3227.3557, 'label': 'QR 1'}, {'x_min': 1685.0, 'y_min': 2504.9326, 'x_max': 1799.4225, 'y_max': 2660.0535, 'label': 'QR 2'}, {'x_min': 2320.0, 'y_min': 2486.2295, 'x_max': 2476.5928, 'y_max': 2666.2295, 'label': 'QR 3'}]\n",
      "Saved annotated image: ../data/test/python/sandbox_run/cv2/images/test_light_100_result.jpg\n",
      "match result:  (0.031694699078798294, 0.031694699078798294, (0, 0), (0, 0))\n",
      "match result:  (0.05826357379555702, 0.05826357379555702, (0, 0), (0, 0))\n",
      "match result:  (0.0018363099079579115, 0.0018363099079579115, (0, 0), (0, 0))\n",
      "match result:  (0.05965432897210121, 0.05965432897210121, (0, 0), (0, 0))\n",
      "Saved annotated image: ../data/test/python/sandbox_run/cv2/images/test_light_100_result_tmatch.jpg\n",
      "saved to ../data/test/python/sandbox_run/cv2/images/test_light_100_output.jpg\n"
     ]
    }
   ],
   "source": [
    "test_dir = \"../data/test/samples/\"\n",
    "output_dir = \"../data/test/python/sandbox_run/cv2\"\n",
    "\n",
    "# Run QR code detection and save results for each image in the test directory\n",
    "for file in os.listdir(test_dir):\n",
    "    filepath = os.path.join(test_dir, file)\n",
    "    image_name = os.path.splitext(os.path.basename(filepath))[0]\n",
    "    print(f\"Processing: {filepath}\")\n",
    "    image = cv2.imread(filepath)\n",
    "    if image is None:\n",
    "        raise ValueError(f\"Error: Could not load image at {filepath}\")\n",
    "\n",
    "    # initial detection step\n",
    "    cv2_detections, cv2_labels = qr_code_detector(image)\n",
    "    print(cv2_detections)\n",
    "    save_annotated_image( image, cv2_detections, output_dir, image_name)\n",
    "\n",
    "    # template matching validation\n",
    "    template = cv2.imread(\"../data/qr_codes/qr_tr.png\")\n",
    "    filtered_detections = validate_and_redetect(image, cv2_detections, template, pyramid_levels=3, threshold=-0.01)\n",
    "    save_annotated_image(image, filtered_detections, output_dir, image_name, suffix=\"_tmatch\")\n",
    "\n",
    "    # get detections\n",
    "    if len(filtered_detections) == 4:\n",
    "        src_points, tl_point, br_point = format_detections_for_transform(filtered_detections, image.shape)\n",
    "    else:\n",
    "        print(f\"Error: detections need to find 4 codes but found {len(filtered_detections)}\")\n",
    "        #sys.exit(1)\n",
    "        continue\n",
    "\n",
    "    # get homography\n",
    "    homography = find_four_point_transform(src_points, dst_points)\n",
    "\n",
    "    # warp based on homography and crop to tl corner and br corner\n",
    "    warped = cv2.warpPerspective(image, homography, (image.shape[1],image.shape[0]))\n",
    "    warped_and_cropped = crop_to_corners(warped, tl_point, br_point, homography)\n",
    "    file_string = f\"{output_dir}/images/{image_name}_output.jpg\"\n",
    "    cv2.imwrite(file_string,warped_and_cropped)\n",
    "    print(f\"saved to {file_string}\")"
   ]
  },
  {
   "cell_type": "code",
   "execution_count": null,
   "metadata": {},
   "outputs": [],
   "source": []
  }
 ],
 "metadata": {
  "kernelspec": {
   "display_name": ".venv",
   "language": "python",
   "name": "python3"
  },
  "language_info": {
   "codemirror_mode": {
    "name": "ipython",
    "version": 3
   },
   "file_extension": ".py",
   "mimetype": "text/x-python",
   "name": "python",
   "nbconvert_exporter": "python",
   "pygments_lexer": "ipython3",
   "version": "3.11.11"
  }
 },
 "nbformat": 4,
 "nbformat_minor": 2
}
